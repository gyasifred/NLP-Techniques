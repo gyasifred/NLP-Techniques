{
 "cells": [
  {
   "cell_type": "markdown",
   "id": "9df94a73",
   "metadata": {},
   "source": [
    "This notebook will demonstrate how to use the sklearn CountVectorizer"
   ]
  },
  {
   "cell_type": "markdown",
   "id": "5678c62f",
   "metadata": {},
   "source": [
    "### Import Dependencies"
   ]
  },
  {
   "cell_type": "code",
   "execution_count": 1,
   "id": "f342f1fb",
   "metadata": {},
   "outputs": [],
   "source": [
    "import numpy as np\n",
    "import pandas as pd\n",
    "from sklearn.feature_extraction.text import CountVectorizer\n",
    "from sklearn.naive_bayes import MultinomialNB\n",
    "from sklearn.model_selection import train_test_split\n",
    "\n",
    "import nltk\n",
    "from nltk import word_tokenize\n",
    "from nltk.stem import WordNetLemmatizer, PorterStemmer\n",
    "from nltk.corpus import wordnet"
   ]
  },
  {
   "cell_type": "code",
   "execution_count": 2,
   "id": "7c26ef7d",
   "metadata": {},
   "outputs": [
    {
     "name": "stderr",
     "output_type": "stream",
     "text": [
      "[nltk_data] Downloading package wordnet to /home/kgyasi/nltk_data...\n",
      "[nltk_data]   Package wordnet is already up-to-date!\n",
      "[nltk_data] Downloading package punkt to /home/kgyasi/nltk_data...\n",
      "[nltk_data]   Package punkt is already up-to-date!\n",
      "[nltk_data] Downloading package averaged_perceptron_tagger to\n",
      "[nltk_data]     /home/kgyasi/nltk_data...\n",
      "[nltk_data]   Package averaged_perceptron_tagger is already up-to-\n",
      "[nltk_data]       date!\n",
      "[nltk_data] Downloading package omw-1.4 to /home/kgyasi/nltk_data...\n"
     ]
    },
    {
     "data": {
      "text/plain": [
       "True"
      ]
     },
     "execution_count": 2,
     "metadata": {},
     "output_type": "execute_result"
    }
   ],
   "source": [
    "# download the necessary nltk documents that will be required\n",
    "nltk.download(\"wordnet\")\n",
    "nltk.download(\"punkt\")\n",
    "nltk.download('averaged_perceptron_tagger')\n",
    "nltk.download('omw-1.4')"
   ]
  },
  {
   "cell_type": "code",
   "execution_count": 3,
   "id": "e34a652d",
   "metadata": {},
   "outputs": [
    {
     "name": "stdout",
     "output_type": "stream",
     "text": [
      "--2023-07-23 18:16:59--  https://lazyprogrammer.me/course_files/nlp/bbc_text_cls.csv\n",
      "Resolving lazyprogrammer.me (lazyprogrammer.me)... 104.21.23.210, 172.67.213.166, 2606:4700:3030::ac43:d5a6, ...\n",
      "Connecting to lazyprogrammer.me (lazyprogrammer.me)|104.21.23.210|:443... connected.\n",
      "HTTP request sent, awaiting response... 200 OK\n",
      "Length: 5085081 (4.8M) [text/csv]\n",
      "Saving to: ‘bbc_text_cls.csv’\n",
      "\n",
      "bbc_text_cls.csv    100%[===================>]   4.85M   581KB/s    in 11s     \n",
      "\n",
      "2023-07-23 18:17:13 (453 KB/s) - ‘bbc_text_cls.csv’ saved [5085081/5085081]\n",
      "\n"
     ]
    }
   ],
   "source": [
    "# download the BBC news dataset\n",
    "!wget -nc  https://lazyprogrammer.me/course_files/nlp/bbc_text_cls.csv"
   ]
  },
  {
   "cell_type": "code",
   "execution_count": 4,
   "id": "fe8b5efa",
   "metadata": {},
   "outputs": [],
   "source": [
    "# load the bbc news datase with pandas\n",
    "bbc = pd.read_csv(\"bbc_text_cls.csv\", encoding= \"utf-8\")"
   ]
  },
  {
   "cell_type": "code",
   "execution_count": 5,
   "id": "7583e48f",
   "metadata": {},
   "outputs": [
    {
     "data": {
      "text/html": [
       "<div>\n",
       "<style scoped>\n",
       "    .dataframe tbody tr th:only-of-type {\n",
       "        vertical-align: middle;\n",
       "    }\n",
       "\n",
       "    .dataframe tbody tr th {\n",
       "        vertical-align: top;\n",
       "    }\n",
       "\n",
       "    .dataframe thead th {\n",
       "        text-align: right;\n",
       "    }\n",
       "</style>\n",
       "<table border=\"1\" class=\"dataframe\">\n",
       "  <thead>\n",
       "    <tr style=\"text-align: right;\">\n",
       "      <th></th>\n",
       "      <th>text</th>\n",
       "      <th>labels</th>\n",
       "    </tr>\n",
       "  </thead>\n",
       "  <tbody>\n",
       "    <tr>\n",
       "      <th>0</th>\n",
       "      <td>Ad sales boost Time Warner profit\\n\\nQuarterly...</td>\n",
       "      <td>business</td>\n",
       "    </tr>\n",
       "    <tr>\n",
       "      <th>1</th>\n",
       "      <td>Dollar gains on Greenspan speech\\n\\nThe dollar...</td>\n",
       "      <td>business</td>\n",
       "    </tr>\n",
       "    <tr>\n",
       "      <th>2</th>\n",
       "      <td>Yukos unit buyer faces loan claim\\n\\nThe owner...</td>\n",
       "      <td>business</td>\n",
       "    </tr>\n",
       "    <tr>\n",
       "      <th>3</th>\n",
       "      <td>High fuel prices hit BA's profits\\n\\nBritish A...</td>\n",
       "      <td>business</td>\n",
       "    </tr>\n",
       "    <tr>\n",
       "      <th>4</th>\n",
       "      <td>Pernod takeover talk lifts Domecq\\n\\nShares in...</td>\n",
       "      <td>business</td>\n",
       "    </tr>\n",
       "  </tbody>\n",
       "</table>\n",
       "</div>"
      ],
      "text/plain": [
       "                                                text    labels\n",
       "0  Ad sales boost Time Warner profit\\n\\nQuarterly...  business\n",
       "1  Dollar gains on Greenspan speech\\n\\nThe dollar...  business\n",
       "2  Yukos unit buyer faces loan claim\\n\\nThe owner...  business\n",
       "3  High fuel prices hit BA's profits\\n\\nBritish A...  business\n",
       "4  Pernod takeover talk lifts Domecq\\n\\nShares in...  business"
      ]
     },
     "execution_count": 5,
     "metadata": {},
     "output_type": "execute_result"
    }
   ],
   "source": [
    "#previw the dataset\n",
    "bbc.head()"
   ]
  },
  {
   "cell_type": "code",
   "execution_count": 6,
   "id": "5f0b7c67",
   "metadata": {},
   "outputs": [],
   "source": [
    "# Get the inputs and labels \n",
    "inputs = bbc.text\n",
    "labels = bbc.labels"
   ]
  },
  {
   "cell_type": "code",
   "execution_count": 7,
   "id": "c32a1495",
   "metadata": {},
   "outputs": [
    {
     "data": {
      "text/plain": [
       "<AxesSubplot:>"
      ]
     },
     "execution_count": 7,
     "metadata": {},
     "output_type": "execute_result"
    },
    {
     "data": {
      "image/png": "[encoded data removed]",
      "text/plain": [
       "<Figure size 432x288 with 1 Axes>"
      ]
     },
     "metadata": {
      "needs_background": "light"
     },
     "output_type": "display_data"
    }
   ],
   "source": [
    "#Plot a histogram to check the distribution of the labels\n",
    "labels.hist()"
   ]
  },
  {
   "cell_type": "markdown",
   "id": "b6d745b0",
   "metadata": {},
   "source": [
    "## Train_test_split"
   ]
  },
  {
   "cell_type": "code",
   "execution_count": 10,
   "id": "b1a453e9",
   "metadata": {},
   "outputs": [],
   "source": [
    "input_train, input_test, y_train, y_test = train_test_split(inputs, labels, test_size = 0.2, random_state = 42)"
   ]
  },
  {
   "cell_type": "code",
   "execution_count": 12,
   "id": "f8780cc7",
   "metadata": {},
   "outputs": [
    {
     "data": {
      "text/plain": [
       "CountVectorizer()"
      ]
     },
     "execution_count": 12,
     "metadata": {},
     "output_type": "execute_result"
    }
   ],
   "source": [
    "# Create word to index mapping using the CountVectorizer class\n",
    "\n",
    "#with default parameters\n",
    "\n",
    "vectorizer = CountVectorizer()\n",
    "#fit to train set\n",
    "vectorizer.fit(input_train)"
   ]
  },
  {
   "cell_type": "code",
   "execution_count": 14,
   "id": "f2f71159",
   "metadata": {},
   "outputs": [],
   "source": [
    "x_train = vectorizer.transform(input_train)\n",
    "x_test = vectorizer.transform(input_test)"
   ]
  },
  {
   "cell_type": "markdown",
   "id": "7ae2dd33",
   "metadata": {},
   "source": [
    "Remember that the result is a sparse matrix"
   ]
  },
  {
   "cell_type": "code",
   "execution_count": 15,
   "id": "02a8a603",
   "metadata": {},
   "outputs": [
    {
     "data": {
      "text/plain": [
       "<1780x26762 sparse matrix of type '<class 'numpy.int64'>'\n",
       "\twith 358989 stored elements in Compressed Sparse Row format>"
      ]
     },
     "execution_count": 15,
     "metadata": {},
     "output_type": "execute_result"
    }
   ],
   "source": [
    "x_train"
   ]
  },
  {
   "cell_type": "code",
   "execution_count": 18,
   "id": "10254ae3",
   "metadata": {},
   "outputs": [
    {
     "data": {
      "text/plain": [
       "array([[0, 0, 0, ..., 0, 0, 0],\n",
       "       [0, 2, 0, ..., 0, 0, 0],\n",
       "       [0, 1, 0, ..., 0, 0, 0],\n",
       "       ...,\n",
       "       [0, 0, 0, ..., 0, 0, 0],\n",
       "       [0, 0, 0, ..., 0, 0, 0],\n",
       "       [0, 2, 0, ..., 0, 0, 0]])"
      ]
     },
     "execution_count": 18,
     "metadata": {},
     "output_type": "execute_result"
    }
   ],
   "source": [
    "#use can convert to numpy array using  the to_array\n",
    "x_train.toarray()"
   ]
  },
  {
   "cell_type": "code",
   "execution_count": 22,
   "id": "44395ad6",
   "metadata": {},
   "outputs": [
    {
     "data": {
      "text/plain": [
       "0.007536029201223603"
      ]
     },
     "execution_count": 22,
     "metadata": {},
     "output_type": "execute_result"
    }
   ],
   "source": [
    "# check the percentage of the sparse matrix which are non-zeros\n",
    "(x_train != 0).sum() / np.prod(x_train.shape)"
   ]
  },
  {
   "cell_type": "markdown",
   "id": "d41eab97",
   "metadata": {},
   "source": [
    "### Model"
   ]
  },
  {
   "cell_type": "code",
   "execution_count": 23,
   "id": "158d4abf",
   "metadata": {},
   "outputs": [],
   "source": [
    "model = MultinomialNB()"
   ]
  },
  {
   "cell_type": "code",
   "execution_count": 24,
   "id": "e50f669a",
   "metadata": {},
   "outputs": [
    {
     "data": {
      "text/plain": [
       "MultinomialNB()"
      ]
     },
     "execution_count": 24,
     "metadata": {},
     "output_type": "execute_result"
    }
   ],
   "source": [
    "model.fit(x_train, y_train)"
   ]
  },
  {
   "cell_type": "code",
   "execution_count": 29,
   "id": "36d82de0",
   "metadata": {},
   "outputs": [
    {
     "name": "stdout",
     "output_type": "stream",
     "text": [
      "Train Score: 0.9943820224719101\n",
      "Test Score: 0.9730337078651685\n"
     ]
    }
   ],
   "source": [
    "# check model performance on training and test sets\n",
    "print(f'Train Score: {model.score(x_train, y_train)}')\n",
    "print(f'Test Score: {model.score(x_test, y_test)}')"
   ]
  },
  {
   "cell_type": "markdown",
   "id": "5bc9665c",
   "metadata": {},
   "source": [
    "Lrt repeat the procedure above with different variation using stop words, lematization, stemming, simple white space split"
   ]
  },
  {
   "cell_type": "code",
   "execution_count": 30,
   "id": "d5e79c7f",
   "metadata": {},
   "outputs": [
    {
     "name": "stdout",
     "output_type": "stream",
     "text": [
      "Train Score: 0.9960674157303371\n",
      "Test Score: 0.9730337078651685\n"
     ]
    }
   ],
   "source": [
    "# with stop words \n",
    "\n",
    "vectorizer = CountVectorizer(stop_words= 'english')\n",
    "#fit to train set\n",
    "vectorizer.fit(input_train)\n",
    "x_train = vectorizer.transform(input_train)\n",
    "x_test = vectorizer.transform(input_test)\n",
    "model = MultinomialNB()\n",
    "model.fit(x_train, y_train)\n",
    "# check model performance on training and test sets\n",
    "print(f'Train Score: {model.score(x_train, y_train)}')\n",
    "print(f'Test Score: {model.score(x_test, y_test)}')"
   ]
  },
  {
   "cell_type": "code",
   "execution_count": 32,
   "id": "83cb48f3",
   "metadata": {},
   "outputs": [],
   "source": [
    "def get_wordnet_pos(treebank_tag):\n",
    "    \"\"\"\n",
    "    Map Penn Treebank POS tag to WordNet POS tag for lemmatization.\n",
    "    \n",
    "    Parameters:\n",
    "        treebank_tag (str): The Penn Treebank POS tag.\n",
    "        \n",
    "    Returns:\n",
    "        str: The WordNet POS tag.\n",
    "    \"\"\"\n",
    "    if treebank_tag.startswith('J'):\n",
    "        return wordnet.ADJ\n",
    "    elif treebank_tag.startswith('V'):\n",
    "        return wordnet.VERB\n",
    "    elif treebank_tag.startswith('N'):\n",
    "        return wordnet.NOUN\n",
    "    elif treebank_tag.startswith('R'):\n",
    "        return wordnet.ADV\n",
    "    else:\n",
    "        return wordnet.NOUN\n",
    "\n",
    "class LemmaTokenizer:\n",
    "    \"\"\"\n",
    "    Tokenize and lemmatize a text document using NLTK.\n",
    "    \n",
    "    This class provides a custom tokenizer that tokenizes the input text\n",
    "    document and then lemmatizes the tokens using WordNetLemmatizer from NLTK.\n",
    "    The Part-of-Speech tags are used to guide the lemmatization process.\n",
    "    \"\"\"\n",
    "    \n",
    "    def __init__(self):\n",
    "        \"\"\"\n",
    "        Initialize the LemmaTokenizer.\n",
    "        \n",
    "        This constructor initializes the WordNetLemmatizer used for lemmatization.\n",
    "        \"\"\"\n",
    "        self.wnl = WordNetLemmatizer()\n",
    "\n",
    "    def __call__(self, doc):\n",
    "        \"\"\"\n",
    "        Tokenize and lemmatize the input document.\n",
    "        \n",
    "        Parameters:\n",
    "            doc (str): The text document to tokenize and lemmatize.\n",
    "            \n",
    "        Returns:\n",
    "            list: The list of lemmatized tokens.\n",
    "        \"\"\"\n",
    "        # Tokenize the document\n",
    "        tokens = word_tokenize(doc)\n",
    "        \n",
    "        # Perform POS tagging\n",
    "        words_and_tags = nltk.pos_tag(tokens)\n",
    "        \n",
    "        # Lemmatize the tokens based on their POS tags\n",
    "        return [self.wnl.lemmatize(word, pos=get_wordnet_pos(tag)) for word, tag in words_and_tags]\n"
   ]
  },
  {
   "cell_type": "code",
   "execution_count": 33,
   "id": "588724fe",
   "metadata": {},
   "outputs": [
    {
     "name": "stderr",
     "output_type": "stream",
     "text": [
      "/home/kgyasi/anaconda3/lib/python3.9/site-packages/sklearn/feature_extraction/text.py:516: UserWarning: The parameter 'token_pattern' will not be used since 'tokenizer' is not None'\n",
      "  warnings.warn(\n"
     ]
    },
    {
     "name": "stdout",
     "output_type": "stream",
     "text": [
      "Train Score: 0.9932584269662922\n",
      "Test Score: 0.9730337078651685\n"
     ]
    }
   ],
   "source": [
    "# with lematization\n",
    "\n",
    "vectorizer = CountVectorizer(tokenizer=LemmaTokenizer())\n",
    "#fit to train set\n",
    "vectorizer.fit(input_train)\n",
    "x_train = vectorizer.transform(input_train)\n",
    "x_test = vectorizer.transform(input_test)\n",
    "model = MultinomialNB()\n",
    "model.fit(x_train, y_train)\n",
    "# check model performance on training and test sets\n",
    "print(f'Train Score: {model.score(x_train, y_train)}')\n",
    "print(f'Test Score: {model.score(x_test, y_test)}')"
   ]
  },
  {
   "cell_type": "code",
   "execution_count": 34,
   "id": "b6c1af13",
   "metadata": {},
   "outputs": [],
   "source": [
    "class StemTokenizer:\n",
    "    \"\"\"\n",
    "    Tokenize and perform stemming on a text document using NLTK's PorterStemmer.\n",
    "    \n",
    "    This class provides a custom tokenizer that tokenizes the input text\n",
    "    document and then performs stemming using the PorterStemmer from NLTK.\n",
    "    \"\"\"\n",
    "    \n",
    "    def __init__(self):\n",
    "        \"\"\"\n",
    "        Initialize the StemTokenizer.\n",
    "        \n",
    "        This constructor initializes the PorterStemmer used for stemming.\n",
    "        \"\"\"\n",
    "        self.porter = PorterStemmer()\n",
    "\n",
    "    def __call__(self, doc):\n",
    "        \"\"\"\n",
    "        Tokenize and perform stemming on the input document.\n",
    "        \n",
    "        Parameters:\n",
    "            doc (str): The text document to tokenize and stem.\n",
    "            \n",
    "        Returns:\n",
    "            list: The list of stemmed tokens.\n",
    "        \"\"\"\n",
    "        # Tokenize the document\n",
    "        tokens = word_tokenize(doc)\n",
    "        \n",
    "        # Perform stemming on the tokens\n",
    "        return [self.porter.stem(t) for t in tokens]\n"
   ]
  },
  {
   "cell_type": "code",
   "execution_count": 35,
   "id": "de06b97f",
   "metadata": {},
   "outputs": [
    {
     "name": "stderr",
     "output_type": "stream",
     "text": [
      "/home/kgyasi/anaconda3/lib/python3.9/site-packages/sklearn/feature_extraction/text.py:516: UserWarning: The parameter 'token_pattern' will not be used since 'tokenizer' is not None'\n",
      "  warnings.warn(\n"
     ]
    },
    {
     "name": "stdout",
     "output_type": "stream",
     "text": [
      "Train Score: 0.9921348314606742\n",
      "Test Score: 0.9730337078651685\n"
     ]
    }
   ],
   "source": [
    "# with steming\n",
    "vectorizer = CountVectorizer(tokenizer=StemTokenizer())\n",
    "#fit to train set\n",
    "vectorizer.fit(input_train)\n",
    "x_train = vectorizer.transform(input_train)\n",
    "x_test = vectorizer.transform(input_test)\n",
    "model = MultinomialNB()\n",
    "model.fit(x_train, y_train)\n",
    "# check model performance on training and test sets\n",
    "print(f'Train Score: {model.score(x_train, y_train)}')\n",
    "print(f'Test Score: {model.score(x_test, y_test)}')"
   ]
  },
  {
   "cell_type": "code",
   "execution_count": 36,
   "id": "28d4e562",
   "metadata": {},
   "outputs": [],
   "source": [
    "def simple_tokenizer(s):\n",
    "  return s.split()"
   ]
  },
  {
   "cell_type": "code",
   "execution_count": 37,
   "id": "75ede79d",
   "metadata": {},
   "outputs": [
    {
     "name": "stderr",
     "output_type": "stream",
     "text": [
      "/home/kgyasi/anaconda3/lib/python3.9/site-packages/sklearn/feature_extraction/text.py:516: UserWarning: The parameter 'token_pattern' will not be used since 'tokenizer' is not None'\n",
      "  warnings.warn(\n"
     ]
    },
    {
     "name": "stdout",
     "output_type": "stream",
     "text": [
      "Train Score: 0.9977528089887641\n",
      "Test Score: 0.9595505617977528\n"
     ]
    }
   ],
   "source": [
    "# with steming\n",
    "vectorizer = CountVectorizer(tokenizer=simple_tokenizer)\n",
    "#fit to train set\n",
    "vectorizer.fit(input_train)\n",
    "x_train = vectorizer.transform(input_train)\n",
    "x_test = vectorizer.transform(input_test)\n",
    "model = MultinomialNB()\n",
    "model.fit(x_train, y_train)\n",
    "# check model performance on training and test sets\n",
    "print(f'Train Score: {model.score(x_train, y_train)}')\n",
    "print(f'Test Score: {model.score(x_test, y_test)}')"
   ]
  },
  {
   "cell_type": "code",
   "execution_count": null,
   "id": "dfd2db0e",
   "metadata": {},
   "outputs": [],
   "source": []
  }
 ],
 "metadata": {
  "kernelspec": {
   "display_name": "Python 3 (ipykernel)",
   "language": "python",
   "name": "python3"
  },
  "language_info": {
   "codemirror_mode": {
    "name": "ipython",
    "version": 3
   },
   "file_extension": ".py",
   "mimetype": "text/x-python",
   "name": "python",
   "nbconvert_exporter": "python",
   "pygments_lexer": "ipython3",
   "version": "3.9.7"
  }
 },
 "nbformat": 4,
 "nbformat_minor": 5
}
