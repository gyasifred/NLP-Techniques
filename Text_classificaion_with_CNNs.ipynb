{
  "nbformat": 4,
  "nbformat_minor": 0,
  "metadata": {
    "colab": {
      "provenance": [],
      "gpuType": "T4",
      "authorship_tag": "ABX9TyMgF3IWjR5Ir5XPquooLOCY",
      "include_colab_link": true
    },
    "kernelspec": {
      "name": "python3",
      "display_name": "Python 3"
    },
    "language_info": {
      "name": "python"
    },
    "accelerator": "GPU"
  },
  "cells": [
    {
      "cell_type": "markdown",
      "metadata": {
        "id": "view-in-github",
        "colab_type": "text"
      },
      "source": [
        "<a href=\"https://colab.research.google.com/github/gyasifred/NLP-Techniques/blob/main/Text_classificaion_with_CNNs.ipynb\" target=\"_parent\"><img src=\"https://colab.research.google.com/assets/colab-badge.svg\" alt=\"Open In Colab\"/></a>"
      ]
    },
    {
      "cell_type": "markdown",
      "source": [
        "This notebook demonstrates text classification using Convolutional Neural Networks (CNNs)"
      ],
      "metadata": {
        "id": "PGt-Z00eiCLZ"
      }
    },
    {
      "cell_type": "code",
      "execution_count": 1,
      "metadata": {
        "colab": {
          "base_uri": "https://localhost:8080/"
        },
        "id": "_CuT1opwh1kB",
        "outputId": "c171c0f7-a7e8-4f01-a039-535f3b2947f2"
      },
      "outputs": [
        {
          "output_type": "stream",
          "name": "stdout",
          "text": [
            "--2023-07-29 23:44:24--  https://lazyprogrammer.me/course_files/nlp/bbc_text_cls.csv\n",
            "Resolving lazyprogrammer.me (lazyprogrammer.me)... 104.21.23.210, 172.67.213.166, 2606:4700:3030::ac43:d5a6, ...\n",
            "Connecting to lazyprogrammer.me (lazyprogrammer.me)|104.21.23.210|:443... connected.\n",
            "HTTP request sent, awaiting response... 200 OK\n",
            "Length: 5085081 (4.8M) [text/csv]\n",
            "Saving to: ‘bbc_text_cls.csv’\n",
            "\n",
            "bbc_text_cls.csv    100%[===================>]   4.85M  5.44MB/s    in 0.9s    \n",
            "\n",
            "2023-07-29 23:44:26 (5.44 MB/s) - ‘bbc_text_cls.csv’ saved [5085081/5085081]\n",
            "\n"
          ]
        }
      ],
      "source": [
        "#Get data\n",
        "# https://www.kaggle.com/shivamkushwaha/bbc-full-text-document-classification\n",
        "!wget -nc https://lazyprogrammer.me/course_files/nlp/bbc_text_cls.csv"
      ]
    },
    {
      "cell_type": "code",
      "source": [
        "import numpy as np\n",
        "import pandas as pd\n",
        "import tensorflow as tf\n",
        "import matplotlib.pyplot as plt\n",
        "from sklearn.model_selection import train_test_split\n",
        "\n",
        "from tensorflow.keras.preprocessing.text import Tokenizer\n",
        "from tensorflow.keras.preprocessing.sequence import pad_sequences\n",
        "from tensorflow.keras.layers import Dense, Input, GlobalMaxPooling1D\n",
        "from tensorflow.keras.layers import Conv1D, MaxPooling1D, Embedding\n",
        "from tensorflow.keras.models import Model\n",
        "from tensorflow.keras.losses import SparseCategoricalCrossentropy"
      ],
      "metadata": {
        "id": "jYRiWa3hjueH"
      },
      "execution_count": 2,
      "outputs": []
    },
    {
      "cell_type": "code",
      "source": [
        "df = pd.read_csv(\"bbc_text_cls.csv\")\n",
        "df.head()"
      ],
      "metadata": {
        "colab": {
          "base_uri": "https://localhost:8080/",
          "height": 206
        },
        "id": "34hagqPJjzT8",
        "outputId": "eb809a0e-4dbf-4d76-baf8-11601ce53da1"
      },
      "execution_count": 3,
      "outputs": [
        {
          "output_type": "execute_result",
          "data": {
            "text/plain": [
              "                                                text    labels\n",
              "0  Ad sales boost Time Warner profit\\n\\nQuarterly...  business\n",
              "1  Dollar gains on Greenspan speech\\n\\nThe dollar...  business\n",
              "2  Yukos unit buyer faces loan claim\\n\\nThe owner...  business\n",
              "3  High fuel prices hit BA's profits\\n\\nBritish A...  business\n",
              "4  Pernod takeover talk lifts Domecq\\n\\nShares in...  business"
            ],
            "text/html": [
              "\n",
              "\n",
              "  <div id=\"df-e9c61d85-a259-4c66-b2ea-9cd1b4439992\">\n",
              "    <div class=\"colab-df-container\">\n",
              "      <div>\n",
              "<style scoped>\n",
              "    .dataframe tbody tr th:only-of-type {\n",
              "        vertical-align: middle;\n",
              "    }\n",
              "\n",
              "    .dataframe tbody tr th {\n",
              "        vertical-align: top;\n",
              "    }\n",
              "\n",
              "    .dataframe thead th {\n",
              "        text-align: right;\n",
              "    }\n",
              "</style>\n",
              "<table border=\"1\" class=\"dataframe\">\n",
              "  <thead>\n",
              "    <tr style=\"text-align: right;\">\n",
              "      <th></th>\n",
              "      <th>text</th>\n",
              "      <th>labels</th>\n",
              "    </tr>\n",
              "  </thead>\n",
              "  <tbody>\n",
              "    <tr>\n",
              "      <th>0</th>\n",
              "      <td>Ad sales boost Time Warner profit\\n\\nQuarterly...</td>\n",
              "      <td>business</td>\n",
              "    </tr>\n",
              "    <tr>\n",
              "      <th>1</th>\n",
              "      <td>Dollar gains on Greenspan speech\\n\\nThe dollar...</td>\n",
              "      <td>business</td>\n",
              "    </tr>\n",
              "    <tr>\n",
              "      <th>2</th>\n",
              "      <td>Yukos unit buyer faces loan claim\\n\\nThe owner...</td>\n",
              "      <td>business</td>\n",
              "    </tr>\n",
              "    <tr>\n",
              "      <th>3</th>\n",
              "      <td>High fuel prices hit BA's profits\\n\\nBritish A...</td>\n",
              "      <td>business</td>\n",
              "    </tr>\n",
              "    <tr>\n",
              "      <th>4</th>\n",
              "      <td>Pernod takeover talk lifts Domecq\\n\\nShares in...</td>\n",
              "      <td>business</td>\n",
              "    </tr>\n",
              "  </tbody>\n",
              "</table>\n",
              "</div>\n",
              "      <button class=\"colab-df-convert\" onclick=\"convertToInteractive('df-e9c61d85-a259-4c66-b2ea-9cd1b4439992')\"\n",
              "              title=\"Convert this dataframe to an interactive table.\"\n",
              "              style=\"display:none;\">\n",
              "\n",
              "  <svg xmlns=\"http://www.w3.org/2000/svg\" height=\"24px\"viewBox=\"0 0 24 24\"\n",
              "       width=\"24px\">\n",
              "    <path d=\"M0 0h24v24H0V0z\" fill=\"none\"/>\n",
              "    <path d=\"M18.56 5.44l.94 2.06.94-2.06 2.06-.94-2.06-.94-.94-2.06-.94 2.06-2.06.94zm-11 1L8.5 8.5l.94-2.06 2.06-.94-2.06-.94L8.5 2.5l-.94 2.06-2.06.94zm10 10l.94 2.06.94-2.06 2.06-.94-2.06-.94-.94-2.06-.94 2.06-2.06.94z\"/><path d=\"M17.41 7.96l-1.37-1.37c-.4-.4-.92-.59-1.43-.59-.52 0-1.04.2-1.43.59L10.3 9.45l-7.72 7.72c-.78.78-.78 2.05 0 2.83L4 21.41c.39.39.9.59 1.41.59.51 0 1.02-.2 1.41-.59l7.78-7.78 2.81-2.81c.8-.78.8-2.07 0-2.86zM5.41 20L4 18.59l7.72-7.72 1.47 1.35L5.41 20z\"/>\n",
              "  </svg>\n",
              "      </button>\n",
              "\n",
              "\n",
              "\n",
              "    <div id=\"df-6a7a06c7-53b2-4304-9cfe-1c28ff06b608\">\n",
              "      <button class=\"colab-df-quickchart\" onclick=\"quickchart('df-6a7a06c7-53b2-4304-9cfe-1c28ff06b608')\"\n",
              "              title=\"Suggest charts.\"\n",
              "              style=\"display:none;\">\n",
              "\n",
              "<svg xmlns=\"http://www.w3.org/2000/svg\" height=\"24px\"viewBox=\"0 0 24 24\"\n",
              "     width=\"24px\">\n",
              "    <g>\n",
              "        <path d=\"M19 3H5c-1.1 0-2 .9-2 2v14c0 1.1.9 2 2 2h14c1.1 0 2-.9 2-2V5c0-1.1-.9-2-2-2zM9 17H7v-7h2v7zm4 0h-2V7h2v10zm4 0h-2v-4h2v4z\"/>\n",
              "    </g>\n",
              "</svg>\n",
              "      </button>\n",
              "    </div>\n",
              "\n",
              "<style>\n",
              "  .colab-df-quickchart {\n",
              "    background-color: #E8F0FE;\n",
              "    border: none;\n",
              "    border-radius: 50%;\n",
              "    cursor: pointer;\n",
              "    display: none;\n",
              "    fill: #1967D2;\n",
              "    height: 32px;\n",
              "    padding: 0 0 0 0;\n",
              "    width: 32px;\n",
              "  }\n",
              "\n",
              "  .colab-df-quickchart:hover {\n",
              "    background-color: #E2EBFA;\n",
              "    box-shadow: 0px 1px 2px rgba(60, 64, 67, 0.3), 0px 1px 3px 1px rgba(60, 64, 67, 0.15);\n",
              "    fill: #174EA6;\n",
              "  }\n",
              "\n",
              "  [theme=dark] .colab-df-quickchart {\n",
              "    background-color: #3B4455;\n",
              "    fill: #D2E3FC;\n",
              "  }\n",
              "\n",
              "  [theme=dark] .colab-df-quickchart:hover {\n",
              "    background-color: #434B5C;\n",
              "    box-shadow: 0px 1px 3px 1px rgba(0, 0, 0, 0.15);\n",
              "    filter: drop-shadow(0px 1px 2px rgba(0, 0, 0, 0.3));\n",
              "    fill: #FFFFFF;\n",
              "  }\n",
              "</style>\n",
              "\n",
              "    <script>\n",
              "      async function quickchart(key) {\n",
              "        const containerElement = document.querySelector('#' + key);\n",
              "        const charts = await google.colab.kernel.invokeFunction(\n",
              "            'suggestCharts', [key], {});\n",
              "      }\n",
              "    </script>\n",
              "\n",
              "      <script>\n",
              "\n",
              "function displayQuickchartButton(domScope) {\n",
              "  let quickchartButtonEl =\n",
              "    domScope.querySelector('#df-6a7a06c7-53b2-4304-9cfe-1c28ff06b608 button.colab-df-quickchart');\n",
              "  quickchartButtonEl.style.display =\n",
              "    google.colab.kernel.accessAllowed ? 'block' : 'none';\n",
              "}\n",
              "\n",
              "        displayQuickchartButton(document);\n",
              "      </script>\n",
              "      <style>\n",
              "    .colab-df-container {\n",
              "      display:flex;\n",
              "      flex-wrap:wrap;\n",
              "      gap: 12px;\n",
              "    }\n",
              "\n",
              "    .colab-df-convert {\n",
              "      background-color: #E8F0FE;\n",
              "      border: none;\n",
              "      border-radius: 50%;\n",
              "      cursor: pointer;\n",
              "      display: none;\n",
              "      fill: #1967D2;\n",
              "      height: 32px;\n",
              "      padding: 0 0 0 0;\n",
              "      width: 32px;\n",
              "    }\n",
              "\n",
              "    .colab-df-convert:hover {\n",
              "      background-color: #E2EBFA;\n",
              "      box-shadow: 0px 1px 2px rgba(60, 64, 67, 0.3), 0px 1px 3px 1px rgba(60, 64, 67, 0.15);\n",
              "      fill: #174EA6;\n",
              "    }\n",
              "\n",
              "    [theme=dark] .colab-df-convert {\n",
              "      background-color: #3B4455;\n",
              "      fill: #D2E3FC;\n",
              "    }\n",
              "\n",
              "    [theme=dark] .colab-df-convert:hover {\n",
              "      background-color: #434B5C;\n",
              "      box-shadow: 0px 1px 3px 1px rgba(0, 0, 0, 0.15);\n",
              "      filter: drop-shadow(0px 1px 2px rgba(0, 0, 0, 0.3));\n",
              "      fill: #FFFFFF;\n",
              "    }\n",
              "  </style>\n",
              "\n",
              "      <script>\n",
              "        const buttonEl =\n",
              "          document.querySelector('#df-e9c61d85-a259-4c66-b2ea-9cd1b4439992 button.colab-df-convert');\n",
              "        buttonEl.style.display =\n",
              "          google.colab.kernel.accessAllowed ? 'block' : 'none';\n",
              "\n",
              "        async function convertToInteractive(key) {\n",
              "          const element = document.querySelector('#df-e9c61d85-a259-4c66-b2ea-9cd1b4439992');\n",
              "          const dataTable =\n",
              "            await google.colab.kernel.invokeFunction('convertToInteractive',\n",
              "                                                     [key], {});\n",
              "          if (!dataTable) return;\n",
              "\n",
              "          const docLinkHtml = 'Like what you see? Visit the ' +\n",
              "            '<a target=\"_blank\" href=https://colab.research.google.com/notebooks/data_table.ipynb>data table notebook</a>'\n",
              "            + ' to learn more about interactive tables.';\n",
              "          element.innerHTML = '';\n",
              "          dataTable['output_type'] = 'display_data';\n",
              "          await google.colab.output.renderOutput(dataTable, element);\n",
              "          const docLink = document.createElement('div');\n",
              "          docLink.innerHTML = docLinkHtml;\n",
              "          element.appendChild(docLink);\n",
              "        }\n",
              "      </script>\n",
              "    </div>\n",
              "  </div>\n"
            ]
          },
          "metadata": {},
          "execution_count": 3
        }
      ]
    },
    {
      "cell_type": "code",
      "source": [
        "# convert the targets to categorical\n",
        "df['target'] = df['labels'].astype('category').cat.codes"
      ],
      "metadata": {
        "id": "7HpL_Q23j9Y4"
      },
      "execution_count": 4,
      "outputs": []
    },
    {
      "cell_type": "code",
      "source": [
        "df.head()"
      ],
      "metadata": {
        "colab": {
          "base_uri": "https://localhost:8080/",
          "height": 206
        },
        "id": "GEoTxBZqkWgQ",
        "outputId": "cd1b54dc-03de-42d2-d373-3675187fd3f5"
      },
      "execution_count": 5,
      "outputs": [
        {
          "output_type": "execute_result",
          "data": {
            "text/plain": [
              "                                                text    labels  target\n",
              "0  Ad sales boost Time Warner profit\\n\\nQuarterly...  business       0\n",
              "1  Dollar gains on Greenspan speech\\n\\nThe dollar...  business       0\n",
              "2  Yukos unit buyer faces loan claim\\n\\nThe owner...  business       0\n",
              "3  High fuel prices hit BA's profits\\n\\nBritish A...  business       0\n",
              "4  Pernod takeover talk lifts Domecq\\n\\nShares in...  business       0"
            ],
            "text/html": [
              "\n",
              "\n",
              "  <div id=\"df-eb37b18d-4b7a-42b0-91cd-ecb1f23a5fbf\">\n",
              "    <div class=\"colab-df-container\">\n",
              "      <div>\n",
              "<style scoped>\n",
              "    .dataframe tbody tr th:only-of-type {\n",
              "        vertical-align: middle;\n",
              "    }\n",
              "\n",
              "    .dataframe tbody tr th {\n",
              "        vertical-align: top;\n",
              "    }\n",
              "\n",
              "    .dataframe thead th {\n",
              "        text-align: right;\n",
              "    }\n",
              "</style>\n",
              "<table border=\"1\" class=\"dataframe\">\n",
              "  <thead>\n",
              "    <tr style=\"text-align: right;\">\n",
              "      <th></th>\n",
              "      <th>text</th>\n",
              "      <th>labels</th>\n",
              "      <th>target</th>\n",
              "    </tr>\n",
              "  </thead>\n",
              "  <tbody>\n",
              "    <tr>\n",
              "      <th>0</th>\n",
              "      <td>Ad sales boost Time Warner profit\\n\\nQuarterly...</td>\n",
              "      <td>business</td>\n",
              "      <td>0</td>\n",
              "    </tr>\n",
              "    <tr>\n",
              "      <th>1</th>\n",
              "      <td>Dollar gains on Greenspan speech\\n\\nThe dollar...</td>\n",
              "      <td>business</td>\n",
              "      <td>0</td>\n",
              "    </tr>\n",
              "    <tr>\n",
              "      <th>2</th>\n",
              "      <td>Yukos unit buyer faces loan claim\\n\\nThe owner...</td>\n",
              "      <td>business</td>\n",
              "      <td>0</td>\n",
              "    </tr>\n",
              "    <tr>\n",
              "      <th>3</th>\n",
              "      <td>High fuel prices hit BA's profits\\n\\nBritish A...</td>\n",
              "      <td>business</td>\n",
              "      <td>0</td>\n",
              "    </tr>\n",
              "    <tr>\n",
              "      <th>4</th>\n",
              "      <td>Pernod takeover talk lifts Domecq\\n\\nShares in...</td>\n",
              "      <td>business</td>\n",
              "      <td>0</td>\n",
              "    </tr>\n",
              "  </tbody>\n",
              "</table>\n",
              "</div>\n",
              "      <button class=\"colab-df-convert\" onclick=\"convertToInteractive('df-eb37b18d-4b7a-42b0-91cd-ecb1f23a5fbf')\"\n",
              "              title=\"Convert this dataframe to an interactive table.\"\n",
              "              style=\"display:none;\">\n",
              "\n",
              "  <svg xmlns=\"http://www.w3.org/2000/svg\" height=\"24px\"viewBox=\"0 0 24 24\"\n",
              "       width=\"24px\">\n",
              "    <path d=\"M0 0h24v24H0V0z\" fill=\"none\"/>\n",
              "    <path d=\"M18.56 5.44l.94 2.06.94-2.06 2.06-.94-2.06-.94-.94-2.06-.94 2.06-2.06.94zm-11 1L8.5 8.5l.94-2.06 2.06-.94-2.06-.94L8.5 2.5l-.94 2.06-2.06.94zm10 10l.94 2.06.94-2.06 2.06-.94-2.06-.94-.94-2.06-.94 2.06-2.06.94z\"/><path d=\"M17.41 7.96l-1.37-1.37c-.4-.4-.92-.59-1.43-.59-.52 0-1.04.2-1.43.59L10.3 9.45l-7.72 7.72c-.78.78-.78 2.05 0 2.83L4 21.41c.39.39.9.59 1.41.59.51 0 1.02-.2 1.41-.59l7.78-7.78 2.81-2.81c.8-.78.8-2.07 0-2.86zM5.41 20L4 18.59l7.72-7.72 1.47 1.35L5.41 20z\"/>\n",
              "  </svg>\n",
              "      </button>\n",
              "\n",
              "\n",
              "\n",
              "    <div id=\"df-501a66e3-1642-4f5e-8838-76a1d9c25a24\">\n",
              "      <button class=\"colab-df-quickchart\" onclick=\"quickchart('df-501a66e3-1642-4f5e-8838-76a1d9c25a24')\"\n",
              "              title=\"Suggest charts.\"\n",
              "              style=\"display:none;\">\n",
              "\n",
              "<svg xmlns=\"http://www.w3.org/2000/svg\" height=\"24px\"viewBox=\"0 0 24 24\"\n",
              "     width=\"24px\">\n",
              "    <g>\n",
              "        <path d=\"M19 3H5c-1.1 0-2 .9-2 2v14c0 1.1.9 2 2 2h14c1.1 0 2-.9 2-2V5c0-1.1-.9-2-2-2zM9 17H7v-7h2v7zm4 0h-2V7h2v10zm4 0h-2v-4h2v4z\"/>\n",
              "    </g>\n",
              "</svg>\n",
              "      </button>\n",
              "    </div>\n",
              "\n",
              "<style>\n",
              "  .colab-df-quickchart {\n",
              "    background-color: #E8F0FE;\n",
              "    border: none;\n",
              "    border-radius: 50%;\n",
              "    cursor: pointer;\n",
              "    display: none;\n",
              "    fill: #1967D2;\n",
              "    height: 32px;\n",
              "    padding: 0 0 0 0;\n",
              "    width: 32px;\n",
              "  }\n",
              "\n",
              "  .colab-df-quickchart:hover {\n",
              "    background-color: #E2EBFA;\n",
              "    box-shadow: 0px 1px 2px rgba(60, 64, 67, 0.3), 0px 1px 3px 1px rgba(60, 64, 67, 0.15);\n",
              "    fill: #174EA6;\n",
              "  }\n",
              "\n",
              "  [theme=dark] .colab-df-quickchart {\n",
              "    background-color: #3B4455;\n",
              "    fill: #D2E3FC;\n",
              "  }\n",
              "\n",
              "  [theme=dark] .colab-df-quickchart:hover {\n",
              "    background-color: #434B5C;\n",
              "    box-shadow: 0px 1px 3px 1px rgba(0, 0, 0, 0.15);\n",
              "    filter: drop-shadow(0px 1px 2px rgba(0, 0, 0, 0.3));\n",
              "    fill: #FFFFFF;\n",
              "  }\n",
              "</style>\n",
              "\n",
              "    <script>\n",
              "      async function quickchart(key) {\n",
              "        const containerElement = document.querySelector('#' + key);\n",
              "        const charts = await google.colab.kernel.invokeFunction(\n",
              "            'suggestCharts', [key], {});\n",
              "      }\n",
              "    </script>\n",
              "\n",
              "      <script>\n",
              "\n",
              "function displayQuickchartButton(domScope) {\n",
              "  let quickchartButtonEl =\n",
              "    domScope.querySelector('#df-501a66e3-1642-4f5e-8838-76a1d9c25a24 button.colab-df-quickchart');\n",
              "  quickchartButtonEl.style.display =\n",
              "    google.colab.kernel.accessAllowed ? 'block' : 'none';\n",
              "}\n",
              "\n",
              "        displayQuickchartButton(document);\n",
              "      </script>\n",
              "      <style>\n",
              "    .colab-df-container {\n",
              "      display:flex;\n",
              "      flex-wrap:wrap;\n",
              "      gap: 12px;\n",
              "    }\n",
              "\n",
              "    .colab-df-convert {\n",
              "      background-color: #E8F0FE;\n",
              "      border: none;\n",
              "      border-radius: 50%;\n",
              "      cursor: pointer;\n",
              "      display: none;\n",
              "      fill: #1967D2;\n",
              "      height: 32px;\n",
              "      padding: 0 0 0 0;\n",
              "      width: 32px;\n",
              "    }\n",
              "\n",
              "    .colab-df-convert:hover {\n",
              "      background-color: #E2EBFA;\n",
              "      box-shadow: 0px 1px 2px rgba(60, 64, 67, 0.3), 0px 1px 3px 1px rgba(60, 64, 67, 0.15);\n",
              "      fill: #174EA6;\n",
              "    }\n",
              "\n",
              "    [theme=dark] .colab-df-convert {\n",
              "      background-color: #3B4455;\n",
              "      fill: #D2E3FC;\n",
              "    }\n",
              "\n",
              "    [theme=dark] .colab-df-convert:hover {\n",
              "      background-color: #434B5C;\n",
              "      box-shadow: 0px 1px 3px 1px rgba(0, 0, 0, 0.15);\n",
              "      filter: drop-shadow(0px 1px 2px rgba(0, 0, 0, 0.3));\n",
              "      fill: #FFFFFF;\n",
              "    }\n",
              "  </style>\n",
              "\n",
              "      <script>\n",
              "        const buttonEl =\n",
              "          document.querySelector('#df-eb37b18d-4b7a-42b0-91cd-ecb1f23a5fbf button.colab-df-convert');\n",
              "        buttonEl.style.display =\n",
              "          google.colab.kernel.accessAllowed ? 'block' : 'none';\n",
              "\n",
              "        async function convertToInteractive(key) {\n",
              "          const element = document.querySelector('#df-eb37b18d-4b7a-42b0-91cd-ecb1f23a5fbf');\n",
              "          const dataTable =\n",
              "            await google.colab.kernel.invokeFunction('convertToInteractive',\n",
              "                                                     [key], {});\n",
              "          if (!dataTable) return;\n",
              "\n",
              "          const docLinkHtml = 'Like what you see? Visit the ' +\n",
              "            '<a target=\"_blank\" href=https://colab.research.google.com/notebooks/data_table.ipynb>data table notebook</a>'\n",
              "            + ' to learn more about interactive tables.';\n",
              "          element.innerHTML = '';\n",
              "          dataTable['output_type'] = 'display_data';\n",
              "          await google.colab.output.renderOutput(dataTable, element);\n",
              "          const docLink = document.createElement('div');\n",
              "          docLink.innerHTML = docLinkHtml;\n",
              "          element.appendChild(docLink);\n",
              "        }\n",
              "      </script>\n",
              "    </div>\n",
              "  </div>\n"
            ]
          },
          "metadata": {},
          "execution_count": 5
        }
      ]
    },
    {
      "cell_type": "code",
      "source": [
        "# slit dataet\n",
        "df_train, df_test = train_test_split(df, test_size = 0.3)"
      ],
      "metadata": {
        "id": "R6FLSttbkYjk"
      },
      "execution_count": 6,
      "outputs": []
    },
    {
      "cell_type": "code",
      "source": [
        "# Convert sentences to sequences\n",
        "MAX_VOCAB_SIZE = 2000\n",
        "tokenizer = Tokenizer(num_words=MAX_VOCAB_SIZE)\n",
        "tokenizer.fit_on_texts(df_train['text'])\n",
        "sequences_train = tokenizer.texts_to_sequences(df_train['text'])\n",
        "sequences_test = tokenizer.texts_to_sequences(df_test['text'])"
      ],
      "metadata": {
        "id": "UfpsGaPQkm-_"
      },
      "execution_count": 7,
      "outputs": []
    },
    {
      "cell_type": "code",
      "source": [
        "# get word -> integer mapping\n",
        "word2idx = tokenizer.word_index\n",
        "V = len(word2idx)\n",
        "print('Found %s unique tokens.' % V)"
      ],
      "metadata": {
        "colab": {
          "base_uri": "https://localhost:8080/"
        },
        "id": "aNnqS9colWo1",
        "outputId": "628933fa-348f-4c93-892e-97fe6ef68bdc"
      },
      "execution_count": 8,
      "outputs": [
        {
          "output_type": "stream",
          "name": "stdout",
          "text": [
            "Found 28020 unique tokens.\n"
          ]
        }
      ]
    },
    {
      "cell_type": "code",
      "source": [
        "# pad sequences so that we get a N x T matrix\n",
        "data_train = pad_sequences(sequences_train)\n",
        "print('Shape of data train tensor:', data_train.shape)\n",
        "\n",
        "# get sequence length\n",
        "T = data_train.shape[1]"
      ],
      "metadata": {
        "colab": {
          "base_uri": "https://localhost:8080/"
        },
        "id": "_6CnVQoxlX-g",
        "outputId": "fa1f9952-05d2-414e-e5d4-b55ac22ba2f4"
      },
      "execution_count": 9,
      "outputs": [
        {
          "output_type": "stream",
          "name": "stdout",
          "text": [
            "Shape of data train tensor: (1557, 3468)\n"
          ]
        }
      ]
    },
    {
      "cell_type": "code",
      "source": [
        "data_test = pad_sequences(sequences_test, maxlen=T)\n",
        "print('Shape of data test tensor:', data_test.shape)"
      ],
      "metadata": {
        "colab": {
          "base_uri": "https://localhost:8080/"
        },
        "id": "5vGhf8WiliYo",
        "outputId": "a6ee853c-9474-4111-d7da-1810a263db38"
      },
      "execution_count": 10,
      "outputs": [
        {
          "output_type": "stream",
          "name": "stdout",
          "text": [
            "Shape of data test tensor: (668, 3468)\n"
          ]
        }
      ]
    },
    {
      "cell_type": "code",
      "source": [
        "# number of classes\n",
        "K = df['target'].max() + 1\n",
        "K"
      ],
      "metadata": {
        "colab": {
          "base_uri": "https://localhost:8080/"
        },
        "id": "Ju-vjCk5mDFP",
        "outputId": "de749b29-f5ab-43ce-dbf9-b2c7fbdf036f"
      },
      "execution_count": 13,
      "outputs": [
        {
          "output_type": "execute_result",
          "data": {
            "text/plain": [
              "5"
            ]
          },
          "metadata": {},
          "execution_count": 13
        }
      ]
    },
    {
      "cell_type": "code",
      "source": [
        "# Create the model\n",
        "\n",
        "# We get to choose embedding dimensionality\n",
        "D = 50\n",
        "\n",
        "# Note: we actually want to the size of the embedding to (V + 1) x D,\n",
        "# because the first index starts from 1 and not 0.\n",
        "# Thus, if the final index of the embedding matrix is V,\n",
        "# then it actually must have size V + 1.\n",
        "\n",
        "i = Input(shape=(T,))\n",
        "x = Embedding(V + 1, D)(i)\n",
        "x = Conv1D(32, 3, activation='relu')(x)\n",
        "x = MaxPooling1D(3)(x)\n",
        "x = Conv1D(64, 3, activation='relu')(x)\n",
        "x = MaxPooling1D(3)(x)\n",
        "x = Conv1D(128, 3, activation='relu')(x)\n",
        "x = GlobalMaxPooling1D()(x)\n",
        "x = Dense(K)(x)\n",
        "\n",
        "model = Model(i, x)"
      ],
      "metadata": {
        "id": "JioJxsNAlpkf"
      },
      "execution_count": 14,
      "outputs": []
    },
    {
      "cell_type": "code",
      "source": [
        "model.summary()"
      ],
      "metadata": {
        "colab": {
          "base_uri": "https://localhost:8080/"
        },
        "id": "xmwCZbmIl24V",
        "outputId": "312bf8a3-5d48-493e-a667-c3d604a4034e"
      },
      "execution_count": 15,
      "outputs": [
        {
          "output_type": "stream",
          "name": "stdout",
          "text": [
            "Model: \"model\"\n",
            "_________________________________________________________________\n",
            " Layer (type)                Output Shape              Param #   \n",
            "=================================================================\n",
            " input_2 (InputLayer)        [(None, 3468)]            0         \n",
            "                                                                 \n",
            " embedding_1 (Embedding)     (None, 3468, 50)          1401050   \n",
            "                                                                 \n",
            " conv1d_3 (Conv1D)           (None, 3466, 32)          4832      \n",
            "                                                                 \n",
            " max_pooling1d_2 (MaxPooling  (None, 1155, 32)         0         \n",
            " 1D)                                                             \n",
            "                                                                 \n",
            " conv1d_4 (Conv1D)           (None, 1153, 64)          6208      \n",
            "                                                                 \n",
            " max_pooling1d_3 (MaxPooling  (None, 384, 64)          0         \n",
            " 1D)                                                             \n",
            "                                                                 \n",
            " conv1d_5 (Conv1D)           (None, 382, 128)          24704     \n",
            "                                                                 \n",
            " global_max_pooling1d_1 (Glo  (None, 128)              0         \n",
            " balMaxPooling1D)                                                \n",
            "                                                                 \n",
            " dense (Dense)               (None, 5)                 645       \n",
            "                                                                 \n",
            "=================================================================\n",
            "Total params: 1,437,439\n",
            "Trainable params: 1,437,439\n",
            "Non-trainable params: 0\n",
            "_________________________________________________________________\n"
          ]
        }
      ]
    },
    {
      "cell_type": "code",
      "source": [
        "# Compile and fit\n",
        "model.compile(\n",
        "  loss=SparseCategoricalCrossentropy(from_logits=True),\n",
        "  optimizer='adam',\n",
        "  metrics=['accuracy']\n",
        ")\n",
        "\n",
        "\n",
        "print('Training model...')\n",
        "r = model.fit(\n",
        "  data_train,\n",
        "  df_train['target'],\n",
        "  epochs=50,\n",
        "  validation_data=(data_test, df_test['target'])\n",
        ")"
      ],
      "metadata": {
        "colab": {
          "base_uri": "https://localhost:8080/"
        },
        "id": "5SEHaVlNmLVr",
        "outputId": "fbda2101-46db-443c-fedb-f71b0c4bea66"
      },
      "execution_count": 18,
      "outputs": [
        {
          "output_type": "stream",
          "name": "stdout",
          "text": [
            "Training model...\n",
            "Epoch 1/50\n",
            "49/49 [==============================] - 26s 298ms/step - loss: 1.6004 - accuracy: 0.2209 - val_loss: 1.5930 - val_accuracy: 0.3563\n",
            "Epoch 2/50\n",
            "49/49 [==============================] - 8s 167ms/step - loss: 1.4735 - accuracy: 0.3751 - val_loss: 1.1934 - val_accuracy: 0.5719\n",
            "Epoch 3/50\n",
            "49/49 [==============================] - 8s 159ms/step - loss: 0.5933 - accuracy: 0.8542 - val_loss: 0.3376 - val_accuracy: 0.8787\n",
            "Epoch 4/50\n",
            "49/49 [==============================] - 5s 96ms/step - loss: 0.0777 - accuracy: 0.9788 - val_loss: 0.1561 - val_accuracy: 0.9551\n",
            "Epoch 5/50\n",
            "49/49 [==============================] - 5s 99ms/step - loss: 0.0159 - accuracy: 0.9968 - val_loss: 0.1393 - val_accuracy: 0.9536\n",
            "Epoch 6/50\n",
            "49/49 [==============================] - 5s 100ms/step - loss: 0.0040 - accuracy: 1.0000 - val_loss: 0.1404 - val_accuracy: 0.9551\n",
            "Epoch 7/50\n",
            "49/49 [==============================] - 3s 65ms/step - loss: 0.0023 - accuracy: 1.0000 - val_loss: 0.1357 - val_accuracy: 0.9536\n",
            "Epoch 8/50\n",
            "49/49 [==============================] - 4s 87ms/step - loss: 0.0016 - accuracy: 1.0000 - val_loss: 0.1378 - val_accuracy: 0.9536\n",
            "Epoch 9/50\n",
            "49/49 [==============================] - 4s 76ms/step - loss: 0.0011 - accuracy: 1.0000 - val_loss: 0.1377 - val_accuracy: 0.9536\n",
            "Epoch 10/50\n",
            "49/49 [==============================] - 3s 49ms/step - loss: 8.8977e-04 - accuracy: 1.0000 - val_loss: 0.1390 - val_accuracy: 0.9536\n",
            "Epoch 11/50\n",
            "49/49 [==============================] - 2s 44ms/step - loss: 7.1190e-04 - accuracy: 1.0000 - val_loss: 0.1392 - val_accuracy: 0.9536\n",
            "Epoch 12/50\n",
            "49/49 [==============================] - 2s 50ms/step - loss: 5.8379e-04 - accuracy: 1.0000 - val_loss: 0.1404 - val_accuracy: 0.9536\n",
            "Epoch 13/50\n",
            "49/49 [==============================] - 3s 53ms/step - loss: 4.8790e-04 - accuracy: 1.0000 - val_loss: 0.1419 - val_accuracy: 0.9536\n",
            "Epoch 14/50\n",
            "49/49 [==============================] - 2s 44ms/step - loss: 4.0831e-04 - accuracy: 1.0000 - val_loss: 0.1427 - val_accuracy: 0.9536\n",
            "Epoch 15/50\n",
            "49/49 [==============================] - 1s 22ms/step - loss: 3.4964e-04 - accuracy: 1.0000 - val_loss: 0.1438 - val_accuracy: 0.9536\n",
            "Epoch 16/50\n",
            "49/49 [==============================] - 1s 26ms/step - loss: 3.0205e-04 - accuracy: 1.0000 - val_loss: 0.1444 - val_accuracy: 0.9536\n",
            "Epoch 17/50\n",
            "49/49 [==============================] - 2s 33ms/step - loss: 2.6423e-04 - accuracy: 1.0000 - val_loss: 0.1451 - val_accuracy: 0.9536\n",
            "Epoch 18/50\n",
            "49/49 [==============================] - 1s 23ms/step - loss: 2.3213e-04 - accuracy: 1.0000 - val_loss: 0.1462 - val_accuracy: 0.9536\n",
            "Epoch 19/50\n",
            "49/49 [==============================] - 1s 26ms/step - loss: 2.0499e-04 - accuracy: 1.0000 - val_loss: 0.1467 - val_accuracy: 0.9536\n",
            "Epoch 20/50\n",
            "49/49 [==============================] - 1s 29ms/step - loss: 1.8214e-04 - accuracy: 1.0000 - val_loss: 0.1474 - val_accuracy: 0.9536\n",
            "Epoch 21/50\n",
            "49/49 [==============================] - 1s 27ms/step - loss: 1.6355e-04 - accuracy: 1.0000 - val_loss: 0.1480 - val_accuracy: 0.9551\n",
            "Epoch 22/50\n",
            "49/49 [==============================] - 2s 47ms/step - loss: 1.4784e-04 - accuracy: 1.0000 - val_loss: 0.1493 - val_accuracy: 0.9521\n",
            "Epoch 23/50\n",
            "49/49 [==============================] - 1s 17ms/step - loss: 1.3365e-04 - accuracy: 1.0000 - val_loss: 0.1498 - val_accuracy: 0.9536\n",
            "Epoch 24/50\n",
            "49/49 [==============================] - 1s 26ms/step - loss: 1.2152e-04 - accuracy: 1.0000 - val_loss: 0.1505 - val_accuracy: 0.9536\n",
            "Epoch 25/50\n",
            "49/49 [==============================] - 1s 14ms/step - loss: 1.1043e-04 - accuracy: 1.0000 - val_loss: 0.1510 - val_accuracy: 0.9536\n",
            "Epoch 26/50\n",
            "49/49 [==============================] - 1s 18ms/step - loss: 1.0117e-04 - accuracy: 1.0000 - val_loss: 0.1522 - val_accuracy: 0.9536\n",
            "Epoch 27/50\n",
            "49/49 [==============================] - 2s 35ms/step - loss: 9.2696e-05 - accuracy: 1.0000 - val_loss: 0.1525 - val_accuracy: 0.9536\n",
            "Epoch 28/50\n",
            "49/49 [==============================] - 1s 13ms/step - loss: 8.5345e-05 - accuracy: 1.0000 - val_loss: 0.1530 - val_accuracy: 0.9536\n",
            "Epoch 29/50\n",
            "49/49 [==============================] - 1s 14ms/step - loss: 7.8787e-05 - accuracy: 1.0000 - val_loss: 0.1538 - val_accuracy: 0.9551\n",
            "Epoch 30/50\n",
            "49/49 [==============================] - 1s 21ms/step - loss: 7.2847e-05 - accuracy: 1.0000 - val_loss: 0.1546 - val_accuracy: 0.9551\n",
            "Epoch 31/50\n",
            "49/49 [==============================] - 1s 26ms/step - loss: 6.7456e-05 - accuracy: 1.0000 - val_loss: 0.1551 - val_accuracy: 0.9551\n",
            "Epoch 32/50\n",
            "49/49 [==============================] - 1s 21ms/step - loss: 6.2947e-05 - accuracy: 1.0000 - val_loss: 0.1550 - val_accuracy: 0.9551\n",
            "Epoch 33/50\n",
            "49/49 [==============================] - 1s 30ms/step - loss: 5.8616e-05 - accuracy: 1.0000 - val_loss: 0.1562 - val_accuracy: 0.9551\n",
            "Epoch 34/50\n",
            "49/49 [==============================] - 2s 31ms/step - loss: 5.4454e-05 - accuracy: 1.0000 - val_loss: 0.1563 - val_accuracy: 0.9551\n",
            "Epoch 35/50\n",
            "49/49 [==============================] - 1s 26ms/step - loss: 5.0988e-05 - accuracy: 1.0000 - val_loss: 0.1572 - val_accuracy: 0.9551\n",
            "Epoch 36/50\n",
            "49/49 [==============================] - 1s 21ms/step - loss: 4.7650e-05 - accuracy: 1.0000 - val_loss: 0.1576 - val_accuracy: 0.9551\n",
            "Epoch 37/50\n",
            "49/49 [==============================] - 1s 22ms/step - loss: 4.4590e-05 - accuracy: 1.0000 - val_loss: 0.1584 - val_accuracy: 0.9551\n",
            "Epoch 38/50\n",
            "49/49 [==============================] - 1s 17ms/step - loss: 4.1853e-05 - accuracy: 1.0000 - val_loss: 0.1590 - val_accuracy: 0.9551\n",
            "Epoch 39/50\n",
            "49/49 [==============================] - 1s 18ms/step - loss: 3.9326e-05 - accuracy: 1.0000 - val_loss: 0.1593 - val_accuracy: 0.9551\n",
            "Epoch 40/50\n",
            "49/49 [==============================] - 1s 26ms/step - loss: 3.6961e-05 - accuracy: 1.0000 - val_loss: 0.1599 - val_accuracy: 0.9551\n",
            "Epoch 41/50\n",
            "49/49 [==============================] - 1s 26ms/step - loss: 3.4908e-05 - accuracy: 1.0000 - val_loss: 0.1607 - val_accuracy: 0.9551\n",
            "Epoch 42/50\n",
            "49/49 [==============================] - 1s 14ms/step - loss: 3.2867e-05 - accuracy: 1.0000 - val_loss: 0.1608 - val_accuracy: 0.9551\n",
            "Epoch 43/50\n",
            "49/49 [==============================] - 1s 29ms/step - loss: 3.1042e-05 - accuracy: 1.0000 - val_loss: 0.1613 - val_accuracy: 0.9551\n",
            "Epoch 44/50\n",
            "49/49 [==============================] - 1s 15ms/step - loss: 2.9313e-05 - accuracy: 1.0000 - val_loss: 0.1619 - val_accuracy: 0.9551\n",
            "Epoch 45/50\n",
            "49/49 [==============================] - 1s 22ms/step - loss: 2.7732e-05 - accuracy: 1.0000 - val_loss: 0.1622 - val_accuracy: 0.9551\n",
            "Epoch 46/50\n",
            "49/49 [==============================] - 1s 21ms/step - loss: 2.6317e-05 - accuracy: 1.0000 - val_loss: 0.1629 - val_accuracy: 0.9551\n",
            "Epoch 47/50\n",
            "49/49 [==============================] - 1s 17ms/step - loss: 2.4875e-05 - accuracy: 1.0000 - val_loss: 0.1633 - val_accuracy: 0.9551\n",
            "Epoch 48/50\n",
            "49/49 [==============================] - 1s 22ms/step - loss: 2.3613e-05 - accuracy: 1.0000 - val_loss: 0.1637 - val_accuracy: 0.9551\n",
            "Epoch 49/50\n",
            "49/49 [==============================] - 1s 17ms/step - loss: 2.2438e-05 - accuracy: 1.0000 - val_loss: 0.1640 - val_accuracy: 0.9566\n",
            "Epoch 50/50\n",
            "49/49 [==============================] - 1s 13ms/step - loss: 2.1293e-05 - accuracy: 1.0000 - val_loss: 0.1648 - val_accuracy: 0.9551\n"
          ]
        }
      ]
    },
    {
      "cell_type": "code",
      "source": [
        "# Plot loss per iteration\n",
        "plt.plot(r.history['loss'], label='train loss')\n",
        "plt.plot(r.history['val_loss'], label='val loss')\n",
        "plt.legend();"
      ],
      "metadata": {
        "colab": {
          "base_uri": "https://localhost:8080/",
          "height": 430
        },
        "id": "xLYYSmQ1mZEP",
        "outputId": "c65083b6-c7ca-4705-a4fd-d72e2c46956b"
      },
      "execution_count": 19,
      "outputs": [
        {
          "output_type": "display_data",
          "data": {
            "text/plain": [
              "<Figure size 640x480 with 1 Axes>"
            ],
            "image/png": "[encoded data removed]"
          },
          "metadata": {}
        }
      ]
    },
    {
      "cell_type": "code",
      "source": [
        "# Plot accuracy per iteration\n",
        "plt.plot(r.history['accuracy'], label='train acc')\n",
        "plt.plot(r.history['val_accuracy'], label='val acc')\n",
        "plt.legend();"
      ],
      "metadata": {
        "colab": {
          "base_uri": "https://localhost:8080/",
          "height": 430
        },
        "id": "jzzrMeNhmucz",
        "outputId": "f5d71204-3bb3-4d84-f75e-afa34863e46a"
      },
      "execution_count": 20,
      "outputs": [
        {
          "output_type": "display_data",
          "data": {
            "text/plain": [
              "<Figure size 640x480 with 1 Axes>"
            ],
            "image/png": "[encoded data removed]"
          },
          "metadata": {}
        }
      ]
    }
  ]
}