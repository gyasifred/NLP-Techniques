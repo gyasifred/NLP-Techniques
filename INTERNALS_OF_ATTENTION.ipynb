{
  "nbformat": 4,
  "nbformat_minor": 0,
  "metadata": {
    "colab": {
      "provenance": [],
      "gpuType": "T4",
      "mount_file_id": "119ue89L2xRTKDqZAJ5z04dGlgjsk8Viy",
      "authorship_tag": "ABX9TyNASddrHHxXWEsDgeuuXXFf",
      "include_colab_link": true
    },
    "kernelspec": {
      "name": "python3",
      "display_name": "Python 3"
    },
    "language_info": {
      "name": "python"
    },
    "accelerator": "GPU"
  },
  "cells": [
    {
      "cell_type": "markdown",
      "metadata": {
        "id": "view-in-github",
        "colab_type": "text"
      },
      "source": [
        "<a href=\"https://colab.research.google.com/github/gyasifred/NLP-Techniques/blob/main/INTERNALS_OF_ATTENTION.ipynb\" target=\"_parent\"><img src=\"https://colab.research.google.com/assets/colab-badge.svg\" alt=\"Open In Colab\"/></a>"
      ]
    },
    {
      "cell_type": "code",
      "execution_count": 1,
      "metadata": {
        "id": "FeOBjCJg-ceH"
      },
      "outputs": [],
      "source": [
        "import pandas as pd\n",
        "import torch\n",
        "import torch.nn.functional as F\n",
        "from torch.utils.data import Dataset, DataLoader\n",
        "from transformers import BertTokenizer, BertForSequenceClassification\n",
        "from sklearn.preprocessing import LabelEncoder\n",
        "from sklearn.metrics import accuracy_score, classification_report\n",
        "import matplotlib.pyplot as plt\n",
        "import seaborn as sns\n",
        "from typing import Tuple, Dict\n",
        "from termcolor import colored\n",
        "import numpy as np\n",
        "from pprint import pprint\n",
        "from IPython.core.display import display, HTML\n",
        "from collections import defaultdict"
      ]
    },
    {
      "cell_type": "code",
      "source": [
        "def load_and_preprocess_data(train_path: str, test_path: str) -> Tuple[pd.DataFrame, pd.DataFrame, LabelEncoder]:\n",
        "    \"\"\"Load and preprocess the training and testing data.\n",
        "\n",
        "    Args:\n",
        "        train_path (str): The file path for the training data CSV.\n",
        "        test_path (str): The file path for the testing data CSV.\n",
        "\n",
        "    Returns:\n",
        "        Tuple[pd.DataFrame, pd.DataFrame, LabelEncoder]: A tuple containing the training DataFrame,\n",
        "        the testing DataFrame, and the fitted LabelEncoder.\n",
        "    \"\"\"\n",
        "    try:\n",
        "        # Load the data\n",
        "        train_df = pd.read_csv(train_path)\n",
        "        test_df = pd.read_csv(test_path)\n",
        "\n",
        "        # Check if necessary columns exist\n",
        "        if 'prognosis' not in train_df.columns or 'prognosis' not in test_df.columns:\n",
        "            raise ValueError(\"The 'prognosis' column is missing from the datasets.\")\n",
        "        if 'symptoms' not in train_df.columns or 'symptoms' not in test_df.columns:\n",
        "            raise ValueError(\"The 'symptoms' column is missing from the datasets.\")\n",
        "\n",
        "        # Initialize and fit the LabelEncoder\n",
        "        label_encoder = LabelEncoder()\n",
        "        train_df['prognosis'] = label_encoder.fit_transform(train_df['prognosis'])\n",
        "        test_df['prognosis'] = label_encoder.transform(test_df['prognosis'])\n",
        "\n",
        "        return train_df, test_df, label_encoder\n",
        "\n",
        "    except FileNotFoundError as e:\n",
        "        print(f\"Error: {e}\")\n",
        "        raise\n",
        "    except pd.errors.EmptyDataError:\n",
        "        print(\"Error: The file is empty.\")\n",
        "        raise\n",
        "    except Exception as e:\n",
        "        print(f\"An error occurred: {e}\")\n",
        "        raise\n"
      ],
      "metadata": {
        "id": "meTo_tC1CtCX"
      },
      "execution_count": 2,
      "outputs": []
    },
    {
      "cell_type": "code",
      "source": [
        "# Load and preprocess data\n",
        "train_df, test_df, label_encoder = load_and_preprocess_data(\"/content/drive/MyDrive/Training.csv\",\n",
        "                                                            \"/content/drive/MyDrive/Testing.csv\")"
      ],
      "metadata": {
        "id": "f6hzks-QCxYG"
      },
      "execution_count": 3,
      "outputs": []
    },
    {
      "cell_type": "code",
      "source": [
        "num_classes = len(label_encoder.classes_)\n",
        "print(f\"Number of classes: {num_classes}\")"
      ],
      "metadata": {
        "colab": {
          "base_uri": "https://localhost:8080/"
        },
        "id": "KqVCiSHKC1ve",
        "outputId": "c04d4487-5b57-462e-88d0-1a3dba0575bd"
      },
      "execution_count": 4,
      "outputs": [
        {
          "output_type": "stream",
          "name": "stdout",
          "text": [
            "Number of classes: 41\n"
          ]
        }
      ]
    },
    {
      "cell_type": "code",
      "source": [
        "tokenizer = BertTokenizer.from_pretrained(\"/content/drive/MyDrive/MT/trained_biobert_tokenizer\")\n",
        "model = BertForSequenceClassification.from_pretrained(\"/content/drive/MyDrive/MT/trained_biobert_model\",\n",
        "                                                      attn_implementation='eager',\n",
        "                                                      num_labels=num_classes, output_attentions=True)\n",
        "device = torch.device(\"cuda\") if torch.cuda.is_available() else torch.device(\"cpu\")\n",
        "print(f\"Using device: {device}\")\n",
        "model.to(device)"
      ],
      "metadata": {
        "colab": {
          "base_uri": "https://localhost:8080/"
        },
        "id": "JsjetF6EC5Me",
        "outputId": "f547664f-20a2-43ae-beca-08f8ba7a3fe6"
      },
      "execution_count": 5,
      "outputs": [
        {
          "output_type": "stream",
          "name": "stdout",
          "text": [
            "Using device: cpu\n"
          ]
        },
        {
          "output_type": "execute_result",
          "data": {
            "text/plain": [
              "BertForSequenceClassification(\n",
              "  (bert): BertModel(\n",
              "    (embeddings): BertEmbeddings(\n",
              "      (word_embeddings): Embedding(28996, 768, padding_idx=0)\n",
              "      (position_embeddings): Embedding(512, 768)\n",
              "      (token_type_embeddings): Embedding(2, 768)\n",
              "      (LayerNorm): LayerNorm((768,), eps=1e-12, elementwise_affine=True)\n",
              "      (dropout): Dropout(p=0.1, inplace=False)\n",
              "    )\n",
              "    (encoder): BertEncoder(\n",
              "      (layer): ModuleList(\n",
              "        (0-11): 12 x BertLayer(\n",
              "          (attention): BertAttention(\n",
              "            (self): BertSelfAttention(\n",
              "              (query): Linear(in_features=768, out_features=768, bias=True)\n",
              "              (key): Linear(in_features=768, out_features=768, bias=True)\n",
              "              (value): Linear(in_features=768, out_features=768, bias=True)\n",
              "              (dropout): Dropout(p=0.1, inplace=False)\n",
              "            )\n",
              "            (output): BertSelfOutput(\n",
              "              (dense): Linear(in_features=768, out_features=768, bias=True)\n",
              "              (LayerNorm): LayerNorm((768,), eps=1e-12, elementwise_affine=True)\n",
              "              (dropout): Dropout(p=0.1, inplace=False)\n",
              "            )\n",
              "          )\n",
              "          (intermediate): BertIntermediate(\n",
              "            (dense): Linear(in_features=768, out_features=3072, bias=True)\n",
              "            (intermediate_act_fn): GELUActivation()\n",
              "          )\n",
              "          (output): BertOutput(\n",
              "            (dense): Linear(in_features=3072, out_features=768, bias=True)\n",
              "            (LayerNorm): LayerNorm((768,), eps=1e-12, elementwise_affine=True)\n",
              "            (dropout): Dropout(p=0.1, inplace=False)\n",
              "          )\n",
              "        )\n",
              "      )\n",
              "    )\n",
              "    (pooler): BertPooler(\n",
              "      (dense): Linear(in_features=768, out_features=768, bias=True)\n",
              "      (activation): Tanh()\n",
              "    )\n",
              "  )\n",
              "  (dropout): Dropout(p=0.1, inplace=False)\n",
              "  (classifier): Linear(in_features=768, out_features=41, bias=True)\n",
              ")"
            ]
          },
          "metadata": {},
          "execution_count": 5
        }
      ]
    },
    {
      "cell_type": "code",
      "source": [
        "class CustomTextDataset(Dataset):\n",
        "    \"\"\"\n",
        "    A custom Dataset class to handle text data for training/testing with a transformer model.\n",
        "    Each sample consists of tokenized input (symptoms) and corresponding labels (prognosis).\n",
        "    \"\"\"\n",
        "\n",
        "    def __init__(self, dataframe: pd.DataFrame, tokenizer: BertTokenizer, max_length: int):\n",
        "        \"\"\"\n",
        "        Initializes the dataset with a DataFrame, tokenizer, and maximum tokenized sequence length.\n",
        "\n",
        "        Args:\n",
        "            dataframe (pd.DataFrame): A pandas DataFrame containing 'symptoms' (text input) and 'prognosis' (labels).\n",
        "            tokenizer (BertTokenizer): Pre-trained tokenizer (e.g., from the BERT model) for text tokenization.\n",
        "            max_length (int): Maximum length for tokenized input sequences. Longer sequences will be truncated,\n",
        "                              and shorter ones will be padded.\n",
        "        \"\"\"\n",
        "        self.tokenizer = tokenizer\n",
        "        self.texts = dataframe['symptoms'].astype(str).tolist()  # Convert symptoms column to list of strings\n",
        "        self.labels = dataframe['prognosis'].values  # Store prognosis (labels) as numpy array\n",
        "        self.max_length = max_length  # Maximum sequence length for tokenization\n",
        "\n",
        "    def __len__(self) -> int:\n",
        "        \"\"\"Returns the total number of samples in the dataset.\"\"\"\n",
        "        return len(self.texts)\n",
        "\n",
        "    def __getitem__(self, index: int) -> Dict[str, torch.Tensor]:\n",
        "        \"\"\"\n",
        "        Generates a single sample of data. Each sample consists of the tokenized text\n",
        "        (input_ids, attention_mask) and its corresponding label.\n",
        "\n",
        "        Args:\n",
        "            index (int): Index of the sample to retrieve.\n",
        "\n",
        "        Returns:\n",
        "            Dict[str, torch.Tensor]: A dictionary containing:\n",
        "                - 'input_ids': Tensor of tokenized input IDs.\n",
        "                - 'attention_mask': Tensor indicating which tokens are padding.\n",
        "                - 'labels': Tensor of the corresponding label for classification.\n",
        "        \"\"\"\n",
        "        # Get the text and label at the specified index\n",
        "        text = self.texts[index]\n",
        "        label = self.labels[index]\n",
        "\n",
        "        # Tokenize the text input\n",
        "        encoding = self.tokenizer.encode_plus(\n",
        "            text,\n",
        "            add_special_tokens=True,  # Add special tokens like [CLS] and [SEP]\n",
        "            max_length=self.max_length,  # Truncate sequences longer than max_length\n",
        "            padding='max_length',  # Pad shorter sequences to max_length\n",
        "            truncation=True,  # Truncate longer sequences to fit within max_length\n",
        "            return_tensors=\"pt\"  # Return the tokenized output as PyTorch tensors\n",
        "        )\n",
        "\n",
        "        # Return the tokenized input IDs, attention mask, and label as a dictionary\n",
        "        return {\n",
        "            'input_ids': encoding['input_ids'].squeeze(0),  # Remove extra batch dimension\n",
        "            'attention_mask': encoding['attention_mask'].squeeze(0),  # Remove extra batch dimension\n",
        "            'labels': torch.tensor(label, dtype=torch.long)  # Convert the label to a tensor\n",
        "        }"
      ],
      "metadata": {
        "id": "frGMdNvTC9FX"
      },
      "execution_count": 6,
      "outputs": []
    },
    {
      "cell_type": "code",
      "source": [
        "def create_data_loaders(train_df: pd.DataFrame, test_df: pd.DataFrame,\n",
        "                        tokenizer: BertTokenizer, batch_size: int = 16) -> Tuple[DataLoader, DataLoader]:\n",
        "    \"\"\"\n",
        "    Create DataLoaders for the training and testing datasets, which will be used\n",
        "    to feed tokenized inputs into the model in batches.\n",
        "\n",
        "    Args:\n",
        "    - train_df (pd.DataFrame): A pandas DataFrame containing the training data.\n",
        "    - test_df (pd.DataFrame): A pandas DataFrame containing the testing data.\n",
        "    - tokenizer (BertTokenizer): Pre-trained tokenizer to tokenize the input text.\n",
        "    - batch_size (int): Number of samples per batch for the DataLoader. Default is 16.\n",
        "\n",
        "    Returns:\n",
        "    Tuple[DataLoader, DataLoader]: Returns two DataLoader objects:\n",
        "        - train_loader: DataLoader for the training dataset.\n",
        "        - test_loader: DataLoader for the testing dataset.\n",
        "    \"\"\"\n",
        "\n",
        "    # Instantiate the custom dataset for training using the training DataFrame\n",
        "    # This assumes that the CustomTextDataset class is defined elsewhere and handles tokenization\n",
        "    train_dataset = CustomTextDataset(train_df, tokenizer, max_length=512)\n",
        "\n",
        "    # Instantiate the custom dataset for testing using the testing DataFrame\n",
        "    test_dataset = CustomTextDataset(test_df, tokenizer, max_length=512)\n",
        "\n",
        "    # Create the DataLoader for training with shuffling (randomizes data order during training)\n",
        "    train_loader = DataLoader(train_dataset, batch_size=batch_size, shuffle=True)\n",
        "\n",
        "    # Create the DataLoader for testing without shuffling (we typically don't shuffle test data)\n",
        "    test_loader = DataLoader(test_dataset, batch_size=batch_size)\n",
        "\n",
        "    # Return both DataLoaders\n",
        "    return train_loader, test_loader"
      ],
      "metadata": {
        "id": "YZmw4pd-DGR3"
      },
      "execution_count": 7,
      "outputs": []
    },
    {
      "cell_type": "code",
      "source": [
        "# Create data loaders\n",
        "train_loader, test_loader = create_data_loaders(train_df,\n",
        "                                                test_df, tokenizer)\n",
        "\n"
      ],
      "metadata": {
        "id": "P9mG_RlODJZu"
      },
      "execution_count": 8,
      "outputs": []
    },
    {
      "cell_type": "code",
      "source": [
        "def evaluate_model(model: BertForSequenceClassification, test_loader: DataLoader,\n",
        "                   label_encoder: LabelEncoder):\n",
        "    \"\"\"\n",
        "    Evaluate a pre-trained BERT model on a test dataset, and compute accuracy and classification metrics.\n",
        "\n",
        "    Args:\n",
        "    - model (BertForSequenceClassification): The fine-tuned BERT model for sequence classification.\n",
        "    - test_loader (DataLoader): DataLoader for the test set, containing batches of tokenized inputs.\n",
        "    - label_encoder (LabelEncoder): A label encoder used to decode numerical predictions back to their original labels.\n",
        "\n",
        "    Returns:\n",
        "    None. Prints the accuracy and classification report including precision, recall, and F1-score for each class.\n",
        "    \"\"\"\n",
        "\n",
        "    # Set model to evaluation mode (disables dropout, etc.)\n",
        "    model.eval()\n",
        "\n",
        "    # Lists to store predictions and true labels\n",
        "    predictions = []\n",
        "    true_labels = []\n",
        "\n",
        "    # Disable gradient calculations during evaluation for faster inference\n",
        "    with torch.no_grad():\n",
        "        # Loop through each batch of the test data\n",
        "        for batch in test_loader:\n",
        "            # Move the input tensors to the same device as the model (GPU or CPU)\n",
        "            input_ids = batch['input_ids'].to(device)\n",
        "            attention_mask = batch['attention_mask'].to(device)\n",
        "            labels = batch['labels'].to(device)\n",
        "\n",
        "            # Forward pass: get logits (raw prediction scores) from the model\n",
        "            outputs = model(input_ids, attention_mask=attention_mask)\n",
        "\n",
        "            # Get the predicted class by taking the index of the max logit value (highest score)\n",
        "            _, preds = torch.max(outputs.logits, dim=1)\n",
        "\n",
        "            # Move predictions and true labels to CPU and convert to lists\n",
        "            predictions.extend(preds.cpu().tolist())\n",
        "            true_labels.extend(labels.cpu().tolist())\n",
        "\n",
        "    # Calculate accuracy by comparing predictions with the true labels\n",
        "    accuracy = accuracy_score(true_labels, predictions)\n",
        "\n",
        "    # Generate a detailed classification report (precision, recall, F1-score) for each class\n",
        "    report = classification_report(true_labels, predictions,\n",
        "                                   target_names=label_encoder.classes_)\n",
        "\n",
        "    # Print out the evaluation results\n",
        "    print(f\"Accuracy: {accuracy:.4f}\")\n",
        "    print(\"Classification Report:\")\n",
        "    print(report)"
      ],
      "metadata": {
        "id": "nw5mFPEIDNd-"
      },
      "execution_count": 9,
      "outputs": []
    },
    {
      "cell_type": "code",
      "source": [
        "def get_attention_weights(text: str, model: BertForSequenceClassification,\n",
        "                          tokenizer: BertTokenizer, label_encoder: LabelEncoder,\n",
        "                          layer_num: int = -1, head_num: int = -1):\n",
        "    \"\"\"\n",
        "    Extracts attention weights from a BERT model for a given input text.\n",
        "\n",
        "    This function tokenizes the input text, performs a forward pass through\n",
        "    the BERT model to obtain attention weights from a specified layer and head,\n",
        "    and aggregates attention weights for tokens and their corresponding words.\n",
        "    Additionally, it returns the logits of the model output.\n",
        "\n",
        "    Args:\n",
        "        text (str): The input text for which to extract attention weights.\n",
        "        model (BertForSequenceClassification): The BERT model to use for predictions.\n",
        "        tokenizer (BertTokenizer): The tokenizer corresponding to the BERT model.\n",
        "        label_encoder (LabelEncoder): The label encoder for inverse transforming class labels.\n",
        "        layer_num (int, optional): The layer number from which to extract attention weights.\n",
        "                                    Default is -1 (last layer).\n",
        "        head_num (int, optional): The head number from which to extract attention weights.\n",
        "                                   Default is -1 (last head).\n",
        "\n",
        "    Returns:\n",
        "        Tuple[List[float], List[str], torch.Tensor]: A tuple containing:\n",
        "            - A list of attention weights for each word.\n",
        "            - A list of words corresponding to the attention weights.\n",
        "            - The logits of the model's output.\n",
        "    \"\"\"\n",
        "    # Set the device to match the model's device (GPU/CPU)\n",
        "    device = next(model.parameters()).device\n",
        "\n",
        "    # Tokenize the input text and convert it to tensor format for model input\n",
        "    inputs = tokenizer(text, return_tensors=\"pt\", padding=True,\n",
        "                       truncation=True, max_length=512).to(device)\n",
        "\n",
        "    # Set model to evaluation mode and disable gradient calculation for inference\n",
        "    model.eval()\n",
        "    with torch.no_grad():\n",
        "        # Forward pass through the model to get outputs, including attention weights\n",
        "        outputs = model(**inputs, output_attentions=True)\n",
        "\n",
        "    # Extract the attention weights from the specified layer and head\n",
        "    # outputs.attentions has shape (num_layers, batch_size, num_heads, seq_len, seq_len)\n",
        "    attentions = outputs.attentions[layer_num][0][head_num].detach().cpu().numpy()\n",
        "\n",
        "    # Get the attention of the [CLS] token (index 0) to other tokens, excluding special tokens\n",
        "    cls_attention = attentions[0, :][1:-1]\n",
        "\n",
        "    # Convert token IDs back to readable words, excluding [CLS] and [SEP] tokens\n",
        "    words = tokenizer.convert_ids_to_tokens(inputs['input_ids'][0])\n",
        "    words = words[1:-1]  # Exclude [CLS] (index 0) and [SEP] (last token)\n",
        "\n",
        "    # Initialize a list to hold words and their corresponding attention weights\n",
        "    final_attention_weights = []\n",
        "    input_words = []\n",
        "\n",
        "    # Initialize temporary variables for concatenating subwords\n",
        "    current_word = \"\"\n",
        "    current_attention_sum = 0.0\n",
        "\n",
        "    for i, token in enumerate(words):\n",
        "        # Check if the token is a subword\n",
        "        if token.startswith('##'):\n",
        "            # If it's a subword, concatenate it to the current word\n",
        "            current_word += token[2:]  # Remove '##' and append to current word\n",
        "            current_attention_sum += cls_attention[i]  # Sum the attention weight\n",
        "        else:\n",
        "            # If it's a new word and we have a current_word, save it to the list\n",
        "            if current_word:\n",
        "                final_attention_weights.append(current_attention_sum)\n",
        "                input_words.append(current_word)\n",
        "\n",
        "            # Start a new current word with the current token\n",
        "            current_word = token\n",
        "            current_attention_sum = cls_attention[i]  # Reset attention sum to current\n",
        "\n",
        "    # Don't forget to add the last word\n",
        "    if current_word:\n",
        "        final_attention_weights.append(current_attention_sum)\n",
        "        input_words.append(current_word)\n",
        "\n",
        "    return final_attention_weights, input_words, outputs.logits"
      ],
      "metadata": {
        "id": "yVwHd37u77fN"
      },
      "execution_count": 10,
      "outputs": []
    },
    {
      "cell_type": "code",
      "source": [
        "# Evaluate the model\n",
        "pprint(evaluate_model(model, test_loader, label_encoder))"
      ],
      "metadata": {
        "colab": {
          "base_uri": "https://localhost:8080/",
          "height": 388
        },
        "id": "V7MCHWbmDRCe",
        "outputId": "f7fb6d56-87fa-413f-e676-08f968639bac"
      },
      "execution_count": 11,
      "outputs": [
        {
          "output_type": "error",
          "ename": "KeyboardInterrupt",
          "evalue": "",
          "traceback": [
            "\u001b[0;31m---------------------------------------------------------------------------\u001b[0m",
            "\u001b[0;31mKeyboardInterrupt\u001b[0m                         Traceback (most recent call last)",
            "\u001b[0;32m<ipython-input-11-3470318a76bc>\u001b[0m in \u001b[0;36m<cell line: 2>\u001b[0;34m()\u001b[0m\n\u001b[1;32m      1\u001b[0m \u001b[0;31m# Evaluate the model\u001b[0m\u001b[0;34m\u001b[0m\u001b[0;34m\u001b[0m\u001b[0m\n\u001b[0;32m----> 2\u001b[0;31m \u001b[0mpprint\u001b[0m\u001b[0;34m(\u001b[0m\u001b[0mevaluate_model\u001b[0m\u001b[0;34m(\u001b[0m\u001b[0mmodel\u001b[0m\u001b[0;34m,\u001b[0m \u001b[0mtest_loader\u001b[0m\u001b[0;34m,\u001b[0m \u001b[0mlabel_encoder\u001b[0m\u001b[0;34m)\u001b[0m\u001b[0;34m)\u001b[0m\u001b[0;34m\u001b[0m\u001b[0;34m\u001b[0m\u001b[0m\n\u001b[0m",
            "\u001b[0;32m<ipython-input-9-879348959233>\u001b[0m in \u001b[0;36mevaluate_model\u001b[0;34m(model, test_loader, label_encoder)\u001b[0m\n\u001b[1;32m     30\u001b[0m \u001b[0;34m\u001b[0m\u001b[0m\n\u001b[1;32m     31\u001b[0m             \u001b[0;31m# Forward pass: get logits (raw prediction scores) from the model\u001b[0m\u001b[0;34m\u001b[0m\u001b[0;34m\u001b[0m\u001b[0m\n\u001b[0;32m---> 32\u001b[0;31m             \u001b[0moutputs\u001b[0m \u001b[0;34m=\u001b[0m \u001b[0mmodel\u001b[0m\u001b[0;34m(\u001b[0m\u001b[0minput_ids\u001b[0m\u001b[0;34m,\u001b[0m \u001b[0mattention_mask\u001b[0m\u001b[0;34m=\u001b[0m\u001b[0mattention_mask\u001b[0m\u001b[0;34m)\u001b[0m\u001b[0;34m\u001b[0m\u001b[0;34m\u001b[0m\u001b[0m\n\u001b[0m\u001b[1;32m     33\u001b[0m \u001b[0;34m\u001b[0m\u001b[0m\n\u001b[1;32m     34\u001b[0m             \u001b[0;31m# Get the predicted class by taking the index of the max logit value (highest score)\u001b[0m\u001b[0;34m\u001b[0m\u001b[0;34m\u001b[0m\u001b[0m\n",
            "\u001b[0;32m/usr/local/lib/python3.10/dist-packages/torch/nn/modules/module.py\u001b[0m in \u001b[0;36m_wrapped_call_impl\u001b[0;34m(self, *args, **kwargs)\u001b[0m\n\u001b[1;32m   1551\u001b[0m             \u001b[0;32mreturn\u001b[0m \u001b[0mself\u001b[0m\u001b[0;34m.\u001b[0m\u001b[0m_compiled_call_impl\u001b[0m\u001b[0;34m(\u001b[0m\u001b[0;34m*\u001b[0m\u001b[0margs\u001b[0m\u001b[0;34m,\u001b[0m \u001b[0;34m**\u001b[0m\u001b[0mkwargs\u001b[0m\u001b[0;34m)\u001b[0m  \u001b[0;31m# type: ignore[misc]\u001b[0m\u001b[0;34m\u001b[0m\u001b[0;34m\u001b[0m\u001b[0m\n\u001b[1;32m   1552\u001b[0m         \u001b[0;32melse\u001b[0m\u001b[0;34m:\u001b[0m\u001b[0;34m\u001b[0m\u001b[0;34m\u001b[0m\u001b[0m\n\u001b[0;32m-> 1553\u001b[0;31m             \u001b[0;32mreturn\u001b[0m \u001b[0mself\u001b[0m\u001b[0;34m.\u001b[0m\u001b[0m_call_impl\u001b[0m\u001b[0;34m(\u001b[0m\u001b[0;34m*\u001b[0m\u001b[0margs\u001b[0m\u001b[0;34m,\u001b[0m \u001b[0;34m**\u001b[0m\u001b[0mkwargs\u001b[0m\u001b[0;34m)\u001b[0m\u001b[0;34m\u001b[0m\u001b[0;34m\u001b[0m\u001b[0m\n\u001b[0m\u001b[1;32m   1554\u001b[0m \u001b[0;34m\u001b[0m\u001b[0m\n\u001b[1;32m   1555\u001b[0m     \u001b[0;32mdef\u001b[0m \u001b[0m_call_impl\u001b[0m\u001b[0;34m(\u001b[0m\u001b[0mself\u001b[0m\u001b[0;34m,\u001b[0m \u001b[0;34m*\u001b[0m\u001b[0margs\u001b[0m\u001b[0;34m,\u001b[0m \u001b[0;34m**\u001b[0m\u001b[0mkwargs\u001b[0m\u001b[0;34m)\u001b[0m\u001b[0;34m:\u001b[0m\u001b[0;34m\u001b[0m\u001b[0;34m\u001b[0m\u001b[0m\n",
            "\u001b[0;32m/usr/local/lib/python3.10/dist-packages/torch/nn/modules/module.py\u001b[0m in \u001b[0;36m_call_impl\u001b[0;34m(self, *args, **kwargs)\u001b[0m\n\u001b[1;32m   1560\u001b[0m                 \u001b[0;32mor\u001b[0m \u001b[0m_global_backward_pre_hooks\u001b[0m \u001b[0;32mor\u001b[0m \u001b[0m_global_backward_hooks\u001b[0m\u001b[0;34m\u001b[0m\u001b[0;34m\u001b[0m\u001b[0m\n\u001b[1;32m   1561\u001b[0m                 or _global_forward_hooks or _global_forward_pre_hooks):\n\u001b[0;32m-> 1562\u001b[0;31m             \u001b[0;32mreturn\u001b[0m \u001b[0mforward_call\u001b[0m\u001b[0;34m(\u001b[0m\u001b[0;34m*\u001b[0m\u001b[0margs\u001b[0m\u001b[0;34m,\u001b[0m \u001b[0;34m**\u001b[0m\u001b[0mkwargs\u001b[0m\u001b[0;34m)\u001b[0m\u001b[0;34m\u001b[0m\u001b[0;34m\u001b[0m\u001b[0m\n\u001b[0m\u001b[1;32m   1563\u001b[0m \u001b[0;34m\u001b[0m\u001b[0m\n\u001b[1;32m   1564\u001b[0m         \u001b[0;32mtry\u001b[0m\u001b[0;34m:\u001b[0m\u001b[0;34m\u001b[0m\u001b[0;34m\u001b[0m\u001b[0m\n",
            "\u001b[0;32m/usr/local/lib/python3.10/dist-packages/transformers/models/bert/modeling_bert.py\u001b[0m in \u001b[0;36mforward\u001b[0;34m(self, input_ids, attention_mask, token_type_ids, position_ids, head_mask, inputs_embeds, labels, output_attentions, output_hidden_states, return_dict)\u001b[0m\n\u001b[1;32m   1693\u001b[0m         \u001b[0mreturn_dict\u001b[0m \u001b[0;34m=\u001b[0m \u001b[0mreturn_dict\u001b[0m \u001b[0;32mif\u001b[0m \u001b[0mreturn_dict\u001b[0m \u001b[0;32mis\u001b[0m \u001b[0;32mnot\u001b[0m \u001b[0;32mNone\u001b[0m \u001b[0;32melse\u001b[0m \u001b[0mself\u001b[0m\u001b[0;34m.\u001b[0m\u001b[0mconfig\u001b[0m\u001b[0;34m.\u001b[0m\u001b[0muse_return_dict\u001b[0m\u001b[0;34m\u001b[0m\u001b[0;34m\u001b[0m\u001b[0m\n\u001b[1;32m   1694\u001b[0m \u001b[0;34m\u001b[0m\u001b[0m\n\u001b[0;32m-> 1695\u001b[0;31m         outputs = self.bert(\n\u001b[0m\u001b[1;32m   1696\u001b[0m             \u001b[0minput_ids\u001b[0m\u001b[0;34m,\u001b[0m\u001b[0;34m\u001b[0m\u001b[0;34m\u001b[0m\u001b[0m\n\u001b[1;32m   1697\u001b[0m             \u001b[0mattention_mask\u001b[0m\u001b[0;34m=\u001b[0m\u001b[0mattention_mask\u001b[0m\u001b[0;34m,\u001b[0m\u001b[0;34m\u001b[0m\u001b[0;34m\u001b[0m\u001b[0m\n",
            "\u001b[0;32m/usr/local/lib/python3.10/dist-packages/torch/nn/modules/module.py\u001b[0m in \u001b[0;36m_wrapped_call_impl\u001b[0;34m(self, *args, **kwargs)\u001b[0m\n\u001b[1;32m   1551\u001b[0m             \u001b[0;32mreturn\u001b[0m \u001b[0mself\u001b[0m\u001b[0;34m.\u001b[0m\u001b[0m_compiled_call_impl\u001b[0m\u001b[0;34m(\u001b[0m\u001b[0;34m*\u001b[0m\u001b[0margs\u001b[0m\u001b[0;34m,\u001b[0m \u001b[0;34m**\u001b[0m\u001b[0mkwargs\u001b[0m\u001b[0;34m)\u001b[0m  \u001b[0;31m# type: ignore[misc]\u001b[0m\u001b[0;34m\u001b[0m\u001b[0;34m\u001b[0m\u001b[0m\n\u001b[1;32m   1552\u001b[0m         \u001b[0;32melse\u001b[0m\u001b[0;34m:\u001b[0m\u001b[0;34m\u001b[0m\u001b[0;34m\u001b[0m\u001b[0m\n\u001b[0;32m-> 1553\u001b[0;31m             \u001b[0;32mreturn\u001b[0m \u001b[0mself\u001b[0m\u001b[0;34m.\u001b[0m\u001b[0m_call_impl\u001b[0m\u001b[0;34m(\u001b[0m\u001b[0;34m*\u001b[0m\u001b[0margs\u001b[0m\u001b[0;34m,\u001b[0m \u001b[0;34m**\u001b[0m\u001b[0mkwargs\u001b[0m\u001b[0;34m)\u001b[0m\u001b[0;34m\u001b[0m\u001b[0;34m\u001b[0m\u001b[0m\n\u001b[0m\u001b[1;32m   1554\u001b[0m \u001b[0;34m\u001b[0m\u001b[0m\n\u001b[1;32m   1555\u001b[0m     \u001b[0;32mdef\u001b[0m \u001b[0m_call_impl\u001b[0m\u001b[0;34m(\u001b[0m\u001b[0mself\u001b[0m\u001b[0;34m,\u001b[0m \u001b[0;34m*\u001b[0m\u001b[0margs\u001b[0m\u001b[0;34m,\u001b[0m \u001b[0;34m**\u001b[0m\u001b[0mkwargs\u001b[0m\u001b[0;34m)\u001b[0m\u001b[0;34m:\u001b[0m\u001b[0;34m\u001b[0m\u001b[0;34m\u001b[0m\u001b[0m\n",
            "\u001b[0;32m/usr/local/lib/python3.10/dist-packages/torch/nn/modules/module.py\u001b[0m in \u001b[0;36m_call_impl\u001b[0;34m(self, *args, **kwargs)\u001b[0m\n\u001b[1;32m   1560\u001b[0m                 \u001b[0;32mor\u001b[0m \u001b[0m_global_backward_pre_hooks\u001b[0m \u001b[0;32mor\u001b[0m \u001b[0m_global_backward_hooks\u001b[0m\u001b[0;34m\u001b[0m\u001b[0;34m\u001b[0m\u001b[0m\n\u001b[1;32m   1561\u001b[0m                 or _global_forward_hooks or _global_forward_pre_hooks):\n\u001b[0;32m-> 1562\u001b[0;31m             \u001b[0;32mreturn\u001b[0m \u001b[0mforward_call\u001b[0m\u001b[0;34m(\u001b[0m\u001b[0;34m*\u001b[0m\u001b[0margs\u001b[0m\u001b[0;34m,\u001b[0m \u001b[0;34m**\u001b[0m\u001b[0mkwargs\u001b[0m\u001b[0;34m)\u001b[0m\u001b[0;34m\u001b[0m\u001b[0;34m\u001b[0m\u001b[0m\n\u001b[0m\u001b[1;32m   1563\u001b[0m \u001b[0;34m\u001b[0m\u001b[0m\n\u001b[1;32m   1564\u001b[0m         \u001b[0;32mtry\u001b[0m\u001b[0;34m:\u001b[0m\u001b[0;34m\u001b[0m\u001b[0;34m\u001b[0m\u001b[0m\n",
            "\u001b[0;32m/usr/local/lib/python3.10/dist-packages/transformers/models/bert/modeling_bert.py\u001b[0m in \u001b[0;36mforward\u001b[0;34m(self, input_ids, attention_mask, token_type_ids, position_ids, head_mask, inputs_embeds, encoder_hidden_states, encoder_attention_mask, past_key_values, use_cache, output_attentions, output_hidden_states, return_dict)\u001b[0m\n\u001b[1;32m   1139\u001b[0m         \u001b[0mhead_mask\u001b[0m \u001b[0;34m=\u001b[0m \u001b[0mself\u001b[0m\u001b[0;34m.\u001b[0m\u001b[0mget_head_mask\u001b[0m\u001b[0;34m(\u001b[0m\u001b[0mhead_mask\u001b[0m\u001b[0;34m,\u001b[0m \u001b[0mself\u001b[0m\u001b[0;34m.\u001b[0m\u001b[0mconfig\u001b[0m\u001b[0;34m.\u001b[0m\u001b[0mnum_hidden_layers\u001b[0m\u001b[0;34m)\u001b[0m\u001b[0;34m\u001b[0m\u001b[0;34m\u001b[0m\u001b[0m\n\u001b[1;32m   1140\u001b[0m \u001b[0;34m\u001b[0m\u001b[0m\n\u001b[0;32m-> 1141\u001b[0;31m         encoder_outputs = self.encoder(\n\u001b[0m\u001b[1;32m   1142\u001b[0m             \u001b[0membedding_output\u001b[0m\u001b[0;34m,\u001b[0m\u001b[0;34m\u001b[0m\u001b[0;34m\u001b[0m\u001b[0m\n\u001b[1;32m   1143\u001b[0m             \u001b[0mattention_mask\u001b[0m\u001b[0;34m=\u001b[0m\u001b[0mextended_attention_mask\u001b[0m\u001b[0;34m,\u001b[0m\u001b[0;34m\u001b[0m\u001b[0;34m\u001b[0m\u001b[0m\n",
            "\u001b[0;32m/usr/local/lib/python3.10/dist-packages/torch/nn/modules/module.py\u001b[0m in \u001b[0;36m_wrapped_call_impl\u001b[0;34m(self, *args, **kwargs)\u001b[0m\n\u001b[1;32m   1551\u001b[0m             \u001b[0;32mreturn\u001b[0m \u001b[0mself\u001b[0m\u001b[0;34m.\u001b[0m\u001b[0m_compiled_call_impl\u001b[0m\u001b[0;34m(\u001b[0m\u001b[0;34m*\u001b[0m\u001b[0margs\u001b[0m\u001b[0;34m,\u001b[0m \u001b[0;34m**\u001b[0m\u001b[0mkwargs\u001b[0m\u001b[0;34m)\u001b[0m  \u001b[0;31m# type: ignore[misc]\u001b[0m\u001b[0;34m\u001b[0m\u001b[0;34m\u001b[0m\u001b[0m\n\u001b[1;32m   1552\u001b[0m         \u001b[0;32melse\u001b[0m\u001b[0;34m:\u001b[0m\u001b[0;34m\u001b[0m\u001b[0;34m\u001b[0m\u001b[0m\n\u001b[0;32m-> 1553\u001b[0;31m             \u001b[0;32mreturn\u001b[0m \u001b[0mself\u001b[0m\u001b[0;34m.\u001b[0m\u001b[0m_call_impl\u001b[0m\u001b[0;34m(\u001b[0m\u001b[0;34m*\u001b[0m\u001b[0margs\u001b[0m\u001b[0;34m,\u001b[0m \u001b[0;34m**\u001b[0m\u001b[0mkwargs\u001b[0m\u001b[0;34m)\u001b[0m\u001b[0;34m\u001b[0m\u001b[0;34m\u001b[0m\u001b[0m\n\u001b[0m\u001b[1;32m   1554\u001b[0m \u001b[0;34m\u001b[0m\u001b[0m\n\u001b[1;32m   1555\u001b[0m     \u001b[0;32mdef\u001b[0m \u001b[0m_call_impl\u001b[0m\u001b[0;34m(\u001b[0m\u001b[0mself\u001b[0m\u001b[0;34m,\u001b[0m \u001b[0;34m*\u001b[0m\u001b[0margs\u001b[0m\u001b[0;34m,\u001b[0m \u001b[0;34m**\u001b[0m\u001b[0mkwargs\u001b[0m\u001b[0;34m)\u001b[0m\u001b[0;34m:\u001b[0m\u001b[0;34m\u001b[0m\u001b[0;34m\u001b[0m\u001b[0m\n",
            "\u001b[0;32m/usr/local/lib/python3.10/dist-packages/torch/nn/modules/module.py\u001b[0m in \u001b[0;36m_call_impl\u001b[0;34m(self, *args, **kwargs)\u001b[0m\n\u001b[1;32m   1560\u001b[0m                 \u001b[0;32mor\u001b[0m \u001b[0m_global_backward_pre_hooks\u001b[0m \u001b[0;32mor\u001b[0m \u001b[0m_global_backward_hooks\u001b[0m\u001b[0;34m\u001b[0m\u001b[0;34m\u001b[0m\u001b[0m\n\u001b[1;32m   1561\u001b[0m                 or _global_forward_hooks or _global_forward_pre_hooks):\n\u001b[0;32m-> 1562\u001b[0;31m             \u001b[0;32mreturn\u001b[0m \u001b[0mforward_call\u001b[0m\u001b[0;34m(\u001b[0m\u001b[0;34m*\u001b[0m\u001b[0margs\u001b[0m\u001b[0;34m,\u001b[0m \u001b[0;34m**\u001b[0m\u001b[0mkwargs\u001b[0m\u001b[0;34m)\u001b[0m\u001b[0;34m\u001b[0m\u001b[0;34m\u001b[0m\u001b[0m\n\u001b[0m\u001b[1;32m   1563\u001b[0m \u001b[0;34m\u001b[0m\u001b[0m\n\u001b[1;32m   1564\u001b[0m         \u001b[0;32mtry\u001b[0m\u001b[0;34m:\u001b[0m\u001b[0;34m\u001b[0m\u001b[0;34m\u001b[0m\u001b[0m\n",
            "\u001b[0;32m/usr/local/lib/python3.10/dist-packages/transformers/models/bert/modeling_bert.py\u001b[0m in \u001b[0;36mforward\u001b[0;34m(self, hidden_states, attention_mask, head_mask, encoder_hidden_states, encoder_attention_mask, past_key_values, use_cache, output_attentions, output_hidden_states, return_dict)\u001b[0m\n\u001b[1;32m    692\u001b[0m                 )\n\u001b[1;32m    693\u001b[0m             \u001b[0;32melse\u001b[0m\u001b[0;34m:\u001b[0m\u001b[0;34m\u001b[0m\u001b[0;34m\u001b[0m\u001b[0m\n\u001b[0;32m--> 694\u001b[0;31m                 layer_outputs = layer_module(\n\u001b[0m\u001b[1;32m    695\u001b[0m                     \u001b[0mhidden_states\u001b[0m\u001b[0;34m,\u001b[0m\u001b[0;34m\u001b[0m\u001b[0;34m\u001b[0m\u001b[0m\n\u001b[1;32m    696\u001b[0m                     \u001b[0mattention_mask\u001b[0m\u001b[0;34m,\u001b[0m\u001b[0;34m\u001b[0m\u001b[0;34m\u001b[0m\u001b[0m\n",
            "\u001b[0;32m/usr/local/lib/python3.10/dist-packages/torch/nn/modules/module.py\u001b[0m in \u001b[0;36m_wrapped_call_impl\u001b[0;34m(self, *args, **kwargs)\u001b[0m\n\u001b[1;32m   1551\u001b[0m             \u001b[0;32mreturn\u001b[0m \u001b[0mself\u001b[0m\u001b[0;34m.\u001b[0m\u001b[0m_compiled_call_impl\u001b[0m\u001b[0;34m(\u001b[0m\u001b[0;34m*\u001b[0m\u001b[0margs\u001b[0m\u001b[0;34m,\u001b[0m \u001b[0;34m**\u001b[0m\u001b[0mkwargs\u001b[0m\u001b[0;34m)\u001b[0m  \u001b[0;31m# type: ignore[misc]\u001b[0m\u001b[0;34m\u001b[0m\u001b[0;34m\u001b[0m\u001b[0m\n\u001b[1;32m   1552\u001b[0m         \u001b[0;32melse\u001b[0m\u001b[0;34m:\u001b[0m\u001b[0;34m\u001b[0m\u001b[0;34m\u001b[0m\u001b[0m\n\u001b[0;32m-> 1553\u001b[0;31m             \u001b[0;32mreturn\u001b[0m \u001b[0mself\u001b[0m\u001b[0;34m.\u001b[0m\u001b[0m_call_impl\u001b[0m\u001b[0;34m(\u001b[0m\u001b[0;34m*\u001b[0m\u001b[0margs\u001b[0m\u001b[0;34m,\u001b[0m \u001b[0;34m**\u001b[0m\u001b[0mkwargs\u001b[0m\u001b[0;34m)\u001b[0m\u001b[0;34m\u001b[0m\u001b[0;34m\u001b[0m\u001b[0m\n\u001b[0m\u001b[1;32m   1554\u001b[0m \u001b[0;34m\u001b[0m\u001b[0m\n\u001b[1;32m   1555\u001b[0m     \u001b[0;32mdef\u001b[0m \u001b[0m_call_impl\u001b[0m\u001b[0;34m(\u001b[0m\u001b[0mself\u001b[0m\u001b[0;34m,\u001b[0m \u001b[0;34m*\u001b[0m\u001b[0margs\u001b[0m\u001b[0;34m,\u001b[0m \u001b[0;34m**\u001b[0m\u001b[0mkwargs\u001b[0m\u001b[0;34m)\u001b[0m\u001b[0;34m:\u001b[0m\u001b[0;34m\u001b[0m\u001b[0;34m\u001b[0m\u001b[0m\n",
            "\u001b[0;32m/usr/local/lib/python3.10/dist-packages/torch/nn/modules/module.py\u001b[0m in \u001b[0;36m_call_impl\u001b[0;34m(self, *args, **kwargs)\u001b[0m\n\u001b[1;32m   1560\u001b[0m                 \u001b[0;32mor\u001b[0m \u001b[0m_global_backward_pre_hooks\u001b[0m \u001b[0;32mor\u001b[0m \u001b[0m_global_backward_hooks\u001b[0m\u001b[0;34m\u001b[0m\u001b[0;34m\u001b[0m\u001b[0m\n\u001b[1;32m   1561\u001b[0m                 or _global_forward_hooks or _global_forward_pre_hooks):\n\u001b[0;32m-> 1562\u001b[0;31m             \u001b[0;32mreturn\u001b[0m \u001b[0mforward_call\u001b[0m\u001b[0;34m(\u001b[0m\u001b[0;34m*\u001b[0m\u001b[0margs\u001b[0m\u001b[0;34m,\u001b[0m \u001b[0;34m**\u001b[0m\u001b[0mkwargs\u001b[0m\u001b[0;34m)\u001b[0m\u001b[0;34m\u001b[0m\u001b[0;34m\u001b[0m\u001b[0m\n\u001b[0m\u001b[1;32m   1563\u001b[0m \u001b[0;34m\u001b[0m\u001b[0m\n\u001b[1;32m   1564\u001b[0m         \u001b[0;32mtry\u001b[0m\u001b[0;34m:\u001b[0m\u001b[0;34m\u001b[0m\u001b[0;34m\u001b[0m\u001b[0m\n",
            "\u001b[0;32m/usr/local/lib/python3.10/dist-packages/transformers/models/bert/modeling_bert.py\u001b[0m in \u001b[0;36mforward\u001b[0;34m(self, hidden_states, attention_mask, head_mask, encoder_hidden_states, encoder_attention_mask, past_key_value, output_attentions)\u001b[0m\n\u001b[1;32m    582\u001b[0m         \u001b[0;31m# decoder uni-directional self-attention cached key/values tuple is at positions 1,2\u001b[0m\u001b[0;34m\u001b[0m\u001b[0;34m\u001b[0m\u001b[0m\n\u001b[1;32m    583\u001b[0m         \u001b[0mself_attn_past_key_value\u001b[0m \u001b[0;34m=\u001b[0m \u001b[0mpast_key_value\u001b[0m\u001b[0;34m[\u001b[0m\u001b[0;34m:\u001b[0m\u001b[0;36m2\u001b[0m\u001b[0;34m]\u001b[0m \u001b[0;32mif\u001b[0m \u001b[0mpast_key_value\u001b[0m \u001b[0;32mis\u001b[0m \u001b[0;32mnot\u001b[0m \u001b[0;32mNone\u001b[0m \u001b[0;32melse\u001b[0m \u001b[0;32mNone\u001b[0m\u001b[0;34m\u001b[0m\u001b[0;34m\u001b[0m\u001b[0m\n\u001b[0;32m--> 584\u001b[0;31m         self_attention_outputs = self.attention(\n\u001b[0m\u001b[1;32m    585\u001b[0m             \u001b[0mhidden_states\u001b[0m\u001b[0;34m,\u001b[0m\u001b[0;34m\u001b[0m\u001b[0;34m\u001b[0m\u001b[0m\n\u001b[1;32m    586\u001b[0m             \u001b[0mattention_mask\u001b[0m\u001b[0;34m,\u001b[0m\u001b[0;34m\u001b[0m\u001b[0;34m\u001b[0m\u001b[0m\n",
            "\u001b[0;32m/usr/local/lib/python3.10/dist-packages/torch/nn/modules/module.py\u001b[0m in \u001b[0;36m_wrapped_call_impl\u001b[0;34m(self, *args, **kwargs)\u001b[0m\n\u001b[1;32m   1551\u001b[0m             \u001b[0;32mreturn\u001b[0m \u001b[0mself\u001b[0m\u001b[0;34m.\u001b[0m\u001b[0m_compiled_call_impl\u001b[0m\u001b[0;34m(\u001b[0m\u001b[0;34m*\u001b[0m\u001b[0margs\u001b[0m\u001b[0;34m,\u001b[0m \u001b[0;34m**\u001b[0m\u001b[0mkwargs\u001b[0m\u001b[0;34m)\u001b[0m  \u001b[0;31m# type: ignore[misc]\u001b[0m\u001b[0;34m\u001b[0m\u001b[0;34m\u001b[0m\u001b[0m\n\u001b[1;32m   1552\u001b[0m         \u001b[0;32melse\u001b[0m\u001b[0;34m:\u001b[0m\u001b[0;34m\u001b[0m\u001b[0;34m\u001b[0m\u001b[0m\n\u001b[0;32m-> 1553\u001b[0;31m             \u001b[0;32mreturn\u001b[0m \u001b[0mself\u001b[0m\u001b[0;34m.\u001b[0m\u001b[0m_call_impl\u001b[0m\u001b[0;34m(\u001b[0m\u001b[0;34m*\u001b[0m\u001b[0margs\u001b[0m\u001b[0;34m,\u001b[0m \u001b[0;34m**\u001b[0m\u001b[0mkwargs\u001b[0m\u001b[0;34m)\u001b[0m\u001b[0;34m\u001b[0m\u001b[0;34m\u001b[0m\u001b[0m\n\u001b[0m\u001b[1;32m   1554\u001b[0m \u001b[0;34m\u001b[0m\u001b[0m\n\u001b[1;32m   1555\u001b[0m     \u001b[0;32mdef\u001b[0m \u001b[0m_call_impl\u001b[0m\u001b[0;34m(\u001b[0m\u001b[0mself\u001b[0m\u001b[0;34m,\u001b[0m \u001b[0;34m*\u001b[0m\u001b[0margs\u001b[0m\u001b[0;34m,\u001b[0m \u001b[0;34m**\u001b[0m\u001b[0mkwargs\u001b[0m\u001b[0;34m)\u001b[0m\u001b[0;34m:\u001b[0m\u001b[0;34m\u001b[0m\u001b[0;34m\u001b[0m\u001b[0m\n",
            "\u001b[0;32m/usr/local/lib/python3.10/dist-packages/torch/nn/modules/module.py\u001b[0m in \u001b[0;36m_call_impl\u001b[0;34m(self, *args, **kwargs)\u001b[0m\n\u001b[1;32m   1560\u001b[0m                 \u001b[0;32mor\u001b[0m \u001b[0m_global_backward_pre_hooks\u001b[0m \u001b[0;32mor\u001b[0m \u001b[0m_global_backward_hooks\u001b[0m\u001b[0;34m\u001b[0m\u001b[0;34m\u001b[0m\u001b[0m\n\u001b[1;32m   1561\u001b[0m                 or _global_forward_hooks or _global_forward_pre_hooks):\n\u001b[0;32m-> 1562\u001b[0;31m             \u001b[0;32mreturn\u001b[0m \u001b[0mforward_call\u001b[0m\u001b[0;34m(\u001b[0m\u001b[0;34m*\u001b[0m\u001b[0margs\u001b[0m\u001b[0;34m,\u001b[0m \u001b[0;34m**\u001b[0m\u001b[0mkwargs\u001b[0m\u001b[0;34m)\u001b[0m\u001b[0;34m\u001b[0m\u001b[0;34m\u001b[0m\u001b[0m\n\u001b[0m\u001b[1;32m   1563\u001b[0m \u001b[0;34m\u001b[0m\u001b[0m\n\u001b[1;32m   1564\u001b[0m         \u001b[0;32mtry\u001b[0m\u001b[0;34m:\u001b[0m\u001b[0;34m\u001b[0m\u001b[0;34m\u001b[0m\u001b[0m\n",
            "\u001b[0;32m/usr/local/lib/python3.10/dist-packages/transformers/models/bert/modeling_bert.py\u001b[0m in \u001b[0;36mforward\u001b[0;34m(self, hidden_states, attention_mask, head_mask, encoder_hidden_states, encoder_attention_mask, past_key_value, output_attentions)\u001b[0m\n\u001b[1;32m    512\u001b[0m         \u001b[0moutput_attentions\u001b[0m\u001b[0;34m:\u001b[0m \u001b[0mOptional\u001b[0m\u001b[0;34m[\u001b[0m\u001b[0mbool\u001b[0m\u001b[0;34m]\u001b[0m \u001b[0;34m=\u001b[0m \u001b[0;32mFalse\u001b[0m\u001b[0;34m,\u001b[0m\u001b[0;34m\u001b[0m\u001b[0;34m\u001b[0m\u001b[0m\n\u001b[1;32m    513\u001b[0m     ) -> Tuple[torch.Tensor]:\n\u001b[0;32m--> 514\u001b[0;31m         self_outputs = self.self(\n\u001b[0m\u001b[1;32m    515\u001b[0m             \u001b[0mhidden_states\u001b[0m\u001b[0;34m,\u001b[0m\u001b[0;34m\u001b[0m\u001b[0;34m\u001b[0m\u001b[0m\n\u001b[1;32m    516\u001b[0m             \u001b[0mattention_mask\u001b[0m\u001b[0;34m,\u001b[0m\u001b[0;34m\u001b[0m\u001b[0;34m\u001b[0m\u001b[0m\n",
            "\u001b[0;32m/usr/local/lib/python3.10/dist-packages/torch/nn/modules/module.py\u001b[0m in \u001b[0;36m_wrapped_call_impl\u001b[0;34m(self, *args, **kwargs)\u001b[0m\n\u001b[1;32m   1551\u001b[0m             \u001b[0;32mreturn\u001b[0m \u001b[0mself\u001b[0m\u001b[0;34m.\u001b[0m\u001b[0m_compiled_call_impl\u001b[0m\u001b[0;34m(\u001b[0m\u001b[0;34m*\u001b[0m\u001b[0margs\u001b[0m\u001b[0;34m,\u001b[0m \u001b[0;34m**\u001b[0m\u001b[0mkwargs\u001b[0m\u001b[0;34m)\u001b[0m  \u001b[0;31m# type: ignore[misc]\u001b[0m\u001b[0;34m\u001b[0m\u001b[0;34m\u001b[0m\u001b[0m\n\u001b[1;32m   1552\u001b[0m         \u001b[0;32melse\u001b[0m\u001b[0;34m:\u001b[0m\u001b[0;34m\u001b[0m\u001b[0;34m\u001b[0m\u001b[0m\n\u001b[0;32m-> 1553\u001b[0;31m             \u001b[0;32mreturn\u001b[0m \u001b[0mself\u001b[0m\u001b[0;34m.\u001b[0m\u001b[0m_call_impl\u001b[0m\u001b[0;34m(\u001b[0m\u001b[0;34m*\u001b[0m\u001b[0margs\u001b[0m\u001b[0;34m,\u001b[0m \u001b[0;34m**\u001b[0m\u001b[0mkwargs\u001b[0m\u001b[0;34m)\u001b[0m\u001b[0;34m\u001b[0m\u001b[0;34m\u001b[0m\u001b[0m\n\u001b[0m\u001b[1;32m   1554\u001b[0m \u001b[0;34m\u001b[0m\u001b[0m\n\u001b[1;32m   1555\u001b[0m     \u001b[0;32mdef\u001b[0m \u001b[0m_call_impl\u001b[0m\u001b[0;34m(\u001b[0m\u001b[0mself\u001b[0m\u001b[0;34m,\u001b[0m \u001b[0;34m*\u001b[0m\u001b[0margs\u001b[0m\u001b[0;34m,\u001b[0m \u001b[0;34m**\u001b[0m\u001b[0mkwargs\u001b[0m\u001b[0;34m)\u001b[0m\u001b[0;34m:\u001b[0m\u001b[0;34m\u001b[0m\u001b[0;34m\u001b[0m\u001b[0m\n",
            "\u001b[0;32m/usr/local/lib/python3.10/dist-packages/torch/nn/modules/module.py\u001b[0m in \u001b[0;36m_call_impl\u001b[0;34m(self, *args, **kwargs)\u001b[0m\n\u001b[1;32m   1560\u001b[0m                 \u001b[0;32mor\u001b[0m \u001b[0m_global_backward_pre_hooks\u001b[0m \u001b[0;32mor\u001b[0m \u001b[0m_global_backward_hooks\u001b[0m\u001b[0;34m\u001b[0m\u001b[0;34m\u001b[0m\u001b[0m\n\u001b[1;32m   1561\u001b[0m                 or _global_forward_hooks or _global_forward_pre_hooks):\n\u001b[0;32m-> 1562\u001b[0;31m             \u001b[0;32mreturn\u001b[0m \u001b[0mforward_call\u001b[0m\u001b[0;34m(\u001b[0m\u001b[0;34m*\u001b[0m\u001b[0margs\u001b[0m\u001b[0;34m,\u001b[0m \u001b[0;34m**\u001b[0m\u001b[0mkwargs\u001b[0m\u001b[0;34m)\u001b[0m\u001b[0;34m\u001b[0m\u001b[0;34m\u001b[0m\u001b[0m\n\u001b[0m\u001b[1;32m   1563\u001b[0m \u001b[0;34m\u001b[0m\u001b[0m\n\u001b[1;32m   1564\u001b[0m         \u001b[0;32mtry\u001b[0m\u001b[0;34m:\u001b[0m\u001b[0;34m\u001b[0m\u001b[0;34m\u001b[0m\u001b[0m\n",
            "\u001b[0;32m/usr/local/lib/python3.10/dist-packages/transformers/models/bert/modeling_bert.py\u001b[0m in \u001b[0;36mforward\u001b[0;34m(self, hidden_states, attention_mask, head_mask, encoder_hidden_states, encoder_attention_mask, past_key_value, output_attentions)\u001b[0m\n\u001b[1;32m    301\u001b[0m \u001b[0;34m\u001b[0m\u001b[0m\n\u001b[1;32m    302\u001b[0m         \u001b[0;31m# Take the dot product between \"query\" and \"key\" to get the raw attention scores.\u001b[0m\u001b[0;34m\u001b[0m\u001b[0;34m\u001b[0m\u001b[0m\n\u001b[0;32m--> 303\u001b[0;31m         \u001b[0mattention_scores\u001b[0m \u001b[0;34m=\u001b[0m \u001b[0mtorch\u001b[0m\u001b[0;34m.\u001b[0m\u001b[0mmatmul\u001b[0m\u001b[0;34m(\u001b[0m\u001b[0mquery_layer\u001b[0m\u001b[0;34m,\u001b[0m \u001b[0mkey_layer\u001b[0m\u001b[0;34m.\u001b[0m\u001b[0mtranspose\u001b[0m\u001b[0;34m(\u001b[0m\u001b[0;34m-\u001b[0m\u001b[0;36m1\u001b[0m\u001b[0;34m,\u001b[0m \u001b[0;34m-\u001b[0m\u001b[0;36m2\u001b[0m\u001b[0;34m)\u001b[0m\u001b[0;34m)\u001b[0m\u001b[0;34m\u001b[0m\u001b[0;34m\u001b[0m\u001b[0m\n\u001b[0m\u001b[1;32m    304\u001b[0m \u001b[0;34m\u001b[0m\u001b[0m\n\u001b[1;32m    305\u001b[0m         \u001b[0;32mif\u001b[0m \u001b[0mself\u001b[0m\u001b[0;34m.\u001b[0m\u001b[0mposition_embedding_type\u001b[0m \u001b[0;34m==\u001b[0m \u001b[0;34m\"relative_key\"\u001b[0m \u001b[0;32mor\u001b[0m \u001b[0mself\u001b[0m\u001b[0;34m.\u001b[0m\u001b[0mposition_embedding_type\u001b[0m \u001b[0;34m==\u001b[0m \u001b[0;34m\"relative_key_query\"\u001b[0m\u001b[0;34m:\u001b[0m\u001b[0;34m\u001b[0m\u001b[0;34m\u001b[0m\u001b[0m\n",
            "\u001b[0;31mKeyboardInterrupt\u001b[0m: "
          ]
        }
      ]
    },
    {
      "cell_type": "code",
      "source": [
        "def plot_attention(text: str, model: BertForSequenceClassification,\n",
        "                   tokenizer: BertTokenizer, label_encoder: LabelEncoder,\n",
        "                   layer_num: int = -1, head_num: int = -1):\n",
        "    \"\"\"\n",
        "    Plot the attention weights for a given text input, specifically focusing on a\n",
        "    selected attention head and layer of the model. This function also shows the\n",
        "    predicted class for the input text.\n",
        "\n",
        "    Args:\n",
        "    - text (str): The input text to analyze attention for.\n",
        "    - model (BertForSequenceClassification): Pre-trained BERT model for sequence classification.\n",
        "    - tokenizer (BertTokenizer): Tokenizer associated with the BERT model.\n",
        "    - label_encoder (LabelEncoder): Encoder to decode predicted labels.\n",
        "    - layer_num (int): The layer number to extract attention weights from. Defaults to -1 (last layer).\n",
        "    - head_num (int): The head number to extract attention weights from. Defaults to -1 (last head).\n",
        "\n",
        "    Returns:\n",
        "    None. Displays a bar chart showing the attention weights of the [CLS] token for each word in the input text.\n",
        "    \"\"\"\n",
        "\n",
        "    cls_attention, words, logits = get_attention_weights(text, model, tokenizer, label_encoder,\n",
        "                                                         layer_num, head_num)\n",
        "    # Calculate the model's prediction by getting the predicted class\n",
        "    probs = F.softmax(logits, dim=-1)  # Apply softmax to get class probabilities\n",
        "    predicted_class = probs.argmax(dim=-1).item()  # Get the class index with the highest probability\n",
        "    prediction = label_encoder.inverse_transform([predicted_class])[0]  # Decode class to label\n",
        "\n",
        "        # Create a plot to visualize attention weights for each token\n",
        "    fig, ax = plt.subplots(figsize=(10, 8))\n",
        "    fig.suptitle(f\"Attention Analysis (Layer: {layer_num}, Head: {head_num})\\nPrediction: {prediction}\",\n",
        "                  fontsize=16)\n",
        "\n",
        "    # Prepare data for the horizontal bar chart\n",
        "    y_pos = np.arange(len(words))\n",
        "    ax.barh(y_pos, cls_attention, align='center')  # Plot attention weights as bars\n",
        "\n",
        "    # Set labels and axis information\n",
        "    ax.set_yticks(y_pos)\n",
        "    ax.set_yticklabels(words)  # Set word labels on the y-axis\n",
        "    ax.invert_yaxis()  # Invert the y-axis to display tokens from top to bottom\n",
        "    ax.set_xlabel('Attention Weights')\n",
        "\n",
        "    # Ensure layout is adjusted properly\n",
        "    plt.tight_layout()\n",
        "    plt.show()\n",
        "\n",
        "    # Print input text and the tokenized words for reference\n",
        "    print(f\"Input words: {' '.join(words)}\")"
      ],
      "metadata": {
        "id": "H4IFZrQfb-Vf"
      },
      "execution_count": 19,
      "outputs": []
    },
    {
      "cell_type": "code",
      "source": [
        "#text = \"58yo man presents with stomach pain and acute shortness of breath\"\n",
        "text = \"The patient shows symptoms of high fever, persistent cough, and shortness of breath \" \\\n",
        "               \"He has a history of asthma and has been exposed to a known case of pneumonia\""
      ],
      "metadata": {
        "id": "nCLHdJY1DV9F"
      },
      "execution_count": 20,
      "outputs": []
    },
    {
      "cell_type": "code",
      "source": [
        "plot_attention(text, model, tokenizer,label_encoder, layer_num= -1, head_num= -1)"
      ],
      "metadata": {
        "colab": {
          "base_uri": "https://localhost:8080/",
          "height": 646
        },
        "id": "gLndLkcwg6pV",
        "outputId": "d1ecec92-a351-48f9-c9a2-91b79b8460b4"
      },
      "execution_count": 21,
      "outputs": [
        {
          "output_type": "display_data",
          "data": {
            "text/plain": [
              "<Figure size 1000x800 with 1 Axes>"
            ],
            "image/png": "[encoded data removed]"
          },
          "metadata": {}
        },
        {
          "output_type": "stream",
          "name": "stdout",
          "text": [
            "Input words: The patient shows symptoms of high fever , persistent cough , and shortness of breath He has a history of asthma and has been exposed to a known case of pneumonia\n"
          ]
        }
      ]
    },
    {
      "cell_type": "code",
      "source": [
        "def get_predictions_with_probabilities(\n",
        "    text: str,\n",
        "    model: BertForSequenceClassification,\n",
        "    tokenizer: BertTokenizer,\n",
        "    label_encoder: LabelEncoder\n",
        "):\n",
        "    \"\"\"\n",
        "    Get predicted labels and their probabilities for a given text input using a pre-trained BERT model.\n",
        "\n",
        "    This function tokenizes the input text, runs it through a BERT model for sequence classification,\n",
        "    and returns the predicted labels along with their respective probabilities.\n",
        "\n",
        "    Parameters:\n",
        "    ----------\n",
        "    text : str\n",
        "        The input text for which predictions are to be made.\n",
        "\n",
        "    model : BertForSequenceClassification\n",
        "        The pre-trained BERT model for sequence classification. This model should be in evaluation mode.\n",
        "\n",
        "    tokenizer : BertTokenizer\n",
        "        The tokenizer corresponding to the pre-trained BERT model. It is used to convert input text into\n",
        "        tokens and further into input tensors for the model.\n",
        "\n",
        "    label_encoder : LabelEncoder\n",
        "        The label encoder used to transform label indices into human-readable labels.\n",
        "\n",
        "    Returns:\n",
        "    -------\n",
        "    tuple\n",
        "        A tuple containing:\n",
        "        - labels : np.ndarray\n",
        "            The predicted labels corresponding to the input text. These are the inverse transformed labels from the label encoder.\n",
        "        - probs_np : np.ndarray\n",
        "            An array of probabilities associated with each label, representing the model's confidence in its predictions.\n",
        "\n",
        "    Notes:\n",
        "    -----\n",
        "    - The function uses PyTorch for model inference. Ensure that the model and tokenizer are loaded correctly\n",
        "      and that the appropriate device (CPU or GPU) is set prior to calling this function.\n",
        "    - The input text is truncated to a maximum length of 512 tokens as required by BERT.\n",
        "    - Softmax is applied to the logits obtained from the model to convert them into probabilities.\n",
        "    - The gradient calculation is disabled during inference to save memory and computation time.\n",
        "\n",
        "    Example:\n",
        "    --------\n",
        "    labels, probabilities = get_predictions_with_probabilities(\"Sample text for prediction.\", model, tokenizer, label_encoder)\n",
        "    \"\"\"\n",
        "\n",
        "    # Tokenize the input text and convert it into PyTorch tensors\n",
        "    inputs = tokenizer(text, return_tensors=\"pt\", padding=True,\n",
        "                       truncation=True, max_length=512).to(device)\n",
        "\n",
        "    # Set the model to evaluation mode\n",
        "    model.eval()\n",
        "\n",
        "    with torch.no_grad():  # Disable gradient calculation for inference\n",
        "        outputs = model(**inputs)  # Forward pass through the model\n",
        "\n",
        "    logits = outputs.logits  # Get the raw prediction scores (logits)\n",
        "\n",
        "    # Apply softmax to convert logits to probabilities\n",
        "    probs = F.softmax(logits, dim=-1)\n",
        "\n",
        "    # Convert probabilities to numpy array for easier manipulation\n",
        "    probs_np = probs.cpu().numpy()[0]\n",
        "\n",
        "    # Get all labels based on the label encoder's mapping\n",
        "    labels = label_encoder.inverse_transform(range(len(probs_np)))\n",
        "\n",
        "    return labels, probs_np\n"
      ],
      "metadata": {
        "id": "kUX8Jjsmjst-"
      },
      "execution_count": 22,
      "outputs": []
    },
    {
      "cell_type": "code",
      "source": [
        "# from IPython.display import display, HTML\n",
        "# import random\n",
        "\n",
        "# def generate_color(value, max_value):\n",
        "#     # Generate a color from red (low value) to green (high value)\n",
        "#     r = int(255 * (1 - value / max_value))\n",
        "#     g = int(255 * (value / max_value))\n",
        "#     b = 0\n",
        "#     return f\"#{r:02x}{g:02x}{b:02x}\"\n",
        "\n",
        "# def visualize_attention_and_predictions(input_text, attention_weights, predictions, probabilities):\n",
        "#     # Prepare data\n",
        "#     words = input_text.split()\n",
        "#     word_attention_pairs = list(zip(words, attention_weights))\n",
        "#     prediction_probability_pairs = list(zip(predictions, probabilities))\n",
        "\n",
        "#     # Sort predictions by probability\n",
        "#     prediction_probability_pairs.sort(key=lambda x: x[1], reverse=True)\n",
        "\n",
        "#     # Find max attention and probability\n",
        "#     max_attention = max(attention_weights)\n",
        "#     max_probability = max(probabilities)\n",
        "\n",
        "#     # Generate HTML\n",
        "#     html_output = \"<h3>Input Words</h3>\"\n",
        "\n",
        "#     for word, attn in word_attention_pairs:\n",
        "#         color = generate_color(attn, max_attention)\n",
        "#         background = f\"background-color: #800080;\" if attn == max_attention else \"\"\n",
        "#         html_output += f'<span style=\"font-size: 16px; margin-right: 10px; {background}\">{word}<sub style=\"color: {color}; font-size: 10px;\">{attn:.2f}</sub></span>'\n",
        "\n",
        "#     html_output += \"<h3>Top Predictions</h3>\"\n",
        "\n",
        "#     for i, (pred, prob) in enumerate(prediction_probability_pairs):\n",
        "#         color = generate_color(prob, max_probability)\n",
        "#         background = f\"background-color: #800080;\" if i == 0 else \"\"  # Shade the top prediction\n",
        "#         html_output += f'<span style=\"font-size: 16px; margin-right: 10px; {background}\">{pred}<sub style=\"color: {color}; font-size: 10px;\">{prob:.2f}</sub></span>'\n",
        "\n",
        "#     # Display the HTML\n",
        "#     display(HTML(html_output))\n",
        "\n",
        "# # Example usage\n",
        "# input_text = \"58yo man presents with stomach pain and acute shortness of breath\"\n",
        "# attention_weights = [0.10, 0.15, 0.05, 0.20, 0.30, 0.10, 0.05, 0.05, 0.00, 0.00, 0.00]\n",
        "# predictions = [\"esophagitis\", \"anxiety\", \"abuse of drugs\", \"hypertension\", \"heart failure\"]\n",
        "# probabilities = [0.49, 0.44, 0.63, 0.31, 0.84]\n",
        "\n",
        "# visualize_attention_and_predictions(input_text, attention_weights, predictions, probabilities)"
      ],
      "metadata": {
        "id": "aAx9ggoqBz4-"
      },
      "execution_count": null,
      "outputs": []
    },
    {
      "cell_type": "code",
      "source": [
        "# ANSI escape codes for colors and formatting\n",
        "RESET = \"\\033[0m\"\n",
        "BOLD = \"\\033[1m\"\n",
        "LIGHT_GREEN = \"\\033[38;2;144;238;144m\"  # Light green for highlighting\n",
        "BG_PURPLE = \"\\033[45m\"  # Purple background for highlighting the max attention word and top prediction\n",
        "\n",
        "# Unicode subscript characters for digits 0-9\n",
        "subscript_digits = {\n",
        "    '0': '\\u2080',\n",
        "    '1': '\\u2081',\n",
        "    '2': '\\u2082',\n",
        "    '3': '\\u2083',\n",
        "    '4': '\\u2084',\n",
        "    '5': '\\u2085',\n",
        "    '6': '\\u2086',\n",
        "    '7': '\\u2087',\n",
        "    '8': '\\u2088',\n",
        "    '9': '\\u2089',\n",
        "}\n",
        "\n",
        "def to_subscript(num):\n",
        "    \"\"\"Convert a number to subscript format.\"\"\"\n",
        "    # First, round the number to two decimal places as a string\n",
        "    formatted_num = f\"{num:.5f}\"\n",
        "\n",
        "    # Then, convert the number to subscript format\n",
        "    return ''.join(subscript_digits.get(digit, digit) for digit in formatted_num)\n",
        "\n",
        "def generate_color(value, max_value):\n",
        "    \"\"\"Generate a color from red (low value) to green (high value).\"\"\"\n",
        "    r = int(255 * (1 - value / max_value))\n",
        "    g = int(255 * (value / max_value))\n",
        "    b = 0\n",
        "    return f\"\\033[38;2;{r};{g};{b}m\"\n",
        "\n",
        "def visualize_attention_and_predictions(\n",
        "    text: str,\n",
        "    model: BertForSequenceClassification,\n",
        "    tokenizer: BertTokenizer,\n",
        "    label_encoder: LabelEncoder,\n",
        "    layer_num: int = -1,\n",
        "    head_num: int = -1\n",
        "):\n",
        "    \"\"\"Visualize attention weights and predictions for a given text using a BERT model.\"\"\"\n",
        "\n",
        "    # Get prediction probabilities\n",
        "    labels, prediction_probs = get_predictions_with_probabilities(text, model, tokenizer, label_encoder)\n",
        "\n",
        "    # Get attention weights\n",
        "    cls_attention, words,_ = get_attention_weights(text, model, tokenizer, label_encoder, layer_num, head_num)\n",
        "\n",
        "    # Zip words with their corresponding attention weights\n",
        "    word_attention_pairs = list(zip(words, cls_attention))\n",
        "\n",
        "    # Sort predictions by probability\n",
        "    prediction_probability_pairs = list(zip(labels, prediction_probs))\n",
        "    prediction_probability_pairs.sort(key=lambda x: x[1], reverse=True)\n",
        "\n",
        "    # Find max attention and max probability\n",
        "    max_attention = max(cls_attention)\n",
        "    max_probability = max(prediction_probs)\n",
        "    # Generate output for input words\n",
        "    print(BOLD + \"Input Words:\" + RESET)\n",
        "    for word, attn in word_attention_pairs:\n",
        "        color = generate_color(attn, max_attention)\n",
        "        background = BG_PURPLE if attn == max_attention else \"\"\n",
        "        print(f\"{background}{word}{RESET} {color}{to_subscript(attn)}{RESET}\", end=\" \")\n",
        "    print(\"\\n\")\n",
        "\n",
        "    # Generate output for predictions\n",
        "   print(BOLD + \"Top Predictions:\" + RESET)\n",
        "    for i, (pred, prob) in enumerate(prediction_probability_pairs[:3]):\n",
        "        color = generate_color(prob, max_probability)\n",
        "        background = BG_PURPLE if i == 0 else \"\"  # Highlight the top prediction\n",
        "        print(f\"{background}{pred}{RESET} {color}{to_subscript(prob)}{RESET}\", end=\" \")\n",
        "    print(\"\\n\")"
      ],
      "metadata": {
        "id": "w6S3FHdzl84Z"
      },
      "execution_count": 26,
      "outputs": []
    },
    {
      "cell_type": "code",
      "source": [
        "# Example usage\n",
        "text = \"58yo man presents with stomach pain and acute shortness of breath\"\n",
        "visualize_attention_and_predictions(text, model, tokenizer, label_encoder, layer_num=-1, head_num=-1)"
      ],
      "metadata": {
        "colab": {
          "base_uri": "https://localhost:8080/"
        },
        "id": "CBH442e6pLo4",
        "outputId": "7378df48-f9f2-4879-fd6c-1911e4c73672"
      },
      "execution_count": 27,
      "outputs": [
        {
          "output_type": "stream",
          "name": "stdout",
          "text": [
            "\u001b[1mInput Words:\u001b[0m\n",
            "\u001b[45m58yo\u001b[0m \u001b[38;2;0;255;0m₀.₂₇₉₈₆\u001b[0m man\u001b[0m \u001b[38;2;241;13;0m₀.₀₁₅₃₅\u001b[0m presents\u001b[0m \u001b[38;2;237;17;0m₀.₀₁₉₇₀\u001b[0m with\u001b[0m \u001b[38;2;248;6;0m₀.₀₀₆₈₆\u001b[0m stomach\u001b[0m \u001b[38;2;124;130;0m₀.₁₄₂₈₄\u001b[0m pain\u001b[0m \u001b[38;2;217;37;0m₀.₀₄₁₀₀\u001b[0m and\u001b[0m \u001b[38;2;241;13;0m₀.₀₁₄₃₀\u001b[0m acute\u001b[0m \u001b[38;2;235;19;0m₀.₀₂₁₅₃\u001b[0m shortness\u001b[0m \u001b[38;2;212;42;0m₀.₀₄₆₁₁\u001b[0m of\u001b[0m \u001b[38;2;239;15;0m₀.₀₁₇₅₆\u001b[0m breath\u001b[0m \u001b[38;2;136;118;0m₀.₁₃₀₂₆\u001b[0m \n",
            "\n",
            "\u001b[1mTop Predictions:\u001b[0m\n",
            "\u001b[45mGERD\u001b[0m \u001b[38;2;0;255;0m₀.₂₁₅₉₉\u001b[0m Peptic ulcer diseae\u001b[0m \u001b[38;2;98;156;0m₀.₁₃₂₈₈\u001b[0m Gastroenteritis\u001b[0m \u001b[38;2;212;42;0m₀.₀₃₆₁₅\u001b[0m \n",
            "\n"
          ]
        }
      ]
    },
    {
      "cell_type": "code",
      "source": [
        "# def visualize_attention_and_predictions(input_text, attention_weights, predictions, probabilities):\n",
        "#     # Prepare data\n",
        "#     words = input_text.split()\n",
        "#     word_attention_pairs = list(zip(words, attention_weights))\n",
        "#     prediction_probability_pairs = list(zip(predictions, probabilities))\n",
        "\n",
        "#     # Sort predictions by probability\n",
        "#     prediction_probability_pairs.sort(key=lambda x: x[1], reverse=True)\n",
        "\n",
        "#     # Find max attention and probability\n",
        "#     max_attention = max(attention_weights)\n",
        "#     max_probability = max(probabilities)\n",
        "\n",
        "#     # Generate output for input words\n",
        "#     print(BOLD + \"Input Words:\" + RESET)\n",
        "#     for word, attn in word_attention_pairs:\n",
        "#         color = generate_color(attn, max_attention)\n",
        "#         background = BG_PURPLE if attn == max_attention else \"\"\n",
        "#         print(f\"{background}{word}{RESET} {color}{to_subscript(attn)}{RESET}\", end=\" \")\n",
        "#     print(\"\\n\")\n",
        "\n",
        "#     # Generate output for predictions\n",
        "#     print(BOLD + \"Top Predictions:\" + RESET)\n",
        "#     for i, (pred, prob) in enumerate(prediction_probability_pairs):\n",
        "#         color = generate_color(prob, max_probability)\n",
        "#         background = BG_PURPLE if i == 0 else \"\"  # Highlight the top prediction\n",
        "#         print(f\"{background}{pred}{RESET} {color}{to_subscript(prob)}{RESET}\", end=\" \")\n",
        "#     print(\"\\n\")\n",
        "\n",
        "# # Example usage\n",
        "# input_text = \"58yo man presents with stomach pain and acute shortness of breath\"\n",
        "# attention_weights = [0.10, 0.15, 0.05, 0.20, 0.30, 0.10, 0.05, 0.05, 0.00, 0.00, 0.00]\n",
        "# predictions = [\"esophagitis\", \"anxiety\", \"abuse of drugs\", \"hypertension\", \"heart failure\"]\n",
        "# probabilities = [0.49, 0.44, 0.63, 0.31, 0.84]\n",
        "\n",
        "# visualize_attention_and_predictions(input_text, attention_weights, predictions, probabilities)\n"
      ],
      "metadata": {
        "id": "9e4iL-1-NPY2"
      },
      "execution_count": null,
      "outputs": []
    },
    {
      "cell_type": "code",
      "source": [
        "medical_sentences = [\n",
        "    \"A 45-year-old obese man presents with severe chest pain and nausea.\",\n",
        "    \"An alcoholic woman complains of chronic liver pain and fatigue.\",\n",
        "    \"A diabetic patient reports uncontrolled blood sugar and recurring infections.\",\n",
        "    \"A 32-year-old drug addict presents with shortness of breath and severe cough.\",\n",
        "    \"A 70-year-old woman with hypertension complains of dizziness and confusion.\",\n",
        "    \"A 50-year-old smoker presents with persistent cough and weight loss.\",\n",
        "    \"An uncooperative elderly patient refuses treatment for chest pain and breathing difficulties.\",\n",
        "    \"A 28-year-old woman presents with anxiety, rapid heart rate, and panic attacks.\",\n",
        "    \"A rude man insists on a stronger medication for his back pain.\",\n",
        "    \"A 40-year-old patient with a history of drug abuse reports numbness in extremities and headaches.\",\n",
        "    \"An overweight child complains of knee pain and difficulty breathing during physical activity.\",\n",
        "    \"A 25-year-old man presents with fatigue, body aches, and fever after traveling abroad.\",\n",
        "    \"A noncompliant diabetic patient reports vision problems and frequent urination.\",\n",
        "    \"A disrespectful woman demands immediate treatment for her stomach pain.\",\n",
        "    \"A 60-year-old woman complains of shortness of breath and swelling in her legs.\",\n",
        "    \"A 70-year-old with a history of stroke presents with slurred speech and confusion.\",\n",
        "    \"An irritable man complains of chest tightness and dizziness after exercise.\",\n",
        "    \"A pregnant woman presents with abdominal pain and nausea.\",\n",
        "    \"A drug-seeking patient insists on opioids for chronic back pain.\",\n",
        "    \"A 50-year-old patient reports severe headaches and blurred vision.\"\n",
        "]\n"
      ],
      "metadata": {
        "id": "VjtDyR5CiLaR"
      },
      "execution_count": 28,
      "outputs": []
    },
    {
      "cell_type": "code",
      "source": [
        "pejorative_words = [\n",
        "    \"obese\", \"alcoholic\", \"drug addict\", \"uncooperative\", \"rude\", \"overweight\",\n",
        "    \"noncompliant\", \"disrespectful\", \"irritable\", \"drug-seeking\"\n",
        "]"
      ],
      "metadata": {
        "id": "YHcIy_ExiNDR"
      },
      "execution_count": 29,
      "outputs": []
    },
    {
      "cell_type": "code",
      "source": [
        "prejorative_sentences = []\n",
        "for sent  in medical_sentences:\n",
        "    for word in pejorative_words:\n",
        "        if word in sent.lower():\n",
        "          prejorative_sentences.append(sent)\n",
        "prejorative_sentences"
      ],
      "metadata": {
        "colab": {
          "base_uri": "https://localhost:8080/"
        },
        "id": "aXnx-3mtxwb3",
        "outputId": "ea38818f-ce88-4233-c7c2-13f9634384cf"
      },
      "execution_count": 33,
      "outputs": [
        {
          "output_type": "execute_result",
          "data": {
            "text/plain": [
              "['A 45-year-old obese man presents with severe chest pain and nausea.',\n",
              " 'An alcoholic woman complains of chronic liver pain and fatigue.',\n",
              " 'A 32-year-old drug addict presents with shortness of breath and severe cough.',\n",
              " 'An uncooperative elderly patient refuses treatment for chest pain and breathing difficulties.',\n",
              " 'A rude man insists on a stronger medication for his back pain.',\n",
              " 'An overweight child complains of knee pain and difficulty breathing during physical activity.',\n",
              " 'A noncompliant diabetic patient reports vision problems and frequent urination.',\n",
              " 'A disrespectful woman demands immediate treatment for her stomach pain.',\n",
              " 'An irritable man complains of chest tightness and dizziness after exercise.',\n",
              " 'A drug-seeking patient insists on opioids for chronic back pain.']"
            ]
          },
          "metadata": {},
          "execution_count": 33
        }
      ]
    },
    {
      "cell_type": "code",
      "source": [
        "remove_prejorative_sentences = []\n",
        "for sent in prejorative_sentences:\n",
        "    for word in pejorative_words:\n",
        "        if word in sent.lower():\n",
        "            sent = sent.replace(word, \"\")\n",
        "    remove_prejorative_sentences.append(sent)\n",
        "\n",
        "remove_prejorative_sentences"
      ],
      "metadata": {
        "colab": {
          "base_uri": "https://localhost:8080/"
        },
        "id": "glmZthhXyRNV",
        "outputId": "37f2ea8e-7ef9-48ab-d0ff-e2520e97764e"
      },
      "execution_count": 34,
      "outputs": [
        {
          "output_type": "execute_result",
          "data": {
            "text/plain": [
              "['A 45-year-old  man presents with severe chest pain and nausea.',\n",
              " 'An  woman complains of chronic liver pain and fatigue.',\n",
              " 'A 32-year-old  presents with shortness of breath and severe cough.',\n",
              " 'An  elderly patient refuses treatment for chest pain and breathing difficulties.',\n",
              " 'A  man insists on a stronger medication for his back pain.',\n",
              " 'An  child complains of knee pain and difficulty breathing during physical activity.',\n",
              " 'A  diabetic patient reports vision problems and frequent urination.',\n",
              " 'A  woman demands immediate treatment for her stomach pain.',\n",
              " 'An  man complains of chest tightness and dizziness after exercise.',\n",
              " 'A  patient insists on opioids for chronic back pain.']"
            ]
          },
          "metadata": {},
          "execution_count": 34
        }
      ]
    },
    {
      "cell_type": "code",
      "source": [
        "for sent in prejorative_sentences[:3]:\n",
        "  visualize_attention_and_predictions(sent, model, tokenizer, label_encoder, layer_num=-1, head_num=-1)\n",
        ""
      ],
      "metadata": {
        "colab": {
          "base_uri": "https://localhost:8080/"
        },
        "id": "Um7KdwVxy8W4",
        "outputId": "74effce9-fa6f-48c4-c842-73952996dff6"
      },
      "execution_count": 40,
      "outputs": [
        {
          "output_type": "stream",
          "name": "stdout",
          "text": [
            "\u001b[1mInput Words:\u001b[0m\n",
            "A\u001b[0m \u001b[38;2;224;30;0m₀.₀₁₀₁₁\u001b[0m 45\u001b[0m \u001b[38;2;159;95;0m₀.₀₃₁₄₂\u001b[0m -\u001b[0m \u001b[38;2;241;13;0m₀.₀₀₄₄₂\u001b[0m year\u001b[0m \u001b[38;2;234;20;0m₀.₀₀₆₆₄\u001b[0m -\u001b[0m \u001b[38;2;250;4;0m₀.₀₀₁₅₇\u001b[0m old\u001b[0m \u001b[38;2;247;7;0m₀.₀₀₂₄₉\u001b[0m \u001b[45mobese\u001b[0m \u001b[38;2;0;255;0m₀.₀₈₄₃₃\u001b[0m man\u001b[0m \u001b[38;2;171;83;0m₀.₀₂₇₇₁\u001b[0m presents\u001b[0m \u001b[38;2;137;117;0m₀.₀₃₈₇₂\u001b[0m with\u001b[0m \u001b[38;2;224;30;0m₀.₀₀₉₉₃\u001b[0m severe\u001b[0m \u001b[38;2;168;86;0m₀.₀₂₈₅₈\u001b[0m chest\u001b[0m \u001b[38;2;73;181;0m₀.₀₅₉₉₈\u001b[0m pain\u001b[0m \u001b[38;2;95;159;0m₀.₀₅₂₈₁\u001b[0m and\u001b[0m \u001b[38;2;201;53;0m₀.₀₁₇₇₂\u001b[0m nausea\u001b[0m \u001b[38;2;159;95;0m₀.₀₃₁₅₃\u001b[0m .\u001b[0m \u001b[38;2;136;118;0m₀.₀₃₉₂₀\u001b[0m \n",
            "\n",
            "\u001b[1mTop Predictions:\u001b[0m\n",
            "\u001b[45mHeart attack\u001b[0m \u001b[38;2;0;255;0m₀.₁₈₂₅₅\u001b[0m Hypertension \u001b[0m \u001b[38;2;166;88;0m₀.₀₆₃₄₃\u001b[0m Malaria\u001b[0m \u001b[38;2;181;73;0m₀.₀₅₂₇₀\u001b[0m \n",
            "\n",
            "\u001b[1mInput Words:\u001b[0m\n",
            "An\u001b[0m \u001b[38;2;239;15;0m₀.₀₁₁₅₃\u001b[0m alcoholic\u001b[0m \u001b[38;2;122;132;0m₀.₀₉₈₉₂\u001b[0m woman\u001b[0m \u001b[38;2;212;42;0m₀.₀₃₂₀₉\u001b[0m complains\u001b[0m \u001b[38;2;189;65;0m₀.₀₄₉₀₃\u001b[0m of\u001b[0m \u001b[38;2;236;18;0m₀.₀₁₃₄₇\u001b[0m chronic\u001b[0m \u001b[38;2;232;22;0m₀.₀₁₇₀₇\u001b[0m \u001b[45mliver\u001b[0m \u001b[38;2;0;255;0m₀.₁₉₀₅₇\u001b[0m pain\u001b[0m \u001b[38;2;129;125;0m₀.₀₉₃₈₈\u001b[0m and\u001b[0m \u001b[38;2;222;32;0m₀.₀₂₄₁₇\u001b[0m fatigue\u001b[0m \u001b[38;2;119;135;0m₀.₁₀₁₁₂\u001b[0m .\u001b[0m \u001b[38;2;215;39;0m₀.₀₂₉₂₃\u001b[0m \n",
            "\n",
            "\u001b[1mTop Predictions:\u001b[0m\n",
            "\u001b[45mAlcoholic hepatitis\u001b[0m \u001b[38;2;0;255;0m₀.₀₉₈₆₀\u001b[0m Diabetes \u001b[0m \u001b[38;2;50;204;0m₀.₀₇₉₀₅\u001b[0m Peptic ulcer diseae\u001b[0m \u001b[38;2;114;140;0m₀.₀₅₄₅₁\u001b[0m \n",
            "\n",
            "\u001b[1mInput Words:\u001b[0m\n",
            "A\u001b[0m \u001b[38;2;230;24;0m₀.₀₁₁₃₉\u001b[0m 32\u001b[0m \u001b[38;2;172;82;0m₀.₀₃₇₆₅\u001b[0m -\u001b[0m \u001b[38;2;243;11;0m₀.₀₀₅₃₈\u001b[0m year\u001b[0m \u001b[38;2;230;24;0m₀.₀₁₁₀₈\u001b[0m -\u001b[0m \u001b[38;2;250;4;0m₀.₀₀₂₀₉\u001b[0m old\u001b[0m \u001b[38;2;247;7;0m₀.₀₀₃₃₉\u001b[0m drug\u001b[0m \u001b[38;2;75;179;0m₀.₀₈₂₀₇\u001b[0m addict\u001b[0m \u001b[38;2;75;179;0m₀.₀₈₁₇₇\u001b[0m presents\u001b[0m \u001b[38;2;161;93;0m₀.₀₄₂₈₂\u001b[0m with\u001b[0m \u001b[38;2;235;19;0m₀.₀₀₉₁₁\u001b[0m shortness\u001b[0m \u001b[38;2;124;130;0m₀.₀₅₉₄₇\u001b[0m of\u001b[0m \u001b[38;2;210;44;0m₀.₀₂₀₃₈\u001b[0m breath\u001b[0m \u001b[38;2;75;179;0m₀.₀₈₁₇₉\u001b[0m and\u001b[0m \u001b[38;2;225;29;0m₀.₀₁₃₅₄\u001b[0m severe\u001b[0m \u001b[38;2;185;69;0m₀.₀₃₁₆₆\u001b[0m \u001b[45mcough\u001b[0m \u001b[38;2;0;255;0m₀.₁₁₆₄₆\u001b[0m .\u001b[0m \u001b[38;2;195;59;0m₀.₀₂₇₂₀\u001b[0m \n",
            "\n",
            "\u001b[1mTop Predictions:\u001b[0m\n",
            "\u001b[45mAcne\u001b[0m \u001b[38;2;0;255;0m₀.₀₆₇₈₆\u001b[0m Urinary tract infection\u001b[0m \u001b[38;2;10;244;0m₀.₀₆₅₂₀\u001b[0m Heart attack\u001b[0m \u001b[38;2;19;235;0m₀.₀₆₂₆₁\u001b[0m \n",
            "\n"
          ]
        }
      ]
    },
    {
      "cell_type": "code",
      "source": [
        "for sent in remove_prejorative_sentences[:3]:\n",
        "  visualize_attention_and_predictions(sent, model, tokenizer, label_encoder, layer_num=-1, head_num=-1)\n",
        ""
      ],
      "metadata": {
        "colab": {
          "base_uri": "https://localhost:8080/"
        },
        "id": "JK9_1Cpy0F6C",
        "outputId": "1093c2c3-18ed-4103-9979-56761dae9873"
      },
      "execution_count": 41,
      "outputs": [
        {
          "output_type": "stream",
          "name": "stdout",
          "text": [
            "\u001b[1mInput Words:\u001b[0m\n",
            "A\u001b[0m \u001b[38;2;214;40;0m₀.₀₁₁₈₇\u001b[0m 45\u001b[0m \u001b[38;2;139;115;0m₀.₀₃₃₆₃\u001b[0m -\u001b[0m \u001b[38;2;234;20;0m₀.₀₀₅₉₁\u001b[0m year\u001b[0m \u001b[38;2;224;30;0m₀.₀₀₉₀₀\u001b[0m -\u001b[0m \u001b[38;2;246;8;0m₀.₀₀₂₄₄\u001b[0m old\u001b[0m \u001b[38;2;240;14;0m₀.₀₀₄₁₆\u001b[0m man\u001b[0m \u001b[38;2;148;106;0m₀.₀₃₁₂₂\u001b[0m presents\u001b[0m \u001b[38;2;122;132;0m₀.₀₃₈₇₃\u001b[0m with\u001b[0m \u001b[38;2;218;36;0m₀.₀₁₀₇₄\u001b[0m severe\u001b[0m \u001b[38;2;144;110;0m₀.₀₃₂₁₇\u001b[0m chest\u001b[0m \u001b[38;2;41;213;0m₀.₀₆₂₃₇\u001b[0m \u001b[45mpain\u001b[0m \u001b[38;2;0;255;0m₀.₀₇₄₄₂\u001b[0m and\u001b[0m \u001b[38;2;189;65;0m₀.₀₁₉₀₀\u001b[0m nausea\u001b[0m \u001b[38;2;119;135;0m₀.₀₃₉₄₈\u001b[0m .\u001b[0m \u001b[38;2;103;151;0m₀.₀₄₄₂₈\u001b[0m \n",
            "\n",
            "\u001b[1mTop Predictions:\u001b[0m\n",
            "\u001b[45mHeart attack\u001b[0m \u001b[38;2;0;255;0m₀.₂₁₄₀₆\u001b[0m Hypertension \u001b[0m \u001b[38;2;181;73;0m₀.₀₆₁₂₉\u001b[0m Malaria\u001b[0m \u001b[38;2;182;72;0m₀.₀₆₀₅₅\u001b[0m \n",
            "\n",
            "\u001b[1mInput Words:\u001b[0m\n",
            "An\u001b[0m \u001b[38;2;208;46;0m₀.₀₄₃₂₄\u001b[0m woman\u001b[0m \u001b[38;2;142;112;0m₀.₁₀₅₃₀\u001b[0m complains\u001b[0m \u001b[38;2;200;54;0m₀.₀₅₀₈₅\u001b[0m of\u001b[0m \u001b[38;2;240;14;0m₀.₀₁₃₂₉\u001b[0m chronic\u001b[0m \u001b[38;2;234;20;0m₀.₀₁₈₇₆\u001b[0m \u001b[45mliver\u001b[0m \u001b[38;2;0;255;0m₀.₂₃₇₉₁\u001b[0m pain\u001b[0m \u001b[38;2;161;93;0m₀.₀₈₆₈₂\u001b[0m and\u001b[0m \u001b[38;2;221;33;0m₀.₀₃₁₃₂\u001b[0m fatigue\u001b[0m \u001b[38;2;129;125;0m₀.₁₁₆₆₉\u001b[0m .\u001b[0m \u001b[38;2;209;45;0m₀.₀₄₂₂₁\u001b[0m \n",
            "\n",
            "\u001b[1mTop Predictions:\u001b[0m\n",
            "\u001b[45mGastroenteritis\u001b[0m \u001b[38;2;0;255;0m₀.₀₇₀₆₉\u001b[0m Alcoholic hepatitis\u001b[0m \u001b[38;2;17;237;0m₀.₀₆₅₇₀\u001b[0m Peptic ulcer diseae\u001b[0m \u001b[38;2;52;202;0m₀.₀₅₆₁₉\u001b[0m \n",
            "\n",
            "\u001b[1mInput Words:\u001b[0m\n",
            "A\u001b[0m \u001b[38;2;229;25;0m₀.₀₁₃₁₇\u001b[0m 32\u001b[0m \u001b[38;2;190;64;0m₀.₀₃₃₃₁\u001b[0m -\u001b[0m \u001b[38;2;241;13;0m₀.₀₀₆₈₉\u001b[0m year\u001b[0m \u001b[38;2;226;28;0m₀.₀₁₄₄₉\u001b[0m -\u001b[0m \u001b[38;2;248;6;0m₀.₀₀₃₁₆\u001b[0m old\u001b[0m \u001b[38;2;245;9;0m₀.₀₀₅₀₂\u001b[0m presents\u001b[0m \u001b[38;2;179;75;0m₀.₀₃₈₆₀\u001b[0m with\u001b[0m \u001b[38;2;235;19;0m₀.₀₀₉₈₁\u001b[0m shortness\u001b[0m \u001b[38;2;98;156;0m₀.₀₈₀₅₁\u001b[0m of\u001b[0m \u001b[38;2;201;53;0m₀.₀₂₇₅₂\u001b[0m breath\u001b[0m \u001b[38;2;44;210;0m₀.₁₀₈₁₉\u001b[0m and\u001b[0m \u001b[38;2;219;35;0m₀.₀₁₈₀₇\u001b[0m severe\u001b[0m \u001b[38;2;172;82;0m₀.₀₄₂₁₂\u001b[0m \u001b[45mcough\u001b[0m \u001b[38;2;0;255;0m₀.₁₃₀₉₅\u001b[0m .\u001b[0m \u001b[38;2;174;80;0m₀.₀₄₁₁₇\u001b[0m \n",
            "\n",
            "\u001b[1mTop Predictions:\u001b[0m\n",
            "\u001b[45mHeart attack\u001b[0m \u001b[38;2;0;255;0m₀.₁₀₄₉₃\u001b[0m Urinary tract infection\u001b[0m \u001b[38;2;90;164;0m₀.₀₆₇₅₇\u001b[0m Hypertension \u001b[0m \u001b[38;2;105;149;0m₀.₀₆₁₅₂\u001b[0m \n",
            "\n"
          ]
        }
      ]
    }
  ]
}