{
  "nbformat": 4,
  "nbformat_minor": 0,
  "metadata": {
    "colab": {
      "provenance": [],
      "authorship_tag": "ABX9TyP9rEhhrUk3Lq572jeqRJII",
      "include_colab_link": true
    },
    "kernelspec": {
      "name": "python3",
      "display_name": "Python 3"
    },
    "language_info": {
      "name": "python"
    }
  },
  "cells": [
    {
      "cell_type": "markdown",
      "metadata": {
        "id": "view-in-github",
        "colab_type": "text"
      },
      "source": [
        "<a href=\"https://colab.research.google.com/github/gyasifred/NLP-Techniques/blob/main/NER.ipynb\" target=\"_parent\"><img src=\"https://colab.research.google.com/assets/colab-badge.svg\" alt=\"Open In Colab\"/></a>"
      ]
    },
    {
      "cell_type": "markdown",
      "source": [
        "This notebook will demonstrate how to perform Named Entity Recognition (NER) using TensorFlow, a popular deep learning framework. Named Entity Recognition is a critical task in natural language processing (NLP) that involves identifying and classifying entities, such as names of persons, organizations, locations, dates, and other significant terms, in unstructured text."
      ],
      "metadata": {
        "id": "JyvbAzg1iQzu"
      }
    },
    {
      "cell_type": "markdown",
      "source": [
        "Data"
      ],
      "metadata": {
        "id": "p2TacNWGiwL5"
      }
    },
    {
      "cell_type": "code",
      "execution_count": 1,
      "metadata": {
        "id": "WjpA7t6uhkbq"
      },
      "outputs": [],
      "source": [
        "import pickle"
      ]
    },
    {
      "cell_type": "code",
      "source": [
        "# conll 2003\n",
        "!wget -nc https://lazyprogrammer.me/course_files/nlp/ner_train.pkl\n",
        "!wget -nc https://lazyprogrammer.me/course_files/nlp/ner_test.pkl"
      ],
      "metadata": {
        "colab": {
          "base_uri": "https://localhost:8080/"
        },
        "id": "nH-yLtCCi0Ys",
        "outputId": "ed46d3d9-55ff-4476-cf73-98dd9645d8f5"
      },
      "execution_count": 2,
      "outputs": [
        {
          "output_type": "stream",
          "name": "stdout",
          "text": [
            "File ‘ner_train.pkl’ already there; not retrieving.\n",
            "\n",
            "File ‘ner_test.pkl’ already there; not retrieving.\n",
            "\n"
          ]
        }
      ]
    },
    {
      "cell_type": "code",
      "source": [
        "with open(\"ner_train.pkl\", 'rb') as f:\n",
        "  corpus_train = pickle.load(f)\n",
        "\n",
        "with open(\"ner_test.pkl\", 'rb') as f:\n",
        "  corpus_test = pickle.load(f)"
      ],
      "metadata": {
        "id": "a4jpwpsmi3sd"
      },
      "execution_count": 3,
      "outputs": []
    },
    {
      "cell_type": "code",
      "source": [
        "train_inputs = []\n",
        "train_targets = []\n",
        "for lines in corpus_train:\n",
        "  tokens = []\n",
        "  target = []\n",
        "  for token, tag in lines:\n",
        "    tokens.append(token)\n",
        "    target.append(tag)\n",
        "  train_inputs.append(tokens)\n",
        "  train_targets.append(target)"
      ],
      "metadata": {
        "id": "q7264HqbjkTw"
      },
      "execution_count": 4,
      "outputs": []
    },
    {
      "cell_type": "code",
      "source": [
        "test_inputs = []\n",
        "test_targets = []\n",
        "for lines in corpus_test:\n",
        "  tokens = []\n",
        "  target = []\n",
        "  for token, tag in lines:\n",
        "    tokens.append(token)\n",
        "    target.append(tag)\n",
        "  test_inputs.append(tokens)\n",
        "  test_targets.append(target)"
      ],
      "metadata": {
        "id": "ZbDBIZNMj2QW"
      },
      "execution_count": 5,
      "outputs": []
    },
    {
      "cell_type": "code",
      "source": [
        "len(train_inputs), len(test_inputs)"
      ],
      "metadata": {
        "colab": {
          "base_uri": "https://localhost:8080/"
        },
        "id": "5I8sEg1Yk_Zk",
        "outputId": "bddfa096-b896-415e-9354-c9b41e67b561"
      },
      "execution_count": 6,
      "outputs": [
        {
          "output_type": "execute_result",
          "data": {
            "text/plain": [
              "(12733, 2970)"
            ]
          },
          "metadata": {},
          "execution_count": 6
        }
      ]
    },
    {
      "cell_type": "code",
      "source": [
        "import numpy as np\n",
        "import pandas as pd\n",
        "import tensorflow as tf\n",
        "import matplotlib.pyplot as plt\n",
        "from sklearn.model_selection import train_test_split\n",
        "\n",
        "from tensorflow.keras.preprocessing.text import Tokenizer\n",
        "from tensorflow.keras.preprocessing.sequence import pad_sequences\n",
        "from tensorflow.keras.layers import Dense, Input, Bidirectional\n",
        "from tensorflow.keras.layers import LSTM, GRU, SimpleRNN, Embedding\n",
        "from tensorflow.keras.models import Model\n",
        "from tensorflow.keras.losses import SparseCategoricalCrossentropy"
      ],
      "metadata": {
        "id": "x7jDOuxolrud"
      },
      "execution_count": 7,
      "outputs": []
    },
    {
      "cell_type": "code",
      "source": [
        "# convert sentences to sequence\n",
        "tokenizer = Tokenizer(lower=False, oov_token=\"UNK\")\n",
        "tokenizer.fit_on_texts(train_inputs)\n",
        "train_inputs_int = tokenizer.texts_to_sequences(train_inputs)\n",
        "test_inputs_int = tokenizer.texts_to_sequences(test_inputs)"
      ],
      "metadata": {
        "id": "9Kt_tZz2l4Kj"
      },
      "execution_count": 8,
      "outputs": []
    },
    {
      "cell_type": "code",
      "source": [
        "# get word -> integer mapping\n",
        "word2indx = tokenizer.word_index\n",
        "V = len(word2indx)\n",
        "print(V)"
      ],
      "metadata": {
        "colab": {
          "base_uri": "https://localhost:8080/"
        },
        "id": "VmPKRXjCmhcT",
        "outputId": "31929e7b-5bd7-4e90-9d2f-01399b6e5d46"
      },
      "execution_count": 9,
      "outputs": [
        {
          "output_type": "stream",
          "name": "stdout",
          "text": [
            "23299\n"
          ]
        }
      ]
    },
    {
      "cell_type": "code",
      "source": [
        "#define function to flatten lists of list\n",
        "def flatten_list(list_of_list):\n",
        "  return [val for sublist in list_of_list for val in sublist]\n"
      ],
      "metadata": {
        "id": "G-q1_2SJnjdw"
      },
      "execution_count": 10,
      "outputs": []
    },
    {
      "cell_type": "code",
      "source": [
        "all_train_target = set(flatten_list(train_targets))\n",
        "all_train_target"
      ],
      "metadata": {
        "colab": {
          "base_uri": "https://localhost:8080/"
        },
        "id": "14s9ca_loL3R",
        "outputId": "3d6e8a6b-064f-4ab5-9daa-822f52ee807b"
      },
      "execution_count": 11,
      "outputs": [
        {
          "output_type": "execute_result",
          "data": {
            "text/plain": [
              "{'B-LOC', 'B-MISC', 'B-ORG', 'B-PER', 'I-LOC', 'I-MISC', 'I-ORG', 'I-PER', 'O'}"
            ]
          },
          "metadata": {},
          "execution_count": 11
        }
      ]
    },
    {
      "cell_type": "code",
      "source": [
        "all_test_target = set(flatten_list(test_targets))\n",
        "all_test_target"
      ],
      "metadata": {
        "colab": {
          "base_uri": "https://localhost:8080/"
        },
        "id": "87JYmvvDodG8",
        "outputId": "16f3aa7a-ee71-4e34-ff18-3ecb7dce53f5"
      },
      "execution_count": 12,
      "outputs": [
        {
          "output_type": "execute_result",
          "data": {
            "text/plain": [
              "{'B-LOC', 'B-MISC', 'B-ORG', 'B-PER', 'I-LOC', 'I-MISC', 'I-ORG', 'I-PER', 'O'}"
            ]
          },
          "metadata": {},
          "execution_count": 12
        }
      ]
    },
    {
      "cell_type": "code",
      "source": [
        "# Convert targets to sequences\n",
        "tag_tokenizer = Tokenizer()\n",
        "tag_tokenizer.fit_on_texts(train_targets)\n",
        "train_targets_int = tag_tokenizer.texts_to_sequences(train_targets)\n",
        "test_targets_int = tag_tokenizer.texts_to_sequences(test_targets)\n",
        "\n",
        "# save for later\n",
        "train_targets_int_unpadded = train_targets_int\n",
        "test_targets_int_unpadded = test_targets_int"
      ],
      "metadata": {
        "id": "0ITBbTRgoq-U"
      },
      "execution_count": 13,
      "outputs": []
    },
    {
      "cell_type": "code",
      "source": [
        "#find max document length\n",
        "maxlen_train = max(len(x) for x in train_inputs)\n",
        "maxlen_test = max(len(x) for x in test_inputs)\n",
        "T = max(maxlen_train, maxlen_test)\n",
        "T"
      ],
      "metadata": {
        "colab": {
          "base_uri": "https://localhost:8080/"
        },
        "id": "q176OafWpEB4",
        "outputId": "821bb2d9-7738-4a06-b14f-7999f0d2eb6a"
      },
      "execution_count": 14,
      "outputs": [
        {
          "output_type": "execute_result",
          "data": {
            "text/plain": [
              "113"
            ]
          },
          "metadata": {},
          "execution_count": 14
        }
      ]
    },
    {
      "cell_type": "code",
      "source": [
        "#pad sequences\n",
        "train_inputs_int = pad_sequences(train_inputs_int, T)\n",
        "train_targets_int = pad_sequences(train_targets_int, T)\n",
        "test_inputs_int = pad_sequences(test_inputs_int, T)\n",
        "test_targets_int = pad_sequences(test_targets_int, T)\n"
      ],
      "metadata": {
        "id": "hIoGjgOAp1Fg"
      },
      "execution_count": 15,
      "outputs": []
    },
    {
      "cell_type": "code",
      "source": [
        "K = len(tag_tokenizer.word_index) + 1\n",
        "K"
      ],
      "metadata": {
        "colab": {
          "base_uri": "https://localhost:8080/"
        },
        "id": "72riwsq9rCBs",
        "outputId": "887a93bc-2a55-455e-9b0e-294b5f1503bb"
      },
      "execution_count": 16,
      "outputs": [
        {
          "output_type": "execute_result",
          "data": {
            "text/plain": [
              "10"
            ]
          },
          "metadata": {},
          "execution_count": 16
        }
      ]
    },
    {
      "cell_type": "code",
      "source": [
        "#create a model\n",
        "#embedding dimension\n",
        "D = 50\n",
        "i = Input(shape=(T,))\n",
        "x = Embedding(V+ 1, D, mask_zero=True)(i)\n",
        "x = GRU(32, return_sequences=True)(x)\n",
        "x = Dense(K)(x)\n",
        "model = Model(i,x)"
      ],
      "metadata": {
        "id": "2KE45RHOrJaP"
      },
      "execution_count": 18,
      "outputs": []
    },
    {
      "cell_type": "code",
      "source": [
        "model.summary()"
      ],
      "metadata": {
        "colab": {
          "base_uri": "https://localhost:8080/"
        },
        "id": "rfrLLAgLde_D",
        "outputId": "ea6009eb-e5ad-407a-d818-77b12c9ef232"
      },
      "execution_count": 19,
      "outputs": [
        {
          "output_type": "stream",
          "name": "stdout",
          "text": [
            "Model: \"model\"\n",
            "_________________________________________________________________\n",
            " Layer (type)                Output Shape              Param #   \n",
            "=================================================================\n",
            " input_2 (InputLayer)        [(None, 113)]             0         \n",
            "                                                                 \n",
            " embedding_1 (Embedding)     (None, 113, 50)           1165000   \n",
            "                                                                 \n",
            " gru (GRU)                   (None, 113, 32)           8064      \n",
            "                                                                 \n",
            " dense (Dense)               (None, 113, 10)           330       \n",
            "                                                                 \n",
            "=================================================================\n",
            "Total params: 1,173,394\n",
            "Trainable params: 1,173,394\n",
            "Non-trainable params: 0\n",
            "_________________________________________________________________\n"
          ]
        }
      ]
    },
    {
      "cell_type": "code",
      "source": [
        "# compile\n",
        "model.compile(\n",
        "    optimizer = 'adam',\n",
        "    loss=SparseCategoricalCrossentropy(from_logits=True),\n",
        "    metrics = ['accuracy']\n",
        ")"
      ],
      "metadata": {
        "id": "nGTTF8-ddis0"
      },
      "execution_count": 24,
      "outputs": []
    },
    {
      "cell_type": "code",
      "source": [
        "# fit and train\n",
        "# 60s per epoch on CPU\n",
        "\n",
        "print('Training model...')\n",
        "r = model.fit(\n",
        "  train_inputs_int,\n",
        "  train_targets_int,\n",
        "  epochs=10,\n",
        "  validation_data=(test_inputs_int, test_targets_int)\n",
        ")"
      ],
      "metadata": {
        "colab": {
          "base_uri": "https://localhost:8080/"
        },
        "id": "xLumyq5yd7Is",
        "outputId": "9936ea21-72f0-4e49-f31a-d8e408380b80"
      },
      "execution_count": 25,
      "outputs": [
        {
          "output_type": "stream",
          "name": "stdout",
          "text": [
            "Training model...\n",
            "Epoch 1/10\n",
            "398/398 [==============================] - 42s 93ms/step - loss: 0.6632 - accuracy: 0.8497 - val_loss: 0.4155 - val_accuracy: 0.8923\n",
            "Epoch 2/10\n",
            "398/398 [==============================] - 49s 124ms/step - loss: 0.2223 - accuracy: 0.9438 - val_loss: 0.2328 - val_accuracy: 0.9431\n",
            "Epoch 3/10\n",
            "398/398 [==============================] - 35s 87ms/step - loss: 0.0963 - accuracy: 0.9758 - val_loss: 0.1854 - val_accuracy: 0.9515\n",
            "Epoch 4/10\n",
            "398/398 [==============================] - 38s 95ms/step - loss: 0.0547 - accuracy: 0.9857 - val_loss: 0.1779 - val_accuracy: 0.9495\n",
            "Epoch 5/10\n",
            "398/398 [==============================] - 38s 94ms/step - loss: 0.0389 - accuracy: 0.9890 - val_loss: 0.1755 - val_accuracy: 0.9503\n",
            "Epoch 6/10\n",
            "398/398 [==============================] - 44s 111ms/step - loss: 0.0302 - accuracy: 0.9911 - val_loss: 0.1815 - val_accuracy: 0.9491\n",
            "Epoch 7/10\n",
            "398/398 [==============================] - 38s 96ms/step - loss: 0.0242 - accuracy: 0.9927 - val_loss: 0.1884 - val_accuracy: 0.9481\n",
            "Epoch 8/10\n",
            "398/398 [==============================] - 38s 96ms/step - loss: 0.0203 - accuracy: 0.9937 - val_loss: 0.1981 - val_accuracy: 0.9462\n",
            "Epoch 9/10\n",
            "398/398 [==============================] - 36s 91ms/step - loss: 0.0171 - accuracy: 0.9947 - val_loss: 0.2183 - val_accuracy: 0.9402\n",
            "Epoch 10/10\n",
            "398/398 [==============================] - 37s 94ms/step - loss: 0.0145 - accuracy: 0.9955 - val_loss: 0.2144 - val_accuracy: 0.9455\n"
          ]
        }
      ]
    },
    {
      "cell_type": "code",
      "source": [
        "# Plot loss per iteration\n",
        "plt.plot(r.history['loss'], label='train loss')\n",
        "plt.plot(r.history['val_loss'], label='val loss')\n",
        "plt.legend();"
      ],
      "metadata": {
        "colab": {
          "base_uri": "https://localhost:8080/",
          "height": 430
        },
        "id": "GTcZSqnteKOj",
        "outputId": "e2791019-84f1-4c30-9e8f-29c9dc552409"
      },
      "execution_count": 26,
      "outputs": [
        {
          "output_type": "display_data",
          "data": {
            "text/plain": [
              "<Figure size 640x480 with 1 Axes>"
            ],
            "image/png": "[encoded data removed]"
          },
          "metadata": {}
        }
      ]
    },
    {
      "cell_type": "code",
      "source": [
        "# Plot accuracy per iteration\n",
        "plt.plot(r.history['accuracy'], label='train acc')\n",
        "plt.plot(r.history['val_accuracy'], label='val acc')\n",
        "plt.legend();"
      ],
      "metadata": {
        "colab": {
          "base_uri": "https://localhost:8080/",
          "height": 430
        },
        "id": "91ne-dq8ejdl",
        "outputId": "82132dd8-26be-474d-87e7-3e21147befe5"
      },
      "execution_count": 27,
      "outputs": [
        {
          "output_type": "display_data",
          "data": {
            "text/plain": [
              "<Figure size 640x480 with 1 Axes>"
            ],
            "image/png": "[encoded data removed]"
          },
          "metadata": {}
        }
      ]
    },
    {
      "cell_type": "code",
      "source": [
        "# True model accuracy - above includes padding\n",
        "\n",
        "# first get length of each sequence\n",
        "train_lengths = []\n",
        "for sentence in train_inputs:\n",
        "  train_lengths.append(len(sentence))\n",
        "\n",
        "test_lengths = []\n",
        "for sentence in test_inputs:\n",
        "  test_lengths.append(len(sentence))\n"
      ],
      "metadata": {
        "id": "_KM58N38enXK"
      },
      "execution_count": 28,
      "outputs": []
    },
    {
      "cell_type": "code",
      "source": [
        "train_probs = model.predict(train_inputs_int) # N x T x K\n",
        "train_predictions = []\n",
        "for probs, length in zip(train_probs, train_lengths):\n",
        "  # probs is T x K\n",
        "  probs_ = probs[-length:]\n",
        "  preds = np.argmax(probs_, axis=1)\n",
        "  train_predictions.append(preds)\n",
        "\n",
        "# flatten\n",
        "flat_train_predictions = flatten_list(train_predictions)\n",
        "flat_train_targets = flatten_list(train_targets_int_unpadded)"
      ],
      "metadata": {
        "colab": {
          "base_uri": "https://localhost:8080/"
        },
        "id": "CWMIWFPGfK_J",
        "outputId": "2196b53f-8590-47b4-e084-14047d71ee23"
      },
      "execution_count": 29,
      "outputs": [
        {
          "output_type": "stream",
          "name": "stdout",
          "text": [
            "398/398 [==============================] - 8s 16ms/step\n"
          ]
        }
      ]
    },
    {
      "cell_type": "code",
      "source": [
        "test_probs = model.predict(test_inputs_int) # N x T x K\n",
        "test_predictions = []\n",
        "for probs, length in zip(test_probs, test_lengths):\n",
        "  # probs is T x K\n",
        "  probs_ = probs[-length:]\n",
        "  preds = np.argmax(probs_, axis=1)\n",
        "  test_predictions.append(preds)\n",
        "\n",
        "# flatten\n",
        "flat_test_predictions = flatten_list(test_predictions)\n",
        "flat_test_targets = flatten_list(test_targets_int_unpadded)"
      ],
      "metadata": {
        "colab": {
          "base_uri": "https://localhost:8080/"
        },
        "id": "w7oA3-zcfTfM",
        "outputId": "be98fc59-0526-40a1-b523-d804106c6957"
      },
      "execution_count": 30,
      "outputs": [
        {
          "output_type": "stream",
          "name": "stdout",
          "text": [
            "93/93 [==============================] - 2s 17ms/step\n"
          ]
        }
      ]
    },
    {
      "cell_type": "code",
      "source": [
        "from sklearn.metrics import accuracy_score, f1_score\n",
        "\n",
        "print(\"Train acc:\", accuracy_score(flat_train_targets, flat_train_predictions))\n",
        "print(\"Test acc:\", accuracy_score(flat_test_targets, flat_test_predictions))\n",
        "\n",
        "print(\"Train f1:\", f1_score(flat_train_targets, flat_train_predictions, average='macro'))\n",
        "print(\"Test f1:\", f1_score(flat_test_targets, flat_test_predictions, average='macro'))\n"
      ],
      "metadata": {
        "colab": {
          "base_uri": "https://localhost:8080/"
        },
        "id": "jDLkYjg1gCxr",
        "outputId": "fc90568f-166c-4104-9688-a70ac245f006"
      },
      "execution_count": 31,
      "outputs": [
        {
          "output_type": "stream",
          "name": "stdout",
          "text": [
            "Train acc: 0.9965156274852871\n",
            "Test acc: 0.9455300391601236\n",
            "Train f1: 0.9813743302308084\n",
            "Test f1: 0.7869842676814862\n"
          ]
        }
      ]
    },
    {
      "cell_type": "code",
      "source": [],
      "metadata": {
        "id": "5tMURtNlgUTb"
      },
      "execution_count": null,
      "outputs": []
    }
  ]
}