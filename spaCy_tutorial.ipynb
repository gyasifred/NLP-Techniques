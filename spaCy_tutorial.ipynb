{
  "nbformat": 4,
  "nbformat_minor": 0,
  "metadata": {
    "colab": {
      "provenance": [],
      "mount_file_id": "1nq6f1ffSaPO_WRAK8OX6K7MNJJJwZBDI",
      "authorship_tag": "ABX9TyP0+eqT0noO51xBLGOp21DT",
      "include_colab_link": true
    },
    "kernelspec": {
      "name": "python3",
      "display_name": "Python 3"
    },
    "language_info": {
      "name": "python"
    }
  },
  "cells": [
    {
      "cell_type": "markdown",
      "metadata": {
        "id": "view-in-github",
        "colab_type": "text"
      },
      "source": [
        "<a href=\"https://colab.research.google.com/github/gyasifred/NLP-Techniques/blob/main/spaCy_tutorial.ipynb\" target=\"_parent\"><img src=\"https://colab.research.google.com/assets/colab-badge.svg\" alt=\"Open In Colab\"/></a>"
      ]
    },
    {
      "cell_type": "markdown",
      "source": [
        "# Installation"
      ],
      "metadata": {
        "id": "8MEoMHc8Lg7W"
      }
    },
    {
      "cell_type": "code",
      "execution_count": null,
      "metadata": {
        "id": "6Nc9hgPtKy8q"
      },
      "outputs": [],
      "source": [
        "!pip install -U spacy"
      ]
    },
    {
      "cell_type": "code",
      "source": [
        "# download trained models\n",
        "!python -m spacy download en_core_web_lg"
      ],
      "metadata": {
        "id": "q5FBk8xHLmUo"
      },
      "execution_count": null,
      "outputs": []
    },
    {
      "cell_type": "code",
      "source": [
        "!python -m spacy download en_core_web_sm"
      ],
      "metadata": {
        "id": "TjQZ_PAMMpxU"
      },
      "execution_count": null,
      "outputs": []
    },
    {
      "cell_type": "code",
      "source": [
        "import spacy"
      ],
      "metadata": {
        "id": "sinma8gtMzGA"
      },
      "execution_count": null,
      "outputs": []
    },
    {
      "cell_type": "code",
      "source": [
        "nlp = spacy.load(\"en_core_web_sm\")"
      ],
      "metadata": {
        "id": "NRetSVL7M8zl"
      },
      "execution_count": null,
      "outputs": []
    },
    {
      "cell_type": "markdown",
      "source": [
        "## Linguistics Annotations"
      ],
      "metadata": {
        "id": "5vhR0wymNMJ7"
      }
    },
    {
      "cell_type": "code",
      "source": [
        "doc = nlp(\"Company Y is planning to acquire stake in X company for $23 billion\")\n",
        "for token in doc:\n",
        "  print(token.text, token.pos_, token.dep_)"
      ],
      "metadata": {
        "id": "CxgWWJZaNEiz"
      },
      "execution_count": null,
      "outputs": []
    },
    {
      "cell_type": "markdown",
      "source": [
        "## SpaCy Pipeline"
      ],
      "metadata": {
        "id": "22HrgyhaOZh-"
      }
    },
    {
      "cell_type": "markdown",
      "source": [
        "![image.png](data:image/png;base64,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)"
      ],
      "metadata": {
        "id": "44zU9z6gOPVd"
      }
    },
    {
      "cell_type": "code",
      "source": [
        "nlp.pipe_names"
      ],
      "metadata": {
        "id": "nIOwQgHyNnkI"
      },
      "execution_count": null,
      "outputs": []
    },
    {
      "cell_type": "markdown",
      "source": [
        "# Features\n",
        "\n",
        "## Tokenization"
      ],
      "metadata": {
        "id": "wnzU-hdbP9Bv"
      }
    },
    {
      "cell_type": "code",
      "source": [
        "doc = nlp(\"Reliance is looking at buying U.K. based analytics startup for $7 billion\")\n",
        "for token in doc:\n",
        "  print(token.text)"
      ],
      "metadata": {
        "id": "TzMrhlCdPUYg"
      },
      "execution_count": null,
      "outputs": []
    },
    {
      "cell_type": "markdown",
      "source": [
        "## Part-Of-Speech (POS) Tagging"
      ],
      "metadata": {
        "id": "EA1pQLh_R93q"
      }
    },
    {
      "cell_type": "code",
      "source": [
        "doc = nlp(\"Reliance is looking at buying U.K. based analytics startup for $7 billion\")\n",
        "\n",
        "# Iterate over the tokens\n",
        "for token in doc:\n",
        "    # Print the token and its part-of-speech tag\n",
        "    print(token, token.tag_, token.pos_, spacy.explain(token.tag_))"
      ],
      "metadata": {
        "id": "nl8sUYMwQTuh"
      },
      "execution_count": null,
      "outputs": []
    },
    {
      "cell_type": "code",
      "source": [
        "from spacy import displacy\n",
        "displacy.render(doc,style='dep',jupyter=True)"
      ],
      "metadata": {
        "id": "e71uO4h8S7Zj"
      },
      "execution_count": null,
      "outputs": []
    },
    {
      "cell_type": "markdown",
      "source": [
        "## Dependency Parsing"
      ],
      "metadata": {
        "id": "JRVhV0gMUpWl"
      }
    },
    {
      "cell_type": "code",
      "source": [
        "# Create an nlp object\n",
        "doc = nlp(\"Reliance is looking at buying U.K. based analytics startup for $7 billion\")\n",
        "\n",
        "# Iterate over the tokens\n",
        "for token in doc:\n",
        "    # Print the token and its part-of-speech tag\n",
        "    print(token.text, \"-->\", token.dep_)"
      ],
      "metadata": {
        "id": "eEy0q4DWTyrl"
      },
      "execution_count": null,
      "outputs": []
    },
    {
      "cell_type": "code",
      "source": [
        "spacy.explain(\"nsubj\"), spacy.explain(\"ROOT\"), spacy.explain(\"aux\"), spacy.explain(\"advcl\"), spacy.explain(\"dobj\")"
      ],
      "metadata": {
        "id": "Rrduru4HVJrV"
      },
      "execution_count": null,
      "outputs": []
    },
    {
      "cell_type": "markdown",
      "source": [
        "## Lematization"
      ],
      "metadata": {
        "id": "CU0Fu0XaWAxZ"
      }
    },
    {
      "cell_type": "code",
      "source": [
        "# Create an nlp object\n",
        "doc = nlp(\"Reliance is looking at buying U.K. based analytics startup for $7 billion\")\n",
        "\n",
        "# Iterate over the tokens\n",
        "for token in doc:\n",
        "    # Print the token and its lemma\n",
        "    print(token.text, \"-->\", token.lemma_)"
      ],
      "metadata": {
        "id": "izArxG4CVo9I"
      },
      "execution_count": null,
      "outputs": []
    },
    {
      "cell_type": "markdown",
      "source": [
        "## Sentence Boundary Detection (SBD)"
      ],
      "metadata": {
        "id": "9_X5LaLkWoBR"
      }
    },
    {
      "cell_type": "code",
      "source": [
        "# Create an nlp object\n",
        "doc = nlp(\"Reliance is looking at buying U.K. based analytics startup for $7 billion.This is India.India is great\")\n",
        "sentences = list(doc.sents)\n",
        "len(sentences)"
      ],
      "metadata": {
        "id": "HFxAnE1WWTqf"
      },
      "execution_count": null,
      "outputs": []
    },
    {
      "cell_type": "code",
      "source": [
        "for sentence in sentences:\n",
        "     print (sentence)"
      ],
      "metadata": {
        "id": "Q3jwYmRCXnjm"
      },
      "execution_count": null,
      "outputs": []
    },
    {
      "cell_type": "markdown",
      "source": [
        "## Named Entity Recognition (NER)"
      ],
      "metadata": {
        "id": "o-7GXUnpX_Du"
      }
    },
    {
      "cell_type": "code",
      "source": [
        "nlp = spacy.load(\"en_core_web_sm\")\n",
        "doc = nlp(\"Reliance is looking at buying U.K. based analytics startup for $7 billion\")\n",
        "\n",
        "for ent in doc.ents:\n",
        "    print(ent.text, ent.start_char, ent.end_char, ent.label_)"
      ],
      "metadata": {
        "id": "wnj2BfntX4R1"
      },
      "execution_count": null,
      "outputs": []
    },
    {
      "cell_type": "code",
      "source": [
        "spacy.explain(\"ORG\"),spacy.explain(\"GPE\"),spacy.explain(\"MONEY\")"
      ],
      "metadata": {
        "id": "_Ftck3S-YaI5"
      },
      "execution_count": null,
      "outputs": []
    },
    {
      "cell_type": "markdown",
      "source": [
        "## Entity Detection"
      ],
      "metadata": {
        "id": "tWTZOnrZZEEZ"
      }
    },
    {
      "cell_type": "code",
      "source": [
        "doc= nlp(u\"\"\"The Amazon rainforest,[a] alternatively, the Amazon Jungle, also known in English as Amazonia, is a moist broadleaf tropical rainforest in the Amazon biome that covers most of the Amazon basin of South America. This basin encompasses 7,000,000 km2 (2,700,000 sq mi), of which 5,500,000 km2 (2,100,000 sq mi) are covered by the rainforest. This region includes territory belonging to nine nations.\n",
        "\n",
        "The majority of the forest is contained within Brazil, with 60% of the rainforest, followed by Peru with 13%, Colombia with 10%, and with minor amounts in Bolivia, Ecuador, French Guiana, Guyana, Suriname, and Venezuela. Four nations have \"Amazonas\" as the name of one of their first-level administrative regions and France uses the name \"Guiana Amazonian Park\" for its rainforest protected area. The Amazon represents over half of the planet's remaining rainforests,[2] and comprises the largest and most biodiverse tract of tropical rainforest in the world, with an estimated 390 billion individual trees divided into 16,000 species.[3]\n",
        "\n",
        "Etymology\n",
        "The name Amazon is said to arise from a war Francisco de Orellana fought with the Tapuyas and other tribes. The women of the tribe fought alongside the men, as was their custom.[4] Orellana derived the name Amazonas from the Amazons of Greek mythology, described by Herodotus and Diodorus.[4]\n",
        "\n",
        "History\n",
        "See also: History of South America § Amazon, and Amazon River § History\n",
        "Tribal societies are well capable of escalation to all-out wars between tribes. Thus, in the Amazonas, there was perpetual animosity between the neighboring tribes of the Jivaro. Several tribes of the Jivaroan group, including the Shuar, practised headhunting for trophies and headshrinking.[5] The accounts of missionaries to the area in the borderlands between Brazil and Venezuela have recounted constant infighting in the Yanomami tribes. More than a third of the Yanomamo males, on average, died from warfare.[6]\"\"\")"
      ],
      "metadata": {
        "id": "weYOLEucYqcr"
      },
      "execution_count": null,
      "outputs": []
    },
    {
      "cell_type": "code",
      "source": [
        "entities=[(i, i.label_, i.label) for i in doc.ents]\n",
        "entities"
      ],
      "metadata": {
        "id": "bQ62r44NZgCx"
      },
      "execution_count": null,
      "outputs": []
    },
    {
      "cell_type": "code",
      "source": [
        "displacy.render(doc, style = \"ent\",jupyter = True)"
      ],
      "metadata": {
        "id": "GhlWX1v3Zp-v"
      },
      "execution_count": null,
      "outputs": []
    },
    {
      "cell_type": "markdown",
      "source": [
        "## Similarity"
      ],
      "metadata": {
        "id": "7fhtSejpa7oN"
      }
    },
    {
      "cell_type": "code",
      "source": [
        "nlp = spacy.load(\"en_core_web_lg\")\n",
        "tokens = nlp(\"dog cat banana afskfsd\")\n",
        "\n",
        "for token in tokens:\n",
        "    print(token.text, token.has_vector, token.vector_norm, token.is_oov)"
      ],
      "metadata": {
        "id": "RqWQbjP2aCve"
      },
      "execution_count": null,
      "outputs": []
    },
    {
      "cell_type": "code",
      "source": [
        "nlp = spacy.load(\"en_core_web_lg\")  # make sure to use larger model!\n",
        "tokens = nlp(\"dog cat banana\")\n",
        "\n",
        "for token1 in tokens:\n",
        "    for token2 in tokens:\n",
        "        print(token1.text, token2.text, token1.similarity(token2))"
      ],
      "metadata": {
        "id": "GlgKlXfKeqj-"
      },
      "execution_count": null,
      "outputs": []
    },
    {
      "cell_type": "markdown",
      "source": [
        "# Text Classification"
      ],
      "metadata": {
        "id": "5AH8gsAYfkIR"
      }
    },
    {
      "cell_type": "markdown",
      "source": [
        "![image.png](data:image/png;base64,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)"
      ],
      "metadata": {
        "id": "4dfmgVrMh3AE"
      }
    },
    {
      "cell_type": "code",
      "source": [
        "import pandas as pd\n",
        "from sklearn.feature_extraction.text import CountVectorizer,TfidfVectorizer\n",
        "from sklearn.base import TransformerMixin\n",
        "from sklearn.pipeline import Pipeline\n",
        "\n",
        "import string\n",
        "from spacy.lang.en.stop_words import STOP_WORDS\n",
        "from spacy.lang.en import English\n",
        "from sklearn.model_selection import train_test_split\n",
        "# models\n",
        "from sklearn.linear_model import LogisticRegression"
      ],
      "metadata": {
        "id": "iO0fSPsZieuD"
      },
      "execution_count": null,
      "outputs": []
    },
    {
      "cell_type": "code",
      "source": [
        "df_amazon = pd.read_csv (\"/content/drive/MyDrive/amazon_alexa.tsv\", sep=\"\\t\")\n",
        "df_amazon.head()"
      ],
      "metadata": {
        "id": "_vWpLqPZiinL"
      },
      "execution_count": null,
      "outputs": []
    },
    {
      "cell_type": "code",
      "source": [
        "df_amazon.shape"
      ],
      "metadata": {
        "id": "rsdF7IIKqucD"
      },
      "execution_count": null,
      "outputs": []
    },
    {
      "cell_type": "code",
      "source": [
        "# plot istribution of target\n",
        "df_amazon['feedback'].hist(figsize=(5,4))"
      ],
      "metadata": {
        "id": "ztNDJBDplgTf"
      },
      "execution_count": null,
      "outputs": []
    },
    {
      "cell_type": "markdown",
      "source": [
        "The feedback  shows huge class imbalance"
      ],
      "metadata": {
        "id": "CF5kWc4HmB4X"
      }
    },
    {
      "cell_type": "code",
      "source": [
        "# Create our list of punctuation marks\n",
        "punctuations = string.punctuation\n",
        "\n",
        "# Create our list of stopwords\n",
        "nlp = spacy.blank(\"en\")\n",
        "stop_words = spacy.lang.en.stop_words.STOP_WORDS\n",
        "\n",
        "# Load English tokenizer, tagger, parser, NER and word vectors\n",
        "parser = English()"
      ],
      "metadata": {
        "id": "wM7dJNRSl9yI"
      },
      "execution_count": null,
      "outputs": []
    },
    {
      "cell_type": "code",
      "source": [
        "# Creating our tokenizer function\n",
        "def spacy_tokenizer(sentence):\n",
        "    # Creating our token object, which is used to create documents with linguistic annotations.\n",
        "    mytokens = parser(sentence)\n",
        "\n",
        "    # Lemmatizing each token and converting each token into lowercase\n",
        "    mytokens = [ word.lemma_.lower().strip() if word.lemma_ != \"-PRON-\" else word.lower_ for word in mytokens ]\n",
        "\n",
        "    # Removing stop words\n",
        "    mytokens = [ word for word in mytokens if word not in stop_words and word not in punctuations ]\n",
        "\n",
        "    # return preprocessed list of tokens\n",
        "    return mytokens"
      ],
      "metadata": {
        "id": "JN6pc0XCmcin"
      },
      "execution_count": null,
      "outputs": []
    },
    {
      "cell_type": "code",
      "source": [
        "# Custom transformer using spaCy\n",
        "class predictors(TransformerMixin):\n",
        "    def transform(self, X, **transform_params):\n",
        "        # Cleaning Text\n",
        "        return [clean_text(text) for text in X]\n",
        "\n",
        "    def fit(self, X, y=None, **fit_params):\n",
        "        return self\n",
        "\n",
        "    def get_params(self, deep=True):\n",
        "        return {}\n",
        "\n",
        "# Basic function to clean the text\n",
        "def clean_text(text):\n",
        "    # Removing spaces and converting text into lowercase\n",
        "    return text.strip().lower()"
      ],
      "metadata": {
        "id": "y_R5JYxXnU7k"
      },
      "execution_count": null,
      "outputs": []
    },
    {
      "cell_type": "code",
      "source": [
        "# Create a vectorizer object\n",
        "bow_vector = CountVectorizer(tokenizer = spacy_tokenizer, ngram_range=(1,1))"
      ],
      "metadata": {
        "id": "ftK6YXoloYmG"
      },
      "execution_count": null,
      "outputs": []
    },
    {
      "cell_type": "code",
      "source": [
        "# Texting tfidf vectorizer\n",
        "tfidf_vector = TfidfVectorizer(tokenizer = spacy_tokenizer)"
      ],
      "metadata": {
        "id": "qpelbPs9okd0"
      },
      "execution_count": null,
      "outputs": []
    },
    {
      "cell_type": "code",
      "source": [
        "X = df_amazon['verified_reviews'] # the features we want to analyze\n",
        "ylabels = df_amazon['feedback'] # the labels, or answers, we want to test against\n",
        "\n",
        "X_train, X_test, y_train, y_test = train_test_split(X, ylabels, test_size=0.3)"
      ],
      "metadata": {
        "id": "sT0aOaSdo3oN"
      },
      "execution_count": null,
      "outputs": []
    },
    {
      "cell_type": "code",
      "source": [
        "X_train.shape, X_test.shape"
      ],
      "metadata": {
        "id": "gR7s5pdrpHAs"
      },
      "execution_count": null,
      "outputs": []
    },
    {
      "cell_type": "code",
      "source": [
        "# Logistic Regression Classifier\n",
        "classifier = LogisticRegression()\n",
        "\n",
        "# Create pipeline using Bag of Words\n",
        "pipe = Pipeline([(\"cleaner\", predictors()),\n",
        "                 ('vectorizer', tfidf_vector),\n",
        "                 ('classifier', classifier)])\n",
        "\n",
        "# model generation\n",
        "pipe.fit(X_train,y_train)"
      ],
      "metadata": {
        "id": "tzBvOXAbpQgG"
      },
      "execution_count": null,
      "outputs": []
    },
    {
      "cell_type": "code",
      "source": [
        "from sklearn import metrics\n",
        "# Predicting with a test dataset\n",
        "predicted = pipe.predict(X_test)\n",
        "\n",
        "# Model Accuracy\n",
        "print(\"Logistic Regression Accuracy:\",metrics.accuracy_score(y_test, predicted))\n",
        "print(\"Logistic Regression Precision:\",metrics.precision_score(y_test, predicted))\n",
        "print(\"Logistic Regression Recall:\",metrics.recall_score(y_test, predicted))"
      ],
      "metadata": {
        "id": "MLIHrmphp1T5"
      },
      "execution_count": null,
      "outputs": []
    }
  ]
}