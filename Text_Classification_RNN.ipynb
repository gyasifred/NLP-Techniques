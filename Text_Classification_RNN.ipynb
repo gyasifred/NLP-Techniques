{
  "nbformat": 4,
  "nbformat_minor": 0,
  "metadata": {
    "colab": {
      "provenance": [],
      "gpuType": "T4",
      "authorship_tag": "ABX9TyOvsC/Z9pcATJ2rHa3gbkWI",
      "include_colab_link": true
    },
    "kernelspec": {
      "name": "python3",
      "display_name": "Python 3"
    },
    "language_info": {
      "name": "python"
    },
    "accelerator": "GPU"
  },
  "cells": [
    {
      "cell_type": "markdown",
      "metadata": {
        "id": "view-in-github",
        "colab_type": "text"
      },
      "source": [
        "<a href=\"https://colab.research.google.com/github/gyasifred/NLP-Techniques/blob/main/Text_Classification_RNN.ipynb\" target=\"_parent\"><img src=\"https://colab.research.google.com/assets/colab-badge.svg\" alt=\"Open In Colab\"/></a>"
      ]
    },
    {
      "cell_type": "markdown",
      "source": [
        "This notebook will demonstrate Text classification using Recurrent Neural Networks (RNNs). Text classification is a fundamental natural language processing (NLP) task that involves assigning predefined categories or labels to textual data. RNNs are a class of deep learning models that excel at handling sequential data, making them well-suited for processing and understanding text data."
      ],
      "metadata": {
        "id": "2bWsFE-OCk85"
      }
    },
    {
      "cell_type": "code",
      "execution_count": 1,
      "metadata": {
        "colab": {
          "base_uri": "https://localhost:8080/"
        },
        "id": "gEVM188MCj0R",
        "outputId": "3774c3d5-dabe-49ad-bed9-c24caf427646"
      },
      "outputs": [
        {
          "output_type": "stream",
          "name": "stdout",
          "text": [
            "--2023-07-28 11:25:45--  https://lazyprogrammer.me/course_files/nlp/bbc_text_cls.csv\n",
            "Resolving lazyprogrammer.me (lazyprogrammer.me)... 104.21.23.210, 172.67.213.166, 2606:4700:3031::6815:17d2, ...\n",
            "Connecting to lazyprogrammer.me (lazyprogrammer.me)|104.21.23.210|:443... connected.\n",
            "HTTP request sent, awaiting response... 200 OK\n",
            "Length: 5085081 (4.8M) [text/csv]\n",
            "Saving to: ‘bbc_text_cls.csv’\n",
            "\n",
            "bbc_text_cls.csv    100%[===================>]   4.85M  --.-KB/s    in 0.1s    \n",
            "\n",
            "2023-07-28 11:25:46 (47.6 MB/s) - ‘bbc_text_cls.csv’ saved [5085081/5085081]\n",
            "\n"
          ]
        }
      ],
      "source": [
        "#Download BBC News dataset\n",
        "!wget -nc https://lazyprogrammer.me/course_files/nlp/bbc_text_cls.csv"
      ]
    },
    {
      "cell_type": "code",
      "source": [
        "# import libraries\n",
        "import numpy as np\n",
        "import pandas as pd\n",
        "import tensorflow as tf\n",
        "import matplotlib.pyplot as plt\n",
        "from sklearn.model_selection import train_test_split\n",
        "\n",
        "from tensorflow.keras.preprocessing.text import Tokenizer\n",
        "from tensorflow.keras.preprocessing.sequence import pad_sequences\n",
        "from tensorflow.keras.layers import Dense, Input, GlobalMaxPooling1D\n",
        "from tensorflow.keras.layers import LSTM, GRU, SimpleRNN, Embedding\n",
        "from tensorflow.keras.models import Model\n",
        "from tensorflow.keras.losses import SparseCategoricalCrossentropy\n"
      ],
      "metadata": {
        "id": "U4M1mWlGD5aP"
      },
      "execution_count": 2,
      "outputs": []
    },
    {
      "cell_type": "code",
      "source": [
        "# load dataset\n",
        "df = pd.read_csv(\"bbc_text_cls.csv\")\n",
        "#preview\n",
        "df.head()"
      ],
      "metadata": {
        "colab": {
          "base_uri": "https://localhost:8080/",
          "height": 206
        },
        "id": "BleiytVVEuSF",
        "outputId": "c8da7cde-911c-4a96-9277-a132cdbb8e82"
      },
      "execution_count": 3,
      "outputs": [
        {
          "output_type": "execute_result",
          "data": {
            "text/plain": [
              "                                                text    labels\n",
              "0  Ad sales boost Time Warner profit\\n\\nQuarterly...  business\n",
              "1  Dollar gains on Greenspan speech\\n\\nThe dollar...  business\n",
              "2  Yukos unit buyer faces loan claim\\n\\nThe owner...  business\n",
              "3  High fuel prices hit BA's profits\\n\\nBritish A...  business\n",
              "4  Pernod takeover talk lifts Domecq\\n\\nShares in...  business"
            ],
            "text/html": [
              "\n",
              "\n",
              "  <div id=\"df-862625fd-922a-4d70-b3f9-964fb6a4c002\">\n",
              "    <div class=\"colab-df-container\">\n",
              "      <div>\n",
              "<style scoped>\n",
              "    .dataframe tbody tr th:only-of-type {\n",
              "        vertical-align: middle;\n",
              "    }\n",
              "\n",
              "    .dataframe tbody tr th {\n",
              "        vertical-align: top;\n",
              "    }\n",
              "\n",
              "    .dataframe thead th {\n",
              "        text-align: right;\n",
              "    }\n",
              "</style>\n",
              "<table border=\"1\" class=\"dataframe\">\n",
              "  <thead>\n",
              "    <tr style=\"text-align: right;\">\n",
              "      <th></th>\n",
              "      <th>text</th>\n",
              "      <th>labels</th>\n",
              "    </tr>\n",
              "  </thead>\n",
              "  <tbody>\n",
              "    <tr>\n",
              "      <th>0</th>\n",
              "      <td>Ad sales boost Time Warner profit\\n\\nQuarterly...</td>\n",
              "      <td>business</td>\n",
              "    </tr>\n",
              "    <tr>\n",
              "      <th>1</th>\n",
              "      <td>Dollar gains on Greenspan speech\\n\\nThe dollar...</td>\n",
              "      <td>business</td>\n",
              "    </tr>\n",
              "    <tr>\n",
              "      <th>2</th>\n",
              "      <td>Yukos unit buyer faces loan claim\\n\\nThe owner...</td>\n",
              "      <td>business</td>\n",
              "    </tr>\n",
              "    <tr>\n",
              "      <th>3</th>\n",
              "      <td>High fuel prices hit BA's profits\\n\\nBritish A...</td>\n",
              "      <td>business</td>\n",
              "    </tr>\n",
              "    <tr>\n",
              "      <th>4</th>\n",
              "      <td>Pernod takeover talk lifts Domecq\\n\\nShares in...</td>\n",
              "      <td>business</td>\n",
              "    </tr>\n",
              "  </tbody>\n",
              "</table>\n",
              "</div>\n",
              "      <button class=\"colab-df-convert\" onclick=\"convertToInteractive('df-862625fd-922a-4d70-b3f9-964fb6a4c002')\"\n",
              "              title=\"Convert this dataframe to an interactive table.\"\n",
              "              style=\"display:none;\">\n",
              "\n",
              "  <svg xmlns=\"http://www.w3.org/2000/svg\" height=\"24px\"viewBox=\"0 0 24 24\"\n",
              "       width=\"24px\">\n",
              "    <path d=\"M0 0h24v24H0V0z\" fill=\"none\"/>\n",
              "    <path d=\"M18.56 5.44l.94 2.06.94-2.06 2.06-.94-2.06-.94-.94-2.06-.94 2.06-2.06.94zm-11 1L8.5 8.5l.94-2.06 2.06-.94-2.06-.94L8.5 2.5l-.94 2.06-2.06.94zm10 10l.94 2.06.94-2.06 2.06-.94-2.06-.94-.94-2.06-.94 2.06-2.06.94z\"/><path d=\"M17.41 7.96l-1.37-1.37c-.4-.4-.92-.59-1.43-.59-.52 0-1.04.2-1.43.59L10.3 9.45l-7.72 7.72c-.78.78-.78 2.05 0 2.83L4 21.41c.39.39.9.59 1.41.59.51 0 1.02-.2 1.41-.59l7.78-7.78 2.81-2.81c.8-.78.8-2.07 0-2.86zM5.41 20L4 18.59l7.72-7.72 1.47 1.35L5.41 20z\"/>\n",
              "  </svg>\n",
              "      </button>\n",
              "\n",
              "\n",
              "\n",
              "    <div id=\"df-1d424663-50a6-47a5-9671-4d78a070fa75\">\n",
              "      <button class=\"colab-df-quickchart\" onclick=\"quickchart('df-1d424663-50a6-47a5-9671-4d78a070fa75')\"\n",
              "              title=\"Suggest charts.\"\n",
              "              style=\"display:none;\">\n",
              "\n",
              "<svg xmlns=\"http://www.w3.org/2000/svg\" height=\"24px\"viewBox=\"0 0 24 24\"\n",
              "     width=\"24px\">\n",
              "    <g>\n",
              "        <path d=\"M19 3H5c-1.1 0-2 .9-2 2v14c0 1.1.9 2 2 2h14c1.1 0 2-.9 2-2V5c0-1.1-.9-2-2-2zM9 17H7v-7h2v7zm4 0h-2V7h2v10zm4 0h-2v-4h2v4z\"/>\n",
              "    </g>\n",
              "</svg>\n",
              "      </button>\n",
              "    </div>\n",
              "\n",
              "<style>\n",
              "  .colab-df-quickchart {\n",
              "    background-color: #E8F0FE;\n",
              "    border: none;\n",
              "    border-radius: 50%;\n",
              "    cursor: pointer;\n",
              "    display: none;\n",
              "    fill: #1967D2;\n",
              "    height: 32px;\n",
              "    padding: 0 0 0 0;\n",
              "    width: 32px;\n",
              "  }\n",
              "\n",
              "  .colab-df-quickchart:hover {\n",
              "    background-color: #E2EBFA;\n",
              "    box-shadow: 0px 1px 2px rgba(60, 64, 67, 0.3), 0px 1px 3px 1px rgba(60, 64, 67, 0.15);\n",
              "    fill: #174EA6;\n",
              "  }\n",
              "\n",
              "  [theme=dark] .colab-df-quickchart {\n",
              "    background-color: #3B4455;\n",
              "    fill: #D2E3FC;\n",
              "  }\n",
              "\n",
              "  [theme=dark] .colab-df-quickchart:hover {\n",
              "    background-color: #434B5C;\n",
              "    box-shadow: 0px 1px 3px 1px rgba(0, 0, 0, 0.15);\n",
              "    filter: drop-shadow(0px 1px 2px rgba(0, 0, 0, 0.3));\n",
              "    fill: #FFFFFF;\n",
              "  }\n",
              "</style>\n",
              "\n",
              "    <script>\n",
              "      async function quickchart(key) {\n",
              "        const containerElement = document.querySelector('#' + key);\n",
              "        const charts = await google.colab.kernel.invokeFunction(\n",
              "            'suggestCharts', [key], {});\n",
              "      }\n",
              "    </script>\n",
              "\n",
              "      <script>\n",
              "\n",
              "function displayQuickchartButton(domScope) {\n",
              "  let quickchartButtonEl =\n",
              "    domScope.querySelector('#df-1d424663-50a6-47a5-9671-4d78a070fa75 button.colab-df-quickchart');\n",
              "  quickchartButtonEl.style.display =\n",
              "    google.colab.kernel.accessAllowed ? 'block' : 'none';\n",
              "}\n",
              "\n",
              "        displayQuickchartButton(document);\n",
              "      </script>\n",
              "      <style>\n",
              "    .colab-df-container {\n",
              "      display:flex;\n",
              "      flex-wrap:wrap;\n",
              "      gap: 12px;\n",
              "    }\n",
              "\n",
              "    .colab-df-convert {\n",
              "      background-color: #E8F0FE;\n",
              "      border: none;\n",
              "      border-radius: 50%;\n",
              "      cursor: pointer;\n",
              "      display: none;\n",
              "      fill: #1967D2;\n",
              "      height: 32px;\n",
              "      padding: 0 0 0 0;\n",
              "      width: 32px;\n",
              "    }\n",
              "\n",
              "    .colab-df-convert:hover {\n",
              "      background-color: #E2EBFA;\n",
              "      box-shadow: 0px 1px 2px rgba(60, 64, 67, 0.3), 0px 1px 3px 1px rgba(60, 64, 67, 0.15);\n",
              "      fill: #174EA6;\n",
              "    }\n",
              "\n",
              "    [theme=dark] .colab-df-convert {\n",
              "      background-color: #3B4455;\n",
              "      fill: #D2E3FC;\n",
              "    }\n",
              "\n",
              "    [theme=dark] .colab-df-convert:hover {\n",
              "      background-color: #434B5C;\n",
              "      box-shadow: 0px 1px 3px 1px rgba(0, 0, 0, 0.15);\n",
              "      filter: drop-shadow(0px 1px 2px rgba(0, 0, 0, 0.3));\n",
              "      fill: #FFFFFF;\n",
              "    }\n",
              "  </style>\n",
              "\n",
              "      <script>\n",
              "        const buttonEl =\n",
              "          document.querySelector('#df-862625fd-922a-4d70-b3f9-964fb6a4c002 button.colab-df-convert');\n",
              "        buttonEl.style.display =\n",
              "          google.colab.kernel.accessAllowed ? 'block' : 'none';\n",
              "\n",
              "        async function convertToInteractive(key) {\n",
              "          const element = document.querySelector('#df-862625fd-922a-4d70-b3f9-964fb6a4c002');\n",
              "          const dataTable =\n",
              "            await google.colab.kernel.invokeFunction('convertToInteractive',\n",
              "                                                     [key], {});\n",
              "          if (!dataTable) return;\n",
              "\n",
              "          const docLinkHtml = 'Like what you see? Visit the ' +\n",
              "            '<a target=\"_blank\" href=https://colab.research.google.com/notebooks/data_table.ipynb>data table notebook</a>'\n",
              "            + ' to learn more about interactive tables.';\n",
              "          element.innerHTML = '';\n",
              "          dataTable['output_type'] = 'display_data';\n",
              "          await google.colab.output.renderOutput(dataTable, element);\n",
              "          const docLink = document.createElement('div');\n",
              "          docLink.innerHTML = docLinkHtml;\n",
              "          element.appendChild(docLink);\n",
              "        }\n",
              "      </script>\n",
              "    </div>\n",
              "  </div>\n"
            ]
          },
          "metadata": {},
          "execution_count": 3
        }
      ]
    },
    {
      "cell_type": "code",
      "source": [
        "df['targets'] = df['labels'].astype(\"category\").cat.codes"
      ],
      "metadata": {
        "id": "vS74f_YgI0Jq"
      },
      "execution_count": 4,
      "outputs": []
    },
    {
      "cell_type": "code",
      "source": [
        "# number of classes\n",
        "K = df.targets.max() + 1\n",
        "K"
      ],
      "metadata": {
        "colab": {
          "base_uri": "https://localhost:8080/"
        },
        "id": "xhDaHLq_JCO3",
        "outputId": "384c3197-3b37-4bfb-e9e1-1fe7281304bb"
      },
      "execution_count": 5,
      "outputs": [
        {
          "output_type": "execute_result",
          "data": {
            "text/plain": [
              "5"
            ]
          },
          "metadata": {},
          "execution_count": 5
        }
      ]
    },
    {
      "cell_type": "code",
      "source": [
        "#split into training and test sets\n",
        "df_train, df_test = train_test_split(df, test_size = .2, random_state = 42)"
      ],
      "metadata": {
        "id": "kVuOJY_sJpRl"
      },
      "execution_count": 6,
      "outputs": []
    },
    {
      "cell_type": "code",
      "source": [
        "#convert sequence to text\n",
        "MAX_VOCAB_SIZE = 2000\n",
        "tokenizer = Tokenizer(num_words=MAX_VOCAB_SIZE)\n",
        "tokenizer.fit_on_texts(df_train['text'])\n",
        "sequence_train = tokenizer.texts_to_sequences(df_train['text'])\n",
        "sequence_test = tokenizer.texts_to_sequences(df_test['text'])"
      ],
      "metadata": {
        "id": "QrC1sGP-KPDt"
      },
      "execution_count": 7,
      "outputs": []
    },
    {
      "cell_type": "code",
      "source": [
        "# get word -> integer mapping\n",
        "word2idx = tokenizer.word_index\n",
        "V = len(word2idx)\n",
        "print('Found {} unique tokens.'.format(V))"
      ],
      "metadata": {
        "colab": {
          "base_uri": "https://localhost:8080/"
        },
        "id": "RzEckLR2LlpB",
        "outputId": "0262e7b2-c9c5-4fd4-be9b-bfcb74d698be"
      },
      "execution_count": 8,
      "outputs": [
        {
          "output_type": "stream",
          "name": "stdout",
          "text": [
            "Found 29278 unique tokens.\n"
          ]
        }
      ]
    },
    {
      "cell_type": "code",
      "source": [
        "# pad sequences so that we get a N x T matrix\n",
        "data_train = pad_sequences(sequence_train)\n",
        "print('Shape of data train tensor:', data_train.shape)\n",
        "\n",
        "# get sequence length\n",
        "T = data_train.shape[1]\n",
        "\n",
        "data_test = pad_sequences(sequence_test, maxlen=T)\n",
        "print('Shape of data test tensor:', data_test.shape)"
      ],
      "metadata": {
        "colab": {
          "base_uri": "https://localhost:8080/"
        },
        "id": "gOeozYMdMYPs",
        "outputId": "982e106d-d5db-4bfd-c9d4-1af2414e6b3b"
      },
      "execution_count": 9,
      "outputs": [
        {
          "output_type": "stream",
          "name": "stdout",
          "text": [
            "Shape of data train tensor: (1780, 2827)\n",
            "Shape of data test tensor: (445, 2827)\n"
          ]
        }
      ]
    },
    {
      "cell_type": "code",
      "source": [
        "#Create a  model\n",
        "# We get to choose embedding dimensionality\n",
        "D = 20\n",
        "i = Input(shape=(T,))\n",
        "x = Embedding(V + 1, D)(i)\n",
        "x = LSTM(32,return_sequences=True)(x)\n",
        "x = GlobalMaxPooling1D()(x)\n",
        "x = Dense(K)(x)\n",
        "model = Model(i,x)"
      ],
      "metadata": {
        "id": "_fwb1cpjMqQv"
      },
      "execution_count": 10,
      "outputs": []
    },
    {
      "cell_type": "code",
      "source": [
        "#compile\n",
        "model.compile(\n",
        "    loss = SparseCategoricalCrossentropy(from_logits=True),\n",
        "    optimizer=\"Adam\",\n",
        "    metrics= ['accuracy']\n",
        ")"
      ],
      "metadata": {
        "id": "AI21dA69OAoN"
      },
      "execution_count": 11,
      "outputs": []
    },
    {
      "cell_type": "code",
      "source": [
        "model.summary()"
      ],
      "metadata": {
        "colab": {
          "base_uri": "https://localhost:8080/"
        },
        "id": "V9NLa4wpO4Vv",
        "outputId": "8f38cc7b-6161-4f71-fd31-275d5fa29cca"
      },
      "execution_count": 12,
      "outputs": [
        {
          "output_type": "stream",
          "name": "stdout",
          "text": [
            "Model: \"model\"\n",
            "_________________________________________________________________\n",
            " Layer (type)                Output Shape              Param #   \n",
            "=================================================================\n",
            " input_1 (InputLayer)        [(None, 2827)]            0         \n",
            "                                                                 \n",
            " embedding (Embedding)       (None, 2827, 20)          585580    \n",
            "                                                                 \n",
            " lstm (LSTM)                 (None, 2827, 32)          6784      \n",
            "                                                                 \n",
            " global_max_pooling1d (Globa  (None, 32)               0         \n",
            " lMaxPooling1D)                                                  \n",
            "                                                                 \n",
            " dense (Dense)               (None, 5)                 165       \n",
            "                                                                 \n",
            "=================================================================\n",
            "Total params: 592,529\n",
            "Trainable params: 592,529\n",
            "Non-trainable params: 0\n",
            "_________________________________________________________________\n"
          ]
        }
      ]
    },
    {
      "cell_type": "code",
      "source": [
        "print('Training model...')\n",
        "r = model.fit(\n",
        "  data_train,\n",
        "  df_train['targets'],\n",
        "  epochs=50,\n",
        "  validation_data=(data_test, df_test['targets'])\n",
        ")"
      ],
      "metadata": {
        "colab": {
          "base_uri": "https://localhost:8080/"
        },
        "id": "XLQwBzlQO65N",
        "outputId": "fa3ba16b-d15c-4737-8d45-0cdf6411b1ef"
      },
      "execution_count": 13,
      "outputs": [
        {
          "output_type": "stream",
          "name": "stdout",
          "text": [
            "Training model...\n",
            "Epoch 1/50\n",
            "56/56 [==============================] - 25s 319ms/step - loss: 1.5984 - accuracy: 0.2444 - val_loss: 1.5753 - val_accuracy: 0.3146\n",
            "Epoch 2/50\n",
            "56/56 [==============================] - 13s 226ms/step - loss: 1.5439 - accuracy: 0.4483 - val_loss: 1.4638 - val_accuracy: 0.7483\n",
            "Epoch 3/50\n",
            "56/56 [==============================] - 12s 219ms/step - loss: 1.1776 - accuracy: 0.6455 - val_loss: 0.8812 - val_accuracy: 0.7056\n",
            "Epoch 4/50\n",
            "56/56 [==============================] - 7s 129ms/step - loss: 0.6814 - accuracy: 0.7545 - val_loss: 0.6849 - val_accuracy: 0.7708\n",
            "Epoch 5/50\n",
            "56/56 [==============================] - 9s 158ms/step - loss: 0.5253 - accuracy: 0.8820 - val_loss: 0.6440 - val_accuracy: 0.8404\n",
            "Epoch 6/50\n",
            "56/56 [==============================] - 8s 132ms/step - loss: 0.5251 - accuracy: 0.8787 - val_loss: 0.6399 - val_accuracy: 0.7865\n",
            "Epoch 7/50\n",
            "56/56 [==============================] - 7s 121ms/step - loss: 0.4926 - accuracy: 0.8854 - val_loss: 0.4427 - val_accuracy: 0.9101\n",
            "Epoch 8/50\n",
            "56/56 [==============================] - 7s 117ms/step - loss: 0.3035 - accuracy: 0.9522 - val_loss: 0.3400 - val_accuracy: 0.9326\n",
            "Epoch 9/50\n",
            "56/56 [==============================] - 5s 91ms/step - loss: 0.2125 - accuracy: 0.9674 - val_loss: 0.2990 - val_accuracy: 0.9191\n",
            "Epoch 10/50\n",
            "56/56 [==============================] - 7s 118ms/step - loss: 0.1726 - accuracy: 0.9730 - val_loss: 0.3054 - val_accuracy: 0.9101\n",
            "Epoch 11/50\n",
            "56/56 [==============================] - 6s 109ms/step - loss: 0.1256 - accuracy: 0.9792 - val_loss: 0.2607 - val_accuracy: 0.9348\n",
            "Epoch 12/50\n",
            "56/56 [==============================] - 7s 122ms/step - loss: 0.1120 - accuracy: 0.9781 - val_loss: 0.2949 - val_accuracy: 0.9146\n",
            "Epoch 13/50\n",
            "56/56 [==============================] - 5s 91ms/step - loss: 0.1620 - accuracy: 0.9652 - val_loss: 0.4834 - val_accuracy: 0.8697\n",
            "Epoch 14/50\n",
            "56/56 [==============================] - 7s 121ms/step - loss: 0.1117 - accuracy: 0.9792 - val_loss: 0.2319 - val_accuracy: 0.9348\n",
            "Epoch 15/50\n",
            "56/56 [==============================] - 4s 78ms/step - loss: 0.1033 - accuracy: 0.9787 - val_loss: 0.3286 - val_accuracy: 0.8989\n",
            "Epoch 16/50\n",
            "56/56 [==============================] - 6s 96ms/step - loss: 0.1057 - accuracy: 0.9798 - val_loss: 0.3108 - val_accuracy: 0.9079\n",
            "Epoch 17/50\n",
            "56/56 [==============================] - 6s 105ms/step - loss: 0.0669 - accuracy: 0.9899 - val_loss: 0.2875 - val_accuracy: 0.9191\n",
            "Epoch 18/50\n",
            "56/56 [==============================] - 4s 78ms/step - loss: 0.0777 - accuracy: 0.9742 - val_loss: 0.3342 - val_accuracy: 0.8921\n",
            "Epoch 19/50\n",
            "56/56 [==============================] - 6s 103ms/step - loss: 0.1089 - accuracy: 0.9725 - val_loss: 0.3228 - val_accuracy: 0.9056\n",
            "Epoch 20/50\n",
            "56/56 [==============================] - 5s 94ms/step - loss: 0.0613 - accuracy: 0.9933 - val_loss: 0.2964 - val_accuracy: 0.9191\n",
            "Epoch 21/50\n",
            "56/56 [==============================] - 6s 100ms/step - loss: 0.0414 - accuracy: 0.9961 - val_loss: 0.3134 - val_accuracy: 0.9101\n",
            "Epoch 22/50\n",
            "56/56 [==============================] - 5s 87ms/step - loss: 0.0373 - accuracy: 0.9961 - val_loss: 0.3168 - val_accuracy: 0.9101\n",
            "Epoch 23/50\n",
            "56/56 [==============================] - 4s 74ms/step - loss: 0.0298 - accuracy: 0.9972 - val_loss: 0.3193 - val_accuracy: 0.9124\n",
            "Epoch 24/50\n",
            "56/56 [==============================] - 5s 92ms/step - loss: 0.0582 - accuracy: 0.9882 - val_loss: 0.3126 - val_accuracy: 0.9124\n",
            "Epoch 25/50\n",
            "56/56 [==============================] - 4s 78ms/step - loss: 0.0484 - accuracy: 0.9910 - val_loss: 0.3342 - val_accuracy: 0.9146\n",
            "Epoch 26/50\n",
            "56/56 [==============================] - 5s 91ms/step - loss: 0.1940 - accuracy: 0.9522 - val_loss: 0.3760 - val_accuracy: 0.8899\n",
            "Epoch 27/50\n",
            "56/56 [==============================] - 4s 75ms/step - loss: 0.1224 - accuracy: 0.9702 - val_loss: 0.2999 - val_accuracy: 0.9191\n",
            "Epoch 28/50\n",
            "56/56 [==============================] - 5s 82ms/step - loss: 0.0493 - accuracy: 0.9904 - val_loss: 0.3343 - val_accuracy: 0.8989\n",
            "Epoch 29/50\n",
            "56/56 [==============================] - 5s 92ms/step - loss: 0.0285 - accuracy: 0.9978 - val_loss: 0.3102 - val_accuracy: 0.9146\n",
            "Epoch 30/50\n",
            "56/56 [==============================] - 4s 75ms/step - loss: 0.0263 - accuracy: 0.9966 - val_loss: 0.3009 - val_accuracy: 0.9191\n",
            "Epoch 31/50\n",
            "56/56 [==============================] - 5s 81ms/step - loss: 0.0240 - accuracy: 0.9978 - val_loss: 0.3059 - val_accuracy: 0.9191\n",
            "Epoch 32/50\n",
            "56/56 [==============================] - 5s 92ms/step - loss: 0.0201 - accuracy: 0.9983 - val_loss: 0.3007 - val_accuracy: 0.9236\n",
            "Epoch 33/50\n",
            "56/56 [==============================] - 5s 79ms/step - loss: 0.0174 - accuracy: 0.9989 - val_loss: 0.3253 - val_accuracy: 0.9169\n",
            "Epoch 34/50\n",
            "56/56 [==============================] - 5s 91ms/step - loss: 0.0164 - accuracy: 0.9989 - val_loss: 0.3310 - val_accuracy: 0.9169\n",
            "Epoch 35/50\n",
            "56/56 [==============================] - 4s 79ms/step - loss: 0.0159 - accuracy: 0.9989 - val_loss: 0.3365 - val_accuracy: 0.9124\n",
            "Epoch 36/50\n",
            "56/56 [==============================] - 4s 79ms/step - loss: 0.0152 - accuracy: 0.9989 - val_loss: 0.3372 - val_accuracy: 0.9146\n",
            "Epoch 37/50\n",
            "56/56 [==============================] - 5s 94ms/step - loss: 0.0140 - accuracy: 0.9989 - val_loss: 0.3427 - val_accuracy: 0.9169\n",
            "Epoch 38/50\n",
            "56/56 [==============================] - 4s 74ms/step - loss: 0.0133 - accuracy: 0.9989 - val_loss: 0.3496 - val_accuracy: 0.9169\n",
            "Epoch 39/50\n",
            "56/56 [==============================] - 5s 88ms/step - loss: 0.0127 - accuracy: 0.9989 - val_loss: 0.3566 - val_accuracy: 0.9169\n",
            "Epoch 40/50\n",
            "56/56 [==============================] - 4s 76ms/step - loss: 0.0121 - accuracy: 0.9989 - val_loss: 0.3610 - val_accuracy: 0.9169\n",
            "Epoch 41/50\n",
            "56/56 [==============================] - 4s 78ms/step - loss: 0.0116 - accuracy: 0.9989 - val_loss: 0.3654 - val_accuracy: 0.9169\n",
            "Epoch 42/50\n",
            "56/56 [==============================] - 5s 95ms/step - loss: 0.0111 - accuracy: 0.9989 - val_loss: 0.3628 - val_accuracy: 0.9191\n",
            "Epoch 43/50\n",
            "56/56 [==============================] - 5s 82ms/step - loss: 0.0106 - accuracy: 0.9989 - val_loss: 0.3581 - val_accuracy: 0.9191\n",
            "Epoch 44/50\n",
            "56/56 [==============================] - 5s 88ms/step - loss: 0.0101 - accuracy: 0.9989 - val_loss: 0.3610 - val_accuracy: 0.9191\n",
            "Epoch 45/50\n",
            "56/56 [==============================] - 5s 87ms/step - loss: 0.0096 - accuracy: 0.9989 - val_loss: 0.3658 - val_accuracy: 0.9169\n",
            "Epoch 46/50\n",
            "56/56 [==============================] - 4s 75ms/step - loss: 0.0092 - accuracy: 0.9989 - val_loss: 0.3693 - val_accuracy: 0.9191\n",
            "Epoch 47/50\n",
            "56/56 [==============================] - 5s 88ms/step - loss: 0.0088 - accuracy: 0.9989 - val_loss: 0.3642 - val_accuracy: 0.9258\n",
            "Epoch 48/50\n",
            "56/56 [==============================] - 5s 86ms/step - loss: 0.0083 - accuracy: 0.9989 - val_loss: 0.3753 - val_accuracy: 0.9258\n",
            "Epoch 49/50\n",
            "56/56 [==============================] - 4s 79ms/step - loss: 0.0059 - accuracy: 0.9994 - val_loss: 0.3809 - val_accuracy: 0.9258\n",
            "Epoch 50/50\n",
            "56/56 [==============================] - 6s 99ms/step - loss: 0.0054 - accuracy: 0.9994 - val_loss: 0.3909 - val_accuracy: 0.9213\n"
          ]
        }
      ]
    },
    {
      "cell_type": "code",
      "source": [
        "# Plot loss per iteration\n",
        "plt.plot(r.history['loss'], label='train loss')\n",
        "plt.plot(r.history['val_loss'], label='val loss')\n",
        "plt.legend();"
      ],
      "metadata": {
        "colab": {
          "base_uri": "https://localhost:8080/",
          "height": 430
        },
        "id": "n1C54vqvPGaY",
        "outputId": "8008bd7a-926f-4fb3-ebf3-7eb9a41190f9"
      },
      "execution_count": 14,
      "outputs": [
        {
          "output_type": "display_data",
          "data": {
            "text/plain": [
              "<Figure size 640x480 with 1 Axes>"
            ],
            "image/png": "[encoded data removed]"
          },
          "metadata": {}
        }
      ]
    },
    {
      "cell_type": "code",
      "source": [
        "# Plot accuracy per iteration\n",
        "plt.plot(r.history['accuracy'], label='train acc')\n",
        "plt.plot(r.history['val_accuracy'], label='val acc')\n",
        "plt.legend();"
      ],
      "metadata": {
        "colab": {
          "base_uri": "https://localhost:8080/",
          "height": 430
        },
        "id": "JD1_8YzLPT7T",
        "outputId": "743cd463-caa4-478b-f741-310cbfed727f"
      },
      "execution_count": 15,
      "outputs": [
        {
          "output_type": "display_data",
          "data": {
            "text/plain": [
              "<Figure size 640x480 with 1 Axes>"
            ],
            "image/png": "[encoded data removed]"
          },
          "metadata": {}
        }
      ]
    },
    {
      "cell_type": "code",
      "source": [],
      "metadata": {
        "id": "0kwroEgGPj6m"
      },
      "execution_count": 15,
      "outputs": []
    }
  ]
}