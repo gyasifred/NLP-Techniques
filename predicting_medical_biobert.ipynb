{
  "nbformat": 4,
  "nbformat_minor": 0,
  "metadata": {
    "colab": {
      "provenance": [],
      "gpuType": "T4",
      "mount_file_id": "https://github.com/gyasifred/NLP-Techniques/blob/main/predicting_medical_biobert.ipynb",
      "authorship_tag": "ABX9TyM5MpIgP2QqQCieRbrAL0Hj",
      "include_colab_link": true
    },
    "kernelspec": {
      "name": "python3",
      "display_name": "Python 3"
    },
    "language_info": {
      "name": "python"
    },
    "accelerator": "GPU"
  },
  "cells": [
    {
      "cell_type": "markdown",
      "metadata": {
        "id": "view-in-github",
        "colab_type": "text"
      },
      "source": [
        "<a href=\"https://colab.research.google.com/github/gyasifred/NLP-Techniques/blob/main/predicting_medical_biobert.ipynb\" target=\"_parent\"><img src=\"https://colab.research.google.com/assets/colab-badge.svg\" alt=\"Open In Colab\"/></a>"
      ]
    },
    {
      "cell_type": "code",
      "source": [
        "import pandas as pd\n",
        "import torch\n",
        "import torch.nn.functional as F\n",
        "from torch.utils.data import Dataset, DataLoader\n",
        "from transformers import BertTokenizer, BertForSequenceClassification\n",
        "from sklearn.preprocessing import LabelEncoder\n",
        "from sklearn.metrics import accuracy_score, classification_report\n",
        "import matplotlib.pyplot as plt\n",
        "import seaborn as sns\n",
        "from typing import Tuple, Dict\n",
        "import numpy as np"
      ],
      "metadata": {
        "id": "VbnT5q-u9Hr8"
      },
      "execution_count": 1,
      "outputs": []
    },
    {
      "cell_type": "code",
      "source": [
        "def load_and_preprocess_data(train_path: str, test_path: str) -> Tuple[pd.DataFrame, pd.DataFrame, LabelEncoder]:\n",
        "    \"\"\"Load and preprocess the training and testing data.\n",
        "\n",
        "    Args:\n",
        "        train_path (str): The file path for the training data CSV.\n",
        "        test_path (str): The file path for the testing data CSV.\n",
        "\n",
        "    Returns:\n",
        "        Tuple[pd.DataFrame, pd.DataFrame, LabelEncoder]: A tuple containing the training DataFrame,\n",
        "        the testing DataFrame, and the fitted LabelEncoder.\n",
        "    \"\"\"\n",
        "    try:\n",
        "        # Load the data\n",
        "        train_df = pd.read_csv(train_path)\n",
        "        test_df = pd.read_csv(test_path)\n",
        "\n",
        "        # Check if necessary columns exist\n",
        "        if 'prognosis' not in train_df.columns or 'prognosis' not in test_df.columns:\n",
        "            raise ValueError(\"The 'prognosis' column is missing from the datasets.\")\n",
        "        if 'symptoms' not in train_df.columns or 'symptoms' not in test_df.columns:\n",
        "            raise ValueError(\"The 'symptoms' column is missing from the datasets.\")\n",
        "\n",
        "        # Initialize and fit the LabelEncoder\n",
        "        label_encoder = LabelEncoder()\n",
        "        train_df['prognosis'] = label_encoder.fit_transform(train_df['prognosis'])\n",
        "        test_df['prognosis'] = label_encoder.transform(test_df['prognosis'])\n",
        "\n",
        "        return train_df, test_df, label_encoder\n",
        "\n",
        "    except FileNotFoundError as e:\n",
        "        print(f\"Error: {e}\")\n",
        "        raise\n",
        "    except pd.errors.EmptyDataError:\n",
        "        print(\"Error: The file is empty.\")\n",
        "        raise\n",
        "    except Exception as e:\n",
        "        print(f\"An error occurred: {e}\")\n",
        "        raise"
      ],
      "metadata": {
        "id": "w6L5aBFdHis6"
      },
      "execution_count": 2,
      "outputs": []
    },
    {
      "cell_type": "code",
      "source": [
        "# Load and preprocess data\n",
        "train_df, test_df, label_encoder = load_and_preprocess_data(\"/content/drive/MyDrive/Training.csv\", \"/content/drive/MyDrive/Testing.csv\")"
      ],
      "metadata": {
        "id": "tCsaKGapHuh4"
      },
      "execution_count": 3,
      "outputs": []
    },
    {
      "cell_type": "code",
      "source": [
        "num_classes = len(label_encoder.classes_)\n",
        "print(f\"Number of classes: {num_classes}\")"
      ],
      "metadata": {
        "colab": {
          "base_uri": "https://localhost:8080/"
        },
        "id": "_T2bZmmrIFXt",
        "outputId": "d54392de-df4c-4192-fd55-4fc40a233af5"
      },
      "execution_count": 4,
      "outputs": [
        {
          "output_type": "stream",
          "name": "stdout",
          "text": [
            "Number of classes: 41\n"
          ]
        }
      ]
    },
    {
      "cell_type": "code",
      "source": [
        "# MODEL_NAME = \"dmis-lab/biobert-v1.1\"\n",
        "# tokenizer = BertTokenizer.from_pretrained(MODEL_NAME)\n",
        "# model = BertForSequenceClassification.from_pretrained(MODEL_NAME, attn_implementation='eager',num_labels=num_classes, output_attentions=True)\n",
        "# device = torch.device(\"cuda\") if torch.cuda.is_available() else torch.device(\"cpu\")\n",
        "# print(f\"Using device: {device}\")\n",
        "# model.to(device)\n",
        "\n",
        "\n",
        "tokenizer = BertTokenizer.from_pretrained(\"/content/drive/MyDrive/MT/trained_biobert_tokenizer\")\n",
        "model = BertForSequenceClassification.from_pretrained(\"/content/drive/MyDrive/MT/trained_biobert_model\",\n",
        "                                                      attn_implementation='eager',num_labels=num_classes, output_attentions=True)\n",
        "device = torch.device(\"cuda\") if torch.cuda.is_available() else torch.device(\"cpu\")\n",
        "print(f\"Using device: {device}\")\n",
        "model.to(device)\n"
      ],
      "metadata": {
        "colab": {
          "base_uri": "https://localhost:8080/"
        },
        "id": "kbOC_BEK9U7-",
        "outputId": "309e04d8-f0f1-4bce-8b9a-94037fa73882"
      },
      "execution_count": 6,
      "outputs": [
        {
          "output_type": "stream",
          "name": "stdout",
          "text": [
            "Using device: cuda\n"
          ]
        },
        {
          "output_type": "execute_result",
          "data": {
            "text/plain": [
              "BertForSequenceClassification(\n",
              "  (bert): BertModel(\n",
              "    (embeddings): BertEmbeddings(\n",
              "      (word_embeddings): Embedding(28996, 768, padding_idx=0)\n",
              "      (position_embeddings): Embedding(512, 768)\n",
              "      (token_type_embeddings): Embedding(2, 768)\n",
              "      (LayerNorm): LayerNorm((768,), eps=1e-12, elementwise_affine=True)\n",
              "      (dropout): Dropout(p=0.1, inplace=False)\n",
              "    )\n",
              "    (encoder): BertEncoder(\n",
              "      (layer): ModuleList(\n",
              "        (0-11): 12 x BertLayer(\n",
              "          (attention): BertAttention(\n",
              "            (self): BertSelfAttention(\n",
              "              (query): Linear(in_features=768, out_features=768, bias=True)\n",
              "              (key): Linear(in_features=768, out_features=768, bias=True)\n",
              "              (value): Linear(in_features=768, out_features=768, bias=True)\n",
              "              (dropout): Dropout(p=0.1, inplace=False)\n",
              "            )\n",
              "            (output): BertSelfOutput(\n",
              "              (dense): Linear(in_features=768, out_features=768, bias=True)\n",
              "              (LayerNorm): LayerNorm((768,), eps=1e-12, elementwise_affine=True)\n",
              "              (dropout): Dropout(p=0.1, inplace=False)\n",
              "            )\n",
              "          )\n",
              "          (intermediate): BertIntermediate(\n",
              "            (dense): Linear(in_features=768, out_features=3072, bias=True)\n",
              "            (intermediate_act_fn): GELUActivation()\n",
              "          )\n",
              "          (output): BertOutput(\n",
              "            (dense): Linear(in_features=3072, out_features=768, bias=True)\n",
              "            (LayerNorm): LayerNorm((768,), eps=1e-12, elementwise_affine=True)\n",
              "            (dropout): Dropout(p=0.1, inplace=False)\n",
              "          )\n",
              "        )\n",
              "      )\n",
              "    )\n",
              "    (pooler): BertPooler(\n",
              "      (dense): Linear(in_features=768, out_features=768, bias=True)\n",
              "      (activation): Tanh()\n",
              "    )\n",
              "  )\n",
              "  (dropout): Dropout(p=0.1, inplace=False)\n",
              "  (classifier): Linear(in_features=768, out_features=41, bias=True)\n",
              ")"
            ]
          },
          "metadata": {},
          "execution_count": 6
        }
      ]
    },
    {
      "cell_type": "code",
      "source": [
        "class CustomTextDataset(Dataset):\n",
        "    \"\"\"Custom Dataset class for text data.\"\"\"\n",
        "\n",
        "    def __init__(self, dataframe: pd.DataFrame, tokenizer: BertTokenizer, max_length: int):\n",
        "        \"\"\"\n",
        "        Initializes the dataset with the DataFrame, tokenizer, and max length.\n",
        "\n",
        "        Args:\n",
        "            dataframe (pd.DataFrame): DataFrame containing the symptoms and prognosis.\n",
        "            tokenizer (AutoTokenizer): Tokenizer for the specific transformer model.\n",
        "            max_length (int): Maximum length of the tokenized input.\n",
        "        \"\"\"\n",
        "        self.tokenizer = tokenizer\n",
        "        self.texts = dataframe['symptoms'].astype(str).tolist()  # Convert to list for easier indexing\n",
        "        self.labels = dataframe['prognosis'].values\n",
        "        self.max_length = max_length\n",
        "\n",
        "    def __len__(self) -> int:\n",
        "        \"\"\"Returns the total number of samples in the dataset.\"\"\"\n",
        "        return len(self.texts)\n",
        "\n",
        "    def __getitem__(self, index: int) -> Dict[str, torch.Tensor]:\n",
        "        \"\"\"Generates one sample of data.\"\"\"\n",
        "        text = self.texts[index]\n",
        "        label = self.labels[index]\n",
        "\n",
        "        # Tokenize the text\n",
        "        encoding = self.tokenizer.encode_plus(\n",
        "            text,\n",
        "            add_special_tokens=True,\n",
        "            max_length=self.max_length,\n",
        "            padding='max_length',\n",
        "            truncation=True,\n",
        "            return_tensors=\"pt\"  # Returns PyTorch tensors\n",
        "        )\n",
        "\n",
        "        return {\n",
        "            'input_ids': encoding['input_ids'].squeeze(0),  # Remove the extra dimension\n",
        "            'attention_mask': encoding['attention_mask'].squeeze(0),  # Remove the extra dimension\n",
        "            'labels': torch.tensor(label, dtype=torch.long)  # Ensure label is a tensor\n",
        "        }\n"
      ],
      "metadata": {
        "id": "yBvthVaiDhW9"
      },
      "execution_count": 7,
      "outputs": []
    },
    {
      "cell_type": "code",
      "source": [
        "def create_data_loaders(train_df: pd.DataFrame, test_df: pd.DataFrame, tokenizer: BertTokenizer, batch_size: int = 16) -> Tuple[DataLoader, DataLoader]:\n",
        "    \"\"\"Create DataLoaders for training and testing.\"\"\"\n",
        "    train_dataset = CustomTextDataset(train_df, tokenizer, max_length=512)\n",
        "    test_dataset = CustomTextDataset(test_df, tokenizer, max_length=512)\n",
        "\n",
        "    train_loader = DataLoader(train_dataset, batch_size=batch_size, shuffle=True)\n",
        "    test_loader = DataLoader(test_dataset, batch_size=batch_size)\n",
        "\n",
        "    return train_loader, test_loader"
      ],
      "metadata": {
        "id": "o6saBGwnEDzm"
      },
      "execution_count": 8,
      "outputs": []
    },
    {
      "cell_type": "code",
      "source": [
        "# Create data loaders\n",
        "train_loader, test_loader = create_data_loaders(train_df, test_df, tokenizer)"
      ],
      "metadata": {
        "id": "OexPVThIEbgc"
      },
      "execution_count": 9,
      "outputs": []
    },
    {
      "cell_type": "code",
      "source": [
        "def train_model(model: BertForSequenceClassification, train_loader: DataLoader, num_epochs: int = 3):\n",
        "    \"\"\"Train the model.\"\"\"\n",
        "    optimizer = torch.optim.AdamW(model.parameters(), lr=2e-5)\n",
        "\n",
        "    for epoch in range(num_epochs):\n",
        "        model.train()\n",
        "        total_loss = 0\n",
        "        for batch in train_loader:\n",
        "            optimizer.zero_grad()\n",
        "            input_ids = batch['input_ids'].to(device)  # Move to the same device as the model\n",
        "            attention_mask = batch['attention_mask'].to(device)\n",
        "            labels = batch['labels'].to(device)\n",
        "\n",
        "            try:\n",
        "                outputs = model(input_ids, attention_mask=attention_mask, labels=labels)\n",
        "            except RuntimeError as e:\n",
        "                print(f\"Error during forward pass: {e}\")\n",
        "                continue\n",
        "\n",
        "            loss = outputs.loss\n",
        "            total_loss += loss.item()\n",
        "            loss.backward()\n",
        "            optimizer.step()\n",
        "\n",
        "        print(f\"Epoch {epoch+1}/{num_epochs}, Loss: {total_loss/len(train_loader):.4f}\")"
      ],
      "metadata": {
        "id": "W3lIo_ATEkft"
      },
      "execution_count": null,
      "outputs": []
    },
    {
      "cell_type": "code",
      "source": [
        "# Train the model\n",
        "train_model(model, train_loader)"
      ],
      "metadata": {
        "id": "GiOB6932FmFg",
        "colab": {
          "base_uri": "https://localhost:8080/"
        },
        "outputId": "45f5377f-97f9-4e44-c0d6-880b0cfd8d6e"
      },
      "execution_count": null,
      "outputs": [
        {
          "output_type": "stream",
          "name": "stderr",
          "text": [
            "BertSdpaSelfAttention is used but `torch.nn.functional.scaled_dot_product_attention` does not support non-absolute `position_embedding_type` or `output_attentions=True` or `head_mask`. Falling back to the manual attention implementation, but specifying the manual implementation will be required from Transformers version v5.0.0 onwards. This warning can be removed using the argument `attn_implementation=\"eager\"` when loading the model.\n"
          ]
        },
        {
          "output_type": "stream",
          "name": "stdout",
          "text": [
            "Epoch 1/3, Loss: 2.4730\n",
            "Epoch 2/3, Loss: 0.5068\n",
            "Epoch 3/3, Loss: 0.1641\n"
          ]
        }
      ]
    },
    {
      "cell_type": "code",
      "execution_count": 10,
      "metadata": {
        "id": "0dpUvDCw3XDz"
      },
      "outputs": [],
      "source": [
        "def evaluate_model(model: BertForSequenceClassification, test_loader: DataLoader, label_encoder: LabelEncoder):\n",
        "    \"\"\"Evaluate the model.\"\"\"\n",
        "    model.eval()\n",
        "    predictions = []\n",
        "    true_labels = []\n",
        "\n",
        "    with torch.no_grad():\n",
        "        for batch in test_loader:\n",
        "            input_ids = batch['input_ids'].to(device)\n",
        "            attention_mask = batch['attention_mask'].to(device)\n",
        "            labels = batch['labels'].to(device)\n",
        "\n",
        "            outputs = model(input_ids, attention_mask=attention_mask)\n",
        "            _, preds = torch.max(outputs.logits, dim=1)\n",
        "\n",
        "            predictions.extend(preds.cpu().tolist())\n",
        "            true_labels.extend(labels.cpu().tolist())\n",
        "\n",
        "    accuracy = accuracy_score(true_labels, predictions)\n",
        "    report = classification_report(true_labels, predictions, target_names=label_encoder.classes_)\n",
        "\n",
        "    print(f\"Accuracy: {accuracy:.4f}\")\n",
        "    print(\"Classification Report:\")\n",
        "    print(report)\n"
      ]
    },
    {
      "cell_type": "code",
      "source": [
        "# Evaluate the model\n",
        "evaluate_model(model, test_loader, label_encoder)"
      ],
      "metadata": {
        "colab": {
          "base_uri": "https://localhost:8080/"
        },
        "id": "YN53c8H6QRGk",
        "outputId": "2401605a-884a-4c98-b046-d19d4c6a114e"
      },
      "execution_count": 11,
      "outputs": [
        {
          "output_type": "stream",
          "name": "stdout",
          "text": [
            "Accuracy: 1.0000\n",
            "Classification Report:\n",
            "                                         precision    recall  f1-score   support\n",
            "\n",
            "(vertigo) Paroymsal  Positional Vertigo       1.00      1.00      1.00        25\n",
            "                                   AIDS       1.00      1.00      1.00        24\n",
            "                                   Acne       1.00      1.00      1.00        24\n",
            "                    Alcoholic hepatitis       1.00      1.00      1.00        25\n",
            "                                Allergy       1.00      1.00      1.00        24\n",
            "                              Arthritis       1.00      1.00      1.00        24\n",
            "                       Bronchial Asthma       1.00      1.00      1.00        25\n",
            "                   Cervical spondylosis       1.00      1.00      1.00        24\n",
            "                            Chicken pox       1.00      1.00      1.00        24\n",
            "                    Chronic cholestasis       1.00      1.00      1.00        25\n",
            "                            Common Cold       1.00      1.00      1.00        24\n",
            "                                 Dengue       1.00      1.00      1.00        24\n",
            "                              Diabetes        1.00      1.00      1.00        24\n",
            "           Dimorphic hemmorhoids(piles)       1.00      1.00      1.00        24\n",
            "                          Drug Reaction       1.00      1.00      1.00        24\n",
            "                       Fungal infection       1.00      1.00      1.00        25\n",
            "                                   GERD       1.00      1.00      1.00        24\n",
            "                        Gastroenteritis       1.00      1.00      1.00        24\n",
            "                           Heart attack       1.00      1.00      1.00        24\n",
            "                            Hepatitis B       1.00      1.00      1.00        24\n",
            "                            Hepatitis C       1.00      1.00      1.00        25\n",
            "                            Hepatitis D       1.00      1.00      1.00        24\n",
            "                            Hepatitis E       1.00      1.00      1.00        25\n",
            "                          Hypertension        1.00      1.00      1.00        24\n",
            "                        Hyperthyroidism       1.00      1.00      1.00        25\n",
            "                           Hypoglycemia       1.00      1.00      1.00        24\n",
            "                         Hypothyroidism       1.00      1.00      1.00        24\n",
            "                               Impetigo       1.00      1.00      1.00        24\n",
            "                               Jaundice       1.00      1.00      1.00        24\n",
            "                                Malaria       1.00      1.00      1.00        24\n",
            "                               Migraine       1.00      1.00      1.00        24\n",
            "                        Osteoarthristis       1.00      1.00      1.00        24\n",
            "           Paralysis (brain hemorrhage)       1.00      1.00      1.00        24\n",
            "                    Peptic ulcer diseae       1.00      1.00      1.00        24\n",
            "                              Pneumonia       1.00      1.00      1.00        24\n",
            "                              Psoriasis       1.00      1.00      1.00        24\n",
            "                           Tuberculosis       1.00      1.00      1.00        24\n",
            "                                Typhoid       1.00      1.00      1.00        24\n",
            "                Urinary tract infection       1.00      1.00      1.00        24\n",
            "                         Varicose veins       1.00      1.00      1.00        25\n",
            "                            hepatitis A       1.00      1.00      1.00        24\n",
            "\n",
            "                               accuracy                           1.00       993\n",
            "                              macro avg       1.00      1.00      1.00       993\n",
            "                           weighted avg       1.00      1.00      1.00       993\n",
            "\n"
          ]
        }
      ]
    },
    {
      "cell_type": "code",
      "source": [
        "def get_predictions_with_probabilities(text: str, model: BertForSequenceClassification, tokenizer: BertTokenizer, label_encoder: LabelEncoder):\n",
        "    \"\"\"Get predictions with probabilities for a given text.\"\"\"\n",
        "    inputs = tokenizer(text, return_tensors=\"pt\", padding=True, truncation=True, max_length=512).to(device)\n",
        "\n",
        "    model.eval()\n",
        "    with torch.no_grad():\n",
        "        outputs = model(**inputs)\n",
        "\n",
        "    logits = outputs.logits\n",
        "    probs = F.softmax(logits, dim=-1)\n",
        "\n",
        "    predicted_class = probs.argmax(dim=-1).item()\n",
        "    predicted_label = label_encoder.inverse_transform([predicted_class])[0]\n",
        "\n",
        "    probs_np = probs.cpu().numpy()[0]\n",
        "    labels = label_encoder.inverse_transform(range(len(probs_np)))\n",
        "    df = pd.DataFrame({'Label': labels, 'Probability': probs_np})\n",
        "    df = df.sort_values('Probability', ascending=False).reset_index(drop=True)\n",
        "    return predicted_label, df"
      ],
      "metadata": {
        "id": "jt2YB6cl5yZe"
      },
      "execution_count": 12,
      "outputs": []
    },
    {
      "cell_type": "code",
      "source": [
        "# Example usage of prediction and attention visualization\n",
        "text_example = \"Patient reports severe headache and chest pain.\"\n",
        "label, prob = get_predictions_with_probabilities(text_example, model, tokenizer, label_encoder)\n",
        "print(f\"Predicted prognosis: {label}\")\n",
        "print(f\"\\nProbabilities: {prob}\")"
      ],
      "metadata": {
        "colab": {
          "base_uri": "https://localhost:8080/"
        },
        "id": "T0QPpbEpQ5El",
        "outputId": "781d17ee-3064-41ab-df0c-64340d68492e"
      },
      "execution_count": 13,
      "outputs": [
        {
          "output_type": "stream",
          "name": "stdout",
          "text": [
            "Predicted prognosis: Heart attack\n",
            "\n",
            "Probabilities:                                       Label  Probability\n",
            "0                              Heart attack     0.275572\n",
            "1                                   Malaria     0.053816\n",
            "2                             Hypertension      0.053339\n",
            "3                                      Acne     0.047657\n",
            "4                   Urinary tract infection     0.046814\n",
            "5              Paralysis (brain hemorrhage)     0.039463\n",
            "6                                      GERD     0.038005\n",
            "7                          Fungal infection     0.034181\n",
            "8                           Gastroenteritis     0.025469\n",
            "9                                 Diabetes      0.025299\n",
            "10                     Cervical spondylosis     0.024131\n",
            "11                          Osteoarthristis     0.023640\n",
            "12                      Peptic ulcer diseae     0.022713\n",
            "13                                Psoriasis     0.022490\n",
            "14             Dimorphic hemmorhoids(piles)     0.020731\n",
            "15                                Pneumonia     0.020179\n",
            "16                                Arthritis     0.017314\n",
            "17                                  Allergy     0.015565\n",
            "18                         Bronchial Asthma     0.014574\n",
            "19                           Varicose veins     0.013960\n",
            "20                                 Migraine     0.013180\n",
            "21                                     AIDS     0.012398\n",
            "22                              hepatitis A     0.012161\n",
            "23                      Alcoholic hepatitis     0.011706\n",
            "24                            Drug Reaction     0.011551\n",
            "25                                 Impetigo     0.010801\n",
            "26                             Tuberculosis     0.010562\n",
            "27                              Common Cold     0.010273\n",
            "28                           Hypothyroidism     0.008050\n",
            "29                                  Typhoid     0.007108\n",
            "30                              Hepatitis E     0.006722\n",
            "31                             Hypoglycemia     0.006691\n",
            "32                          Hyperthyroidism     0.006362\n",
            "33                              Hepatitis D     0.006163\n",
            "34  (vertigo) Paroymsal  Positional Vertigo     0.005491\n",
            "35                              Chicken pox     0.005293\n",
            "36                                   Dengue     0.004880\n",
            "37                      Chronic cholestasis     0.004446\n",
            "38                                 Jaundice     0.004113\n",
            "39                              Hepatitis C     0.003867\n",
            "40                              Hepatitis B     0.003272\n"
          ]
        }
      ]
    },
    {
      "cell_type": "code",
      "source": [
        "def plot_attention_scores(text: str, model: BertForSequenceClassification, tokenizer: BertTokenizer, layer_num: int = 0, head_num: int = 0):\n",
        "    \"\"\"Plot attention scores for a given text.\"\"\"\n",
        "    inputs = tokenizer(text, return_tensors=\"pt\", padding=True, truncation=True, max_length=512).to(device)\n",
        "\n",
        "    model.eval()\n",
        "    with torch.no_grad():\n",
        "        outputs = model(**inputs, output_attentions=True)\n",
        "\n",
        "    attentions = outputs.attentions[layer_num][0, head_num].cpu().numpy()\n",
        "    tokens = tokenizer.convert_ids_to_tokens(inputs['input_ids'][0])\n",
        "\n",
        "    plt.figure(figsize=(10, 8))\n",
        "    sns.heatmap(attentions, xticklabels=tokens, yticklabels=tokens, cmap='coolwarm')\n",
        "    plt.title(f'Attention scores (Layer {layer_num}, Head {head_num})')\n",
        "    plt.show()"
      ],
      "metadata": {
        "id": "gKNIJxXXQ6KD"
      },
      "execution_count": 14,
      "outputs": []
    },
    {
      "cell_type": "code",
      "source": [
        "plot_attention_scores(text_example, model, tokenizer, layer_num= -1, head_num= -1)"
      ],
      "metadata": {
        "colab": {
          "base_uri": "https://localhost:8080/",
          "height": 753
        },
        "id": "PeDZx2fZRlPu",
        "outputId": "179e32ce-ac76-432a-dea3-73e3c58c1d44"
      },
      "execution_count": 21,
      "outputs": [
        {
          "output_type": "display_data",
          "data": {
            "text/plain": [
              "<Figure size 1000x800 with 2 Axes>"
            ],
            "image/png": "[encoded data removed]"
          },
          "metadata": {}
        }
      ]
    },
    {
      "cell_type": "code",
      "source": [
        "def visualize_attention_non_heatmap(text: str, model: BertForSequenceClassification, tokenizer: BertTokenizer, layer_num: int = 0, head_num: int = 0):\n",
        "    \"\"\"\n",
        "    Visualize BERT attention without using a heatmap.\n",
        "\n",
        "    Args:\n",
        "    model (BertForSequenceClassification): The BERT model\n",
        "    tokenizer (BertTokenizer): The BERT tokenizer\n",
        "    text (str): Input sentence\n",
        "    layer_num (int): Layer number to visualize (default: last layer)\n",
        "    head_num (int): Attention head to visualize (default: 0)\n",
        "    \"\"\"\n",
        "    inputs = tokenizer(text, return_tensors=\"pt\", padding=True, truncation=True, max_length=512).to(device)\n",
        "\n",
        "    model.eval()\n",
        "    with torch.no_grad():\n",
        "        outputs = model(**inputs, output_attentions=True)\n",
        "\n",
        "    attentions = outputs.attentions[layer_num][0, head_num].cpu().numpy()\n",
        "    tokens = tokenizer.convert_ids_to_tokens(inputs['input_ids'][0])\n",
        "\n",
        "    # Plot\n",
        "    plt.figure(figsize=(10, 6))\n",
        "    for i, token in enumerate(tokens):\n",
        "        plt.text(0, len(tokens) - i - 1, token, ha='right', va='center')\n",
        "        plt.barh(len(tokens) - i - 1, attentions[i], alpha=0.5)\n",
        "\n",
        "    plt.title(f\"BERT Attention Visualization (Layer {layer_num}, Head {head_num})\")\n",
        "    plt.xlabel(\"Attention Score\")\n",
        "    plt.ylabel(\"Tokens\")\n",
        "    plt.tight_layout()\n",
        "    plt.show()"
      ],
      "metadata": {
        "id": "wUZtaLM3SoR4"
      },
      "execution_count": 16,
      "outputs": []
    },
    {
      "cell_type": "code",
      "source": [
        "visualize_attention_non_heatmap(text_example, model, tokenizer, layer_num=-1,  head_num= -1)"
      ],
      "metadata": {
        "colab": {
          "base_uri": "https://localhost:8080/",
          "height": 561
        },
        "id": "YICuI_a_XAno",
        "outputId": "b2282839-640a-49fb-bc87-7c637979421c"
      },
      "execution_count": 22,
      "outputs": [
        {
          "output_type": "display_data",
          "data": {
            "text/plain": [
              "<Figure size 1000x600 with 1 Axes>"
            ],
            "image/png": "[encoded data removed]"
          },
          "metadata": {}
        }
      ]
    },
    {
      "cell_type": "code",
      "source": [
        "# Specify the paths for saving the model and tokenizer\n",
        "model_save_path = \"/content/drive/MyDrive/MT/trained_biobert_model\"\n",
        "tokenizer_save_path = '/content/drive/MyDrive/MT/trained_biobert_tokenizer'\n",
        "\n",
        "# Saving the model and tokenizer\n",
        "model.save_pretrained(model_save_path)\n",
        "tokenizer.save_pretrained(tokenizer_save_path)\n",
        "\n",
        "print(\"Model and tokenizer saved locally!\")"
      ],
      "metadata": {
        "colab": {
          "base_uri": "https://localhost:8080/"
        },
        "id": "0c_nX1RGS2Tl",
        "outputId": "12226bdf-ff62-4cc4-fd9b-75e76602a32b"
      },
      "execution_count": null,
      "outputs": [
        {
          "output_type": "stream",
          "name": "stdout",
          "text": [
            "Model and tokenizer saved locally!\n"
          ]
        }
      ]
    }
  ]
}